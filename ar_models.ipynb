{
 "cells": [
  {
   "cell_type": "markdown",
   "id": "7be6512a-828b-44c6-8e10-bb6bc4e16dd5",
   "metadata": {},
   "source": [
    "## Autoregressive Models Tutorial\n",
    "\n",
    "The purpose of this notebook is to demonstrate manual coding of autoregressive models. The `AutoReg` function from `statsmodels` provides a relatively simple interface for fitting models. However, it is not straightforward to add weights or make some other custom loss function. The point is to use the linear regression model from `sklearn`, so weights and custom loss can easily be added. \n",
    "\n",
    "For a few different AR models we will reproduce the results with linear regression."
   ]
  },
  {
   "cell_type": "code",
   "execution_count": 1,
   "id": "c8eb1ee2-ebe7-4c6d-93e2-f85175629a6b",
   "metadata": {},
   "outputs": [],
   "source": [
    "import sys\n",
    "import numpy as np\n",
    "from numpy import random\n",
    "from scipy.stats import norm\n",
    "import matplotlib.pyplot as plt\n",
    "import seaborn as sns\n",
    "from sklearn.linear_model import LinearRegression\n",
    "import os\n",
    "import os.path as osp\n",
    "import pandas as pd\n",
    "from statsmodels.tsa.ar_model import AutoReg\n",
    "\n",
    "# Custom modules\n",
    "sys.path.append(osp.join(os.getcwd(),\"src\")) # Add src subdirectory to python path\n",
    "from data_funcs import synthetic_data"
   ]
  },
  {
   "cell_type": "code",
   "execution_count": 2,
   "id": "f7291fd7-fd45-40fe-a195-3c740ae96a5d",
   "metadata": {},
   "outputs": [],
   "source": [
    "# Generate Data\n",
    "# Sim data, no rain for simplicity\n",
    "random.seed(456)\n",
    "\n",
    "hours = 400 # Total number of time steps\n",
    "dat = synthetic_data(max_rain = 0, data_noise = .5)  # Sim data from FMDA project code\n",
    "fm = dat['fm'][0:hours]\n",
    "h=np.arange(0, hours)\n",
    "\n",
    "# Manually edit sim data to illustrate point about ROS\n",
    "fm = fm + 20 - .07*np.arange(0, hours) # Shift up by 20, add decreasing trend\n",
    "\n",
    "# Split to training and test\n",
    "# Model 1 fit with OLS on FM\n",
    "h = h.reshape(-1, 1)\n",
    "h2 = 300\n",
    "fmtr=fm[0:h2]\n",
    "fmte=fm[h2:len(fm)]"
   ]
  },
  {
   "cell_type": "markdown",
   "id": "06249fa5-5387-4d13-b17f-50acc29eff0c",
   "metadata": {},
   "source": [
    "## Lag 1 AR model with constant trend"
   ]
  },
  {
   "cell_type": "code",
   "execution_count": 3,
   "id": "057d99c1-57ed-454e-a565-08b2ea22c291",
   "metadata": {},
   "outputs": [],
   "source": [
    "## Autoreg Model, lag 1 and default of constant trend \n",
    "ar1 = AutoReg(fmtr, lags=1).fit() # ROS is modeled response\n",
    "fit1 = ar1.predict(start=0, end=h2-1, dynamic=False) # ignore NAN values at beginning when lags can't be calculated\n",
    "fit1 = fit1[1:h2]  # ignore NAN values at beginning when lags can't be calculated\n",
    "preds1 = ar1.predict(start=len(fmtr), end=len(fmtr)+len(fmte)-1, dynamic=False)\n",
    "\n",
    "## Reproduce with LinearRegression, with default constant mean (same as const trend)\n",
    "\n",
    "X = pd.DataFrame({'rs': fmtr})\n",
    "X['lag1'] = X['rs'].shift(1)\n",
    "X = X.drop(['rs'], axis=1)\n",
    "X = X.dropna().to_numpy()\n",
    "\n",
    "mod = LinearRegression().fit(X, np.delete(fmtr, 0))\n",
    "fits = mod.predict(X)\n",
    "\n",
    "Xte = pd.DataFrame({'rs': fmte})\n",
    "Xte['lag1'] = Xte['rs'].shift(1)\n",
    "Xte = Xte.drop(['rs'], axis=1)\n",
    "Xte = Xte.dropna().to_numpy()\n",
    "\n",
    "preds = mod.predict(Xte)"
   ]
  },
  {
   "cell_type": "markdown",
   "id": "62006e45-1fd0-451f-af00-bf09a85e4846",
   "metadata": {},
   "source": [
    "We then compare the results up to rounding error. We expect a value close to machine epsilon, or in the $10^{-18}$ range.|"
   ]
  },
  {
   "cell_type": "code",
   "execution_count": 9,
   "id": "4d56de5f-e665-40f9-b2d5-bf33fa39ac8c",
   "metadata": {},
   "outputs": [
    {
     "name": "stdout",
     "output_type": "stream",
     "text": [
      "Training Max Difference: 2.842170943040401e-14\n"
     ]
    },
    {
     "ename": "ValueError",
     "evalue": "operands could not be broadcast together with shapes (99,) (100,) ",
     "output_type": "error",
     "traceback": [
      "\u001b[1;31m---------------------------------------------------------------------------\u001b[0m",
      "\u001b[1;31mValueError\u001b[0m                                Traceback (most recent call last)",
      "Cell \u001b[1;32mIn[9], line 6\u001b[0m\n\u001b[0;32m      3\u001b[0m     \u001b[38;5;28;01mreturn\u001b[39;00m np\u001b[38;5;241m.\u001b[39mmax(np\u001b[38;5;241m.\u001b[39mabs(x\u001b[38;5;241m-\u001b[39my))\n\u001b[0;32m      5\u001b[0m \u001b[38;5;28mprint\u001b[39m(\u001b[38;5;124mf\u001b[39m\u001b[38;5;124m'\u001b[39m\u001b[38;5;124mTraining Max Difference: \u001b[39m\u001b[38;5;132;01m{\u001b[39;00mmax_err(fits,\u001b[38;5;250m \u001b[39mfit1)\u001b[38;5;132;01m}\u001b[39;00m\u001b[38;5;124m'\u001b[39m)\n\u001b[1;32m----> 6\u001b[0m \u001b[38;5;28mprint\u001b[39m(\u001b[38;5;124mf\u001b[39m\u001b[38;5;124m'\u001b[39m\u001b[38;5;124mTraining Max Difference: \u001b[39m\u001b[38;5;132;01m{\u001b[39;00m\u001b[43mmax_err\u001b[49m\u001b[43m(\u001b[49m\u001b[43mpreds\u001b[49m\u001b[43m,\u001b[49m\u001b[38;5;250;43m \u001b[39;49m\u001b[43mpreds1\u001b[49m\u001b[43m)\u001b[49m\u001b[38;5;132;01m}\u001b[39;00m\u001b[38;5;124m'\u001b[39m)\n",
      "Cell \u001b[1;32mIn[9], line 3\u001b[0m, in \u001b[0;36mmax_err\u001b[1;34m(x, y)\u001b[0m\n\u001b[0;32m      2\u001b[0m \u001b[38;5;28;01mdef\u001b[39;00m \u001b[38;5;21mmax_err\u001b[39m(x, y):\n\u001b[1;32m----> 3\u001b[0m     \u001b[38;5;28;01mreturn\u001b[39;00m np\u001b[38;5;241m.\u001b[39mmax(np\u001b[38;5;241m.\u001b[39mabs(\u001b[43mx\u001b[49m\u001b[38;5;241;43m-\u001b[39;49m\u001b[43my\u001b[49m))\n",
      "\u001b[1;31mValueError\u001b[0m: operands could not be broadcast together with shapes (99,) (100,) "
     ]
    }
   ],
   "source": [
    "## Compare Results up to rounding error\n",
    "def max_err(x, y):\n",
    "    return np.max(np.abs(x-y))\n",
    "\n",
    "print(f'Training Max Difference: {max_err(fits, fit1)}')\n",
    "print(f'Training Max Difference: {max_err(preds, preds1)}')"
   ]
  },
  {
   "cell_type": "code",
   "execution_count": null,
   "id": "3a6964d4-1718-4839-b5fa-9e373f6519db",
   "metadata": {},
   "outputs": [],
   "source": []
  }
 ],
 "metadata": {
  "kernelspec": {
   "display_name": "Python 3 (ipykernel)",
   "language": "python",
   "name": "python3"
  },
  "language_info": {
   "codemirror_mode": {
    "name": "ipython",
    "version": 3
   },
   "file_extension": ".py",
   "mimetype": "text/x-python",
   "name": "python",
   "nbconvert_exporter": "python",
   "pygments_lexer": "ipython3",
   "version": "3.9.12"
  }
 },
 "nbformat": 4,
 "nbformat_minor": 5
}
