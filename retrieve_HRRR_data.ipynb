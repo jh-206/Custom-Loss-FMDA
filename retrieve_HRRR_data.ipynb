{
 "cells": [
  {
   "cell_type": "markdown",
   "id": "d9ad052b-cf41-493c-a3ab-615b6cde4f91",
   "metadata": {},
   "source": [
    "# Retrieve HRRR Atmospheric Data\n",
    "\n",
    "The purpose of this notebook is to collect atmospheric data at the locations of RAWS stations in Colorado for a given analysis period. The atmospheric data collected will be the fields related to running FMDA models: temperature, relative humidity, solar radiation, wind speed, and rain. These atmospheric data fields are also observed at the RAWS locations, but the satellite based forecasts from HRRR will be used in actual fire modeling since they can be gathered at any location within the continental US (and Alaska, but those are entirely different models and data files).\n",
    "\n",
    "* **Spatial Domain**: All RAWS stations in CO with complete atmospheric data.\n",
    "* **Time Period**: All data from May-September 2023\n",
    "\n",
    "The time period is 5 months of data that correspond to Colorado's traditional fire season, though this has been extended with climate change.\n",
    "\n",
    "Given a list of lat/lon coordinate pairs from the RAWS stations and a time stamp, get the corresponding HRRR atmospheric data."
   ]
  },
  {
   "cell_type": "code",
   "execution_count": null,
   "id": "911702e8-8450-4d72-99a8-45ff56698f1f",
   "metadata": {},
   "outputs": [],
   "source": [
    "import pandas as pd\n",
    "import numpy as np"
   ]
  },
  {
   "cell_type": "code",
   "execution_count": null,
   "id": "fb06f20b-ec77-4ec8-b871-b5dcf8d0579f",
   "metadata": {},
   "outputs": [],
   "source": [
    "raws=pd.read_pickle('data/raws_dat.pickle')\n",
    "coords = pd.DataFrame({'lons': np.zeros(len(raws)),\n",
    "                       'lats': np.zeros(len(raws))})\n",
    "\n",
    "# Get Lat/lons\n",
    "for i in range(0, len(raws)):\n",
    "    k = list(raws.keys())[i]\n",
    "    coords.loc[i,('lons')]=raws[k]['lon']\n",
    "    coords.loc[i,('lats')]=raws[k]['lat']\n",
    "print(coords)"
   ]
  },
  {
   "cell_type": "code",
   "execution_count": null,
   "id": "d7e3300f-3fe1-42fd-9e38-2696ddf423a4",
   "metadata": {},
   "outputs": [],
   "source": []
  }
 ],
 "metadata": {
  "kernelspec": {
   "display_name": "Python 3 (ipykernel)",
   "language": "python",
   "name": "python3"
  },
  "language_info": {
   "codemirror_mode": {
    "name": "ipython",
    "version": 3
   },
   "file_extension": ".py",
   "mimetype": "text/x-python",
   "name": "python",
   "nbconvert_exporter": "python",
   "pygments_lexer": "ipython3",
   "version": "3.9.12"
  }
 },
 "nbformat": 4,
 "nbformat_minor": 5
}
