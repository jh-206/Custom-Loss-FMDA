{
 "cells": [
  {
   "cell_type": "code",
   "execution_count": null,
   "id": "b9bb1bcd-e6c4-41f9-9446-36986c729eb4",
   "metadata": {},
   "outputs": [],
   "source": [
    "import sys\n",
    "sys.path.append('../src')\n",
    "import numpy as np\n",
    "import pandas as pd\n",
    "from statsmodels.tsa.ar_model import AutoReg\n",
    "import reproducibility\n",
    "from data_funcs import train_test_split_spacetime\n",
    "from metrics import rmse"
   ]
  },
  {
   "cell_type": "markdown",
   "id": "025fb7f8-7316-4445-8c81-b80cd2d0c633",
   "metadata": {},
   "source": [
    "## Model Description\n",
    "\n",
    "The `input_shape` argument specifies (`time_steps`, `n_features`)"
   ]
  },
  {
   "cell_type": "markdown",
   "id": "34f5f722-ba6f-4d25-9fff-35350fb27c1e",
   "metadata": {},
   "source": [
    "## Data Processing"
   ]
  },
  {
   "cell_type": "code",
   "execution_count": null,
   "id": "ed2224f6-b641-49fc-b27f-ca680d7febca",
   "metadata": {},
   "outputs": [],
   "source": [
    "# Get one timeseries of fuel moisture data\n",
    "df = pd.read_pickle(\"../data/rocky_2023_05-09.pkl\")\n",
    "# First STID from unique\n",
    "st = df.stid.unique()[0]\n",
    "fm = df.fm[df.stid == st].to_numpy()\n",
    "print(f\"Station: {st}\")\n",
    "print(f\"N observations: {len(fm)}\")\n",
    "\n",
    "h2 = int(len(fm)*.9) # index for train/test split\n",
    "train = fm[0:h2]\n",
    "test = fm[h2:len(fm)]\n",
    "\n",
    "print(f\"Length Train: {train.shape[0]}\")\n",
    "print(f\"Length Test: {test.shape[0]}\")"
   ]
  },
  {
   "cell_type": "markdown",
   "id": "6c7e1f50-1e13-4a96-902d-3048aa2e6922",
   "metadata": {},
   "source": [
    "## AR(1)"
   ]
  },
  {
   "cell_type": "code",
   "execution_count": null,
   "id": "2efac051-af25-43e6-a03c-d844141e0b27",
   "metadata": {},
   "outputs": [],
   "source": [
    "ar = AutoReg(train, lags=1).fit()"
   ]
  },
  {
   "cell_type": "code",
   "execution_count": null,
   "id": "b146863b-c7d4-407e-853f-f184683de481",
   "metadata": {},
   "outputs": [],
   "source": [
    "ar_summary = ar.summary()\n",
    "ar_summary"
   ]
  },
  {
   "cell_type": "code",
   "execution_count": null,
   "id": "db098002-1667-49bb-a0f0-d59d8a5a755a",
   "metadata": {},
   "outputs": [],
   "source": [
    "# Coefficients\n",
    "ar.params"
   ]
  },
  {
   "cell_type": "code",
   "execution_count": null,
   "id": "3ccfb3fc-e90b-433b-beed-cb6dff1975cd",
   "metadata": {},
   "outputs": [],
   "source": [
    "# Predictions\n",
    "preds = ar.predict(start=len(train), end=len(train)+len(test)-1, dynamic=False)\n",
    "\n",
    "print(f\"RMSE Test: {rmse(preds, test)}\")"
   ]
  },
  {
   "cell_type": "markdown",
   "id": "a516845f-6593-426e-a0e1-2f4e822c9795",
   "metadata": {},
   "source": [
    "## AR(1) with Features"
   ]
  },
  {
   "cell_type": "code",
   "execution_count": null,
   "id": "57435bd7-484f-494d-a3cd-baba321f59c0",
   "metadata": {},
   "outputs": [],
   "source": [
    "# Split train/test\n"
   ]
  },
  {
   "cell_type": "markdown",
   "id": "742f30e4-5353-4b70-aaa9-551257795ebd",
   "metadata": {},
   "source": [
    "## References\n"
   ]
  },
  {
   "cell_type": "code",
   "execution_count": null,
   "id": "086fad1f-f5dd-48ea-8c5a-efb7b23d2620",
   "metadata": {},
   "outputs": [],
   "source": []
  }
 ],
 "metadata": {
  "kernelspec": {
   "display_name": "Python 3 (ipykernel)",
   "language": "python",
   "name": "python3"
  },
  "language_info": {
   "codemirror_mode": {
    "name": "ipython",
    "version": 3
   },
   "file_extension": ".py",
   "mimetype": "text/x-python",
   "name": "python",
   "nbconvert_exporter": "python",
   "pygments_lexer": "ipython3",
   "version": "3.10.13"
  }
 },
 "nbformat": 4,
 "nbformat_minor": 5
}
