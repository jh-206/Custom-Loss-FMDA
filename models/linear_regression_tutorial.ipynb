{
 "cells": [
  {
   "cell_type": "markdown",
   "id": "9cb5913b-5128-4d9c-aea3-7f1b4de17b53",
   "metadata": {},
   "source": [
    "# Model Tutorial: Linear Regression\n",
    "\n",
    "The purpose of this notebook is to demonstrate how to train and predict linear regression models used in this project. First, we will demonstrate the basic code, and then reproduce the results using a custom class `LM` to make the code consistent for multiple models."
   ]
  },
  {
   "cell_type": "markdown",
   "id": "02810041-9418-48f8-b048-19b70377ddf1",
   "metadata": {},
   "source": [
    "## Model Description\n",
    "\n"
   ]
  },
  {
   "cell_type": "markdown",
   "id": "73df6ed3-e429-40d8-9606-c7e89e938c59",
   "metadata": {},
   "source": [
    "## Setup"
   ]
  },
  {
   "cell_type": "code",
   "execution_count": null,
   "id": "cff311aa-97f4-42b1-bbb6-1d6d88c48446",
   "metadata": {},
   "outputs": [],
   "source": [
    "import sys\n",
    "sys.path.append('../src')\n",
    "import pandas as pd\n",
    "import numpy as np\n",
    "from sklearn.linear_model import LinearRegression\n",
    "from sklearn.metrics import mean_squared_error, r2_score\n",
    "import tensorflow as tf\n",
    "import yaml\n",
    "# Local modules\n",
    "from data_funcs import train_test_split_spacetime\n",
    "from fmda_models import LM\n",
    "from metrics import ros, rmse\n",
    "import reproducibility"
   ]
  },
  {
   "cell_type": "markdown",
   "id": "f40f8fa4-70fb-4208-9abc-6ba9d930cd58",
   "metadata": {},
   "source": [
    "## Data Read and Split"
   ]
  },
  {
   "cell_type": "code",
   "execution_count": null,
   "id": "3166ba82-b66a-41ff-9a50-44089a0becea",
   "metadata": {},
   "outputs": [],
   "source": [
    "df = pd.read_pickle(\"../data/rocky_2023_05-09.pkl\")\n",
    "# Remove NA fm\n",
    "df = df.dropna()"
   ]
  },
  {
   "cell_type": "code",
   "execution_count": null,
   "id": "54a58222-172f-45d4-8343-eb34884253fe",
   "metadata": {},
   "outputs": [],
   "source": [
    "# Set seed for reproducibility\n",
    "reproducibility.set_seed(123)\n",
    "\n",
    "# Create Data\n",
    "X_train, X_test, y_train, y_test = train_test_split_spacetime(df)\n",
    "\n",
    "# Subset Columns\n",
    "X_train=X_train[[\"Ed\", \"Ew\", \"rain\", \"hour\"]]\n",
    "X_test=X_test[[\"Ed\", \"Ew\", \"rain\", \"hour\"]]"
   ]
  },
  {
   "cell_type": "markdown",
   "id": "93ef45bb-70e5-4fcb-9dfb-13a1df0245cd",
   "metadata": {},
   "source": [
    "## Manually Code LR"
   ]
  },
  {
   "cell_type": "code",
   "execution_count": null,
   "id": "fb3091ad-610a-433c-abca-96ef364aad9f",
   "metadata": {},
   "outputs": [],
   "source": [
    "# create model instance\n",
    "lm = LinearRegression()\n",
    "# fit model\n",
    "lm.fit(X_train, y_train)\n",
    "preds = lm.predict(X_test)"
   ]
  },
  {
   "cell_type": "code",
   "execution_count": null,
   "id": "63bff767-5398-4003-88db-cc8953d4a324",
   "metadata": {},
   "outputs": [],
   "source": [
    "print(\"Test RMSE:\", rmse(preds, y_test))\n",
    "print(\"Test RMSE (ROS):\", rmse(ros(preds), ros(y_test)))"
   ]
  },
  {
   "cell_type": "markdown",
   "id": "ca658e1c-5dde-4e1d-8234-23a35a7f5b69",
   "metadata": {},
   "source": [
    "## Reproduce using LM Class\n",
    "\n",
    "We now use a class `LM` that reproduces the code above. The purpose of the class is to have different machine learning models with the same methods for concise code.\n",
    "\n",
    "The `LM` class uses all defaults with no hyperparameter tuning."
   ]
  },
  {
   "cell_type": "code",
   "execution_count": null,
   "id": "dc7775cb-486c-44f1-9a61-9f83cff0ad87",
   "metadata": {},
   "outputs": [],
   "source": [
    "with open('params.yaml', 'r') as file:\n",
    "    params = yaml.safe_load(file)[\"lm\"]\n",
    "\n",
    "params"
   ]
  },
  {
   "cell_type": "code",
   "execution_count": null,
   "id": "e7fd03e8-be86-41e0-bba0-06ad5c6e9c1b",
   "metadata": {},
   "outputs": [],
   "source": [
    "model = LM(params)\n",
    "model.fit(X_train, y_train)\n",
    "fitted = model.predict(X_train)\n",
    "model.eval(X_test, y_test)"
   ]
  },
  {
   "cell_type": "markdown",
   "id": "48fb44e8-ccbe-485a-9c0a-648d44286d9b",
   "metadata": {},
   "source": [
    "## Using Custom Loss\n",
    "\n",
    "SKlearn's `LinearRegression` supports weighted least squares:"
   ]
  },
  {
   "cell_type": "code",
   "execution_count": null,
   "id": "26bd63ef-32ea-4bc9-9fb0-6c7fd9f2a07d",
   "metadata": {},
   "outputs": [],
   "source": [
    "weights = tf.exp(tf.multiply(-0.01, y_train))"
   ]
  },
  {
   "cell_type": "code",
   "execution_count": null,
   "id": "02588fc7-0d6e-4ccb-a48c-8b4b101c8cf1",
   "metadata": {},
   "outputs": [],
   "source": [
    "# create model instance\n",
    "lmw = LinearRegression()\n",
    "# fit model with weights\n",
    "lmw.fit(X_train, y_train, weights)"
   ]
  },
  {
   "cell_type": "code",
   "execution_count": null,
   "id": "741e6792-2553-4488-b4d6-750d188a8569",
   "metadata": {},
   "outputs": [],
   "source": [
    "preds = lmw.predict(X_test)\n",
    "print(\"Test RMSE:\", rmse(preds, y_test))\n",
    "print(\"Test RMSE (ROS):\", rmse(ros(preds), ros(y_test)))"
   ]
  },
  {
   "cell_type": "markdown",
   "id": "eaa78efc-22ea-4eb7-ad50-6f1624e6bca0",
   "metadata": {},
   "source": [
    "### Using Custom Class"
   ]
  },
  {
   "cell_type": "code",
   "execution_count": null,
   "id": "550e80f5-cf3f-4eb7-ad22-04e0785e0040",
   "metadata": {},
   "outputs": [],
   "source": [
    "model = LM(params)\n",
    "model.fit(X_train, y_train, weights)\n",
    "preds = model.predict(X_test)\n",
    "model.eval(X_test, y_test)"
   ]
  },
  {
   "cell_type": "code",
   "execution_count": null,
   "id": "b913eafb-4b25-45ee-9a2c-248b9fef429d",
   "metadata": {},
   "outputs": [],
   "source": []
  },
  {
   "cell_type": "code",
   "execution_count": null,
   "id": "34503652-92b0-46d7-8860-b0227464b7ac",
   "metadata": {},
   "outputs": [],
   "source": []
  }
 ],
 "metadata": {
  "kernelspec": {
   "display_name": "Python 3 (ipykernel)",
   "language": "python",
   "name": "python3"
  },
  "language_info": {
   "codemirror_mode": {
    "name": "ipython",
    "version": 3
   },
   "file_extension": ".py",
   "mimetype": "text/x-python",
   "name": "python",
   "nbconvert_exporter": "python",
   "pygments_lexer": "ipython3",
   "version": "3.10.13"
  }
 },
 "nbformat": 4,
 "nbformat_minor": 5
}
