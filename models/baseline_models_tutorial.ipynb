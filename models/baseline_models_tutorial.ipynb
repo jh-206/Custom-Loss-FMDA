{
 "cells": [
  {
   "cell_type": "markdown",
   "id": "9cb5913b-5128-4d9c-aea3-7f1b4de17b53",
   "metadata": {},
   "source": [
    "# Model Tutorial: Baseline Methods\n",
    "\n",
    "The focus of this research project is the affect of custom loss functions on forecasting wildfire rate of spread. The intent is not to optimize each machine learning model to make a state-of-the-art fuel moisture forecasting tool. However, we will compare the models to two baseline methods: a phys|ics-based model using Kalman filter for data assimilation and a simple climatology method. The purpose of the comparison to baseline methods is to make sure that the machine learning methods are producing reasonably accurate forecasts and thus to ensure that conclusions drawn on the affect of the custom loss functions are meaningful. This notebook explains two baseline methods of for fuel moisture modeling and demonstrates how to deploy them."
   ]
  },
  {
   "cell_type": "markdown",
   "id": "02810041-9418-48f8-b048-19b70377ddf1",
   "metadata": {},
   "source": [
    "## Climatology\n",
    "\n",
    "### Description\n",
    "\n",
    "In meteorology, it is a common practice to compare models to a \"climatology\", or a simple statistical average of past weather. Shreck 2023 compare their machine learning models of fuel moisture to..."
   ]
  },
  {
   "cell_type": "markdown",
   "id": "0b9565ed-c738-4f0a-ae71-2e90bb0d13bf",
   "metadata": {},
   "source": [
    "## Physics-Based Method\n",
    "\n",
    "The current fuel moisture model within WRF-SFIRE is a simple ODE based on the physical processes of drying and wetting. The ODE assimilates data via the Kalman Filter, a Bayesian inspired technique for reconciling a deterministic model with observed data."
   ]
  },
  {
   "cell_type": "markdown",
   "id": "73df6ed3-e429-40d8-9606-c7e89e938c59",
   "metadata": {},
   "source": [
    "## Setup"
   ]
  },
  {
   "cell_type": "code",
   "execution_count": null,
   "id": "cff311aa-97f4-42b1-bbb6-1d6d88c48446",
   "metadata": {},
   "outputs": [],
   "source": [
    "import sys\n",
    "sys.path.append('../src')\n",
    "import pandas as pd\n",
    "import numpy as np\n",
    "from sklearn.linear_model import LinearRegression\n",
    "from sklearn.metrics import mean_squared_error, r2_score\n",
    "import matplotlib.pyplot as plt\n",
    "from datetime import timedelta\n",
    "# Local modules\n",
    "from fmda_models import run_augmented_kf\n",
    "from data_funcs import train_test_split_spacetime\n",
    "from metrics import ros_3wind, rmse\n",
    "import reproducibility"
   ]
  },
  {
   "cell_type": "markdown",
   "id": "f40f8fa4-70fb-4208-9abc-6ba9d930cd58",
   "metadata": {},
   "source": [
    "## Read Data"
   ]
  },
  {
   "cell_type": "code",
   "execution_count": null,
   "id": "3166ba82-b66a-41ff-9a50-44089a0becea",
   "metadata": {},
   "outputs": [],
   "source": [
    "df = pd.read_pickle(\"../data/raws_df.pkl\")\n",
    "# Remove NA fm\n",
    "df = df.dropna()"
   ]
  },
  {
   "cell_type": "markdown",
   "id": "ce844979-ea8f-495e-8cb4-3cb48860e912",
   "metadata": {},
   "source": [
    "## Split Data"
   ]
  },
  {
   "cell_type": "code",
   "execution_count": null,
   "id": "4ff1dfa7-0830-4729-9342-a59292440ec5",
   "metadata": {},
   "outputs": [],
   "source": [
    "# Get unique month and year combos in the data\n",
    "t = df.index.min()\n",
    "i = 0\n",
    "tdelta = 2 # number of days to shift train/test period\n",
    "while t <= (df.index.max() - timedelta(days = 300)):\n",
    "    print(\"~\"*50)\n",
    "    print(f\"Iteration: {i}\")\n",
    "    print(f\"t: {t}\")\n",
    "    # Build train/test from 30 day period after t\n",
    "    df_temp = df[\n",
    "        (df.index >= t) & (df.index < (t + timedelta(days=30)))\n",
    "    ]\n",
    "\n",
    "    # # Iterate test period by 2 so no overlap\n",
    "    i+= 1 # iteration counter\n",
    "    t = t + timedelta(days=tdelta)"
   ]
  },
  {
   "cell_type": "code",
   "execution_count": null,
   "id": "807b7dc3-86fb-4cf3-895c-996af0d59a47",
   "metadata": {},
   "outputs": [],
   "source": [
    "df_temp.shape"
   ]
  },
  {
   "cell_type": "code",
   "execution_count": null,
   "id": "be44c3bb-a5b4-4914-9c64-5e3791832729",
   "metadata": {},
   "outputs": [],
   "source": [
    "df_temp.STID.unique()"
   ]
  },
  {
   "cell_type": "code",
   "execution_count": null,
   "id": "4c0983d5-fccf-4bac-b125-28b84610c6f8",
   "metadata": {},
   "outputs": [],
   "source": []
  },
  {
   "cell_type": "code",
   "execution_count": null,
   "id": "cf05e718-57e5-47e5-9f59-c9e0a0cb86b9",
   "metadata": {},
   "outputs": [],
   "source": [
    "st = 'TR563'\n",
    "df2 = df_temp[df_temp.STID == st]\n",
    "df2.shape"
   ]
  },
  {
   "cell_type": "code",
   "execution_count": null,
   "id": "5ff7017b-f85b-427a-97ab-8be3ee26fcb6",
   "metadata": {},
   "outputs": [],
   "source": [
    "30*24"
   ]
  },
  {
   "cell_type": "code",
   "execution_count": null,
   "id": "36c8a0d5-5695-43a4-ad0f-5bbbe323733e",
   "metadata": {},
   "outputs": [],
   "source": [
    "def df_to_dict(d):\n",
    "    dat = {\n",
    "        'fm' : d['fm'].to_numpy(),\n",
    "        'Ed' : d[\"Ed\"].to_numpy(),\n",
    "        'Ew' : d[\"Ew\"].to_numpy(),\n",
    "        'rain' : d[\"rain\"].to_numpy(),\n",
    "        'times': d.index.to_numpy()\n",
    "    }    \n",
    "    return dat\n",
    "\n",
    "def fit_and_eval_kf(df, test_hours = 24*2):\n",
    "    if df.shape == 720:\n",
    "        dat = df_to_dict(df2)\n",
    "        hours = len(dat['fm'])\n",
    "        h2 = hours - test_hours\n",
    "        m, E = run_augmented_kf(dat, h2=h2, hours = len(dat['fm']))\n",
    "        train_inds = np.arange(0, h2)\n",
    "        test_inds = np.arange(h2, hours)\n",
    "        preds = m[test_inds]\n",
    "        y_test = dat['fm'][test_inds]\n",
    "        err1 = rmse(preds, y_test)\n",
    "        err2 = rmse(ros_3wind(preds), ros_3wind(y_test))\n",
    "        print(f\"Test RMSE for {st}: {err1}\")\n",
    "        print(f\"Test ROS RMSE for {st}: {err2}\")\n",
    "        \n",
    "        return err1, err2"
   ]
  },
  {
   "cell_type": "code",
   "execution_count": null,
   "id": "52add6f5-4441-4c7d-ac12-6d8dbc1c3d1e",
   "metadata": {},
   "outputs": [],
   "source": [
    "dat = df_to_dict(df2)"
   ]
  },
  {
   "cell_type": "code",
   "execution_count": null,
   "id": "500fd181-e0bf-472e-b231-b4fd26acb30a",
   "metadata": {},
   "outputs": [],
   "source": [
    "dat['rain'][0:100]"
   ]
  },
  {
   "cell_type": "code",
   "execution_count": null,
   "id": "8359fba3-e258-489b-a086-a2a37b05cfb9",
   "metadata": {},
   "outputs": [],
   "source": [
    "hours = len(dat['fm'])\n",
    "h2 = hours - 24*2\n",
    "m, E = run_augmented_kf(dat, h2=h2, hours = len(dat['fm']))"
   ]
  },
  {
   "cell_type": "code",
   "execution_count": null,
   "id": "96656a75-40ec-44fd-94b0-314aea943dc1",
   "metadata": {},
   "outputs": [],
   "source": [
    "train_inds = np.arange(0, h2)\n",
    "test_inds = np.arange(h2, hours)"
   ]
  },
  {
   "cell_type": "code",
   "execution_count": null,
   "id": "fcc543c8-d0d8-4dd5-85fd-ec06c7b8d051",
   "metadata": {},
   "outputs": [],
   "source": [
    "preds = m[test_inds]\n",
    "y_test = dat['fm'][test_inds]"
   ]
  },
  {
   "cell_type": "code",
   "execution_count": null,
   "id": "5870071a-6c4e-4688-b502-e898688a84c0",
   "metadata": {},
   "outputs": [],
   "source": [
    "plt.plot(y_test)\n",
    "plt.plot(preds)"
   ]
  },
  {
   "cell_type": "code",
   "execution_count": null,
   "id": "72cb19c1-faea-44c4-8402-9f8d1e290b83",
   "metadata": {},
   "outputs": [],
   "source": [
    "print(f\"Test RMSE for {st}: {rmse(preds, y_test)}\")\n",
    "print(f\"Test ROS RMSE for {st}: {rmse(ros_3wind(preds), ros_3wind(y_test))}\")"
   ]
  },
  {
   "cell_type": "code",
   "execution_count": null,
   "id": "3c0dbc4b-8419-4fe7-a088-b7337bb9fdc4",
   "metadata": {},
   "outputs": [],
   "source": [
    "dat['times'][0:10]"
   ]
  },
  {
   "cell_type": "code",
   "execution_count": null,
   "id": "fbd01522-5fb7-448e-902f-287dee310dfc",
   "metadata": {},
   "outputs": [],
   "source": [
    "plt.plot(dat['times'], dat['fm'], label = \"Observed FMC\")\n",
    "plt.tick_params(axis='x', rotation=90)\n",
    "plt.plot(dat['times'][train_inds], m[train_inds], label=\"Training\")\n",
    "plt.plot(dat['times'][test_inds], m[test_inds], label=\"Prediction\")\n",
    "plt.legend()"
   ]
  },
  {
   "cell_type": "code",
   "execution_count": null,
   "id": "03189a3a-6928-41d5-bac0-7b3d83ee3f95",
   "metadata": {},
   "outputs": [],
   "source": []
  },
  {
   "cell_type": "code",
   "execution_count": null,
   "id": "8a4f49ce-5423-43bf-92c0-e33b210254eb",
   "metadata": {},
   "outputs": [],
   "source": []
  },
  {
   "cell_type": "code",
   "execution_count": null,
   "id": "f417545e-deb8-4707-884d-588434f1cf25",
   "metadata": {},
   "outputs": [],
   "source": []
  },
  {
   "cell_type": "code",
   "execution_count": null,
   "id": "30aaf5da-72da-4053-aefb-c2abda326735",
   "metadata": {},
   "outputs": [],
   "source": []
  },
  {
   "cell_type": "code",
   "execution_count": null,
   "id": "1554954a-1cda-4b9b-837c-d82112e6ab89",
   "metadata": {},
   "outputs": [],
   "source": []
  },
  {
   "cell_type": "code",
   "execution_count": null,
   "id": "54a58222-172f-45d4-8343-eb34884253fe",
   "metadata": {},
   "outputs": [],
   "source": [
    "# Set seed for reproducibility\n",
    "reproducibility.set_seed(123)\n",
    "\n",
    "# Create Data\n",
    "X_train, X_test, y_train, y_test = train_test_split_spacetime(df)"
   ]
  },
  {
   "cell_type": "code",
   "execution_count": null,
   "id": "b0ef1a79-98fd-4ae3-bd8e-3acfa0611b9c",
   "metadata": {},
   "outputs": [],
   "source": [
    "# Format as dictionaries to run through model\n",
    "st = 'CHAC2'\n",
    "df2 = df[df.STID == st]\n",
    "dat = {\n",
    "    'fm' : df2['fm'].to_numpy(),\n",
    "    'Ed' : df2[\"Ed\"].to_numpy(),\n",
    "    'Ew' : df2[\"Ew\"].to_numpy(),\n",
    "    'rain' : df2[\"rain\"].to_numpy()\n",
    "}"
   ]
  },
  {
   "cell_type": "code",
   "execution_count": null,
   "id": "3bc6b07b-1ef6-45a7-9bb7-97964c524208",
   "metadata": {},
   "outputs": [],
   "source": [
    "np.nanmax(dat['rain'])"
   ]
  },
  {
   "cell_type": "code",
   "execution_count": null,
   "id": "9d196401-381f-475a-b4fd-4511bcace5fd",
   "metadata": {},
   "outputs": [],
   "source": [
    "df = df.dropna()\n",
    "df.rain.argmax()"
   ]
  },
  {
   "cell_type": "code",
   "execution_count": null,
   "id": "610fb3f9-c27d-4b23-ab68-dee51ae448dd",
   "metadata": {},
   "outputs": [],
   "source": [
    "df.iloc[524704:524708]"
   ]
  },
  {
   "cell_type": "code",
   "execution_count": null,
   "id": "34503652-92b0-46d7-8860-b0227464b7ac",
   "metadata": {},
   "outputs": [],
   "source": [
    "preds, E = run_augmented_kf(dat, h2=6000, hours = dat[\"fm\"].shape[0])"
   ]
  },
  {
   "cell_type": "code",
   "execution_count": null,
   "id": "7470bfd9-b85f-4605-b69a-02a343e5322d",
   "metadata": {},
   "outputs": [],
   "source": [
    "train_inds = np.arange(0, 6000)\n",
    "test_inds = np.arange(6000, dat[\"fm\"].shape[0])"
   ]
  },
  {
   "cell_type": "code",
   "execution_count": null,
   "id": "5e824c29-63fa-464c-81b4-5e3636ac59ce",
   "metadata": {},
   "outputs": [],
   "source": [
    "# plt.plot(df.date, df.fm, label = \"Observed FM\")\n",
    "plt.plot(df.date.iloc[train_inds], preds[train_inds], label= \"Train\")\n",
    "plt.plot(df.date.iloc[test_inds], preds[test_inds], label= \"Test\")\n",
    "plt.axvline(df.date.iloc[len(y_train)], color= 'k', linestyle='dashed')\n",
    "plt.legend()\n",
    "plt.grid()"
   ]
  },
  {
   "cell_type": "code",
   "execution_count": null,
   "id": "51e1bf27-13b2-4cfc-9681-22d3a44a68ea",
   "metadata": {},
   "outputs": [],
   "source": [
    "print(f\"RMSE Test: {rmse(preds[test_inds], dat['fm'][6000:])}\")\n",
    "print(f\"RMSE ROS Test: {rmse(ros_3wind(preds[test_inds]), ros_3wind(dat['fm'][6000:]))}\")"
   ]
  },
  {
   "cell_type": "code",
   "execution_count": null,
   "id": "aee76036-18c1-49ee-9aca-b5e159255aa5",
   "metadata": {},
   "outputs": [],
   "source": []
  },
  {
   "cell_type": "code",
   "execution_count": null,
   "id": "1c34a7eb-ca3c-49cc-a415-b41d16e9f6ab",
   "metadata": {},
   "outputs": [],
   "source": []
  },
  {
   "cell_type": "code",
   "execution_count": null,
   "id": "5eae46b5-c428-4d69-b8ab-e2d3557e812e",
   "metadata": {},
   "outputs": [],
   "source": []
  }
 ],
 "metadata": {
  "kernelspec": {
   "display_name": "Python 3 (ipykernel)",
   "language": "python",
   "name": "python3"
  },
  "language_info": {
   "codemirror_mode": {
    "name": "ipython",
    "version": 3
   },
   "file_extension": ".py",
   "mimetype": "text/x-python",
   "name": "python",
   "nbconvert_exporter": "python",
   "pygments_lexer": "ipython3",
   "version": "3.10.13"
  }
 },
 "nbformat": 4,
 "nbformat_minor": 5
}
