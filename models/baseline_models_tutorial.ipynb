{
 "cells": [
  {
   "cell_type": "markdown",
   "id": "9cb5913b-5128-4d9c-aea3-7f1b4de17b53",
   "metadata": {},
   "source": [
    "# Model Tutorial: Baseline Methods\n",
    "\n",
    "The focus of this research project is the affect of custom loss functions on forecasting wildfire rate of spread. The intent is not to optimize each machine learning model to make a state-of-the-art fuel moisture forecasting tool. However, we will compare the models to two baseline methods: a phys|ics-based model using Kalman filter for data assimilation and a simple climatology method. The purpose of the comparison to baseline methods is to make sure that the machine learning methods are producing reasonably accurate forecasts and thus to ensure that conclusions drawn on the affect of the custom loss functions are meaningful. This notebook explains two baseline methods of for fuel moisture modeling and demonstrates how to deploy them."
   ]
  },
  {
   "cell_type": "markdown",
   "id": "02810041-9418-48f8-b048-19b70377ddf1",
   "metadata": {},
   "source": [
    "## Climatology\n",
    "\n",
    "### Description\n",
    "\n",
    "In meteorology, it is a common practice to compare models to a \"climatology\", or a simple statistical average of past weather. Shreck 2023 compare their machine learning models of fuel moisture to..."
   ]
  },
  {
   "cell_type": "markdown",
   "id": "0b9565ed-c738-4f0a-ae71-2e90bb0d13bf",
   "metadata": {},
   "source": [
    "## Physics-Based Method\n",
    "\n",
    "The current fuel moisture model within WRF-SFIRE is a simple ODE based on the physical processes of drying and wetting. The ODE assimilates data via the Kalman Filter, a Bayesian inspired technique for reconciling a deterministic model with observed data."
   ]
  },
  {
   "cell_type": "markdown",
   "id": "73df6ed3-e429-40d8-9606-c7e89e938c59",
   "metadata": {},
   "source": [
    "## Setup"
   ]
  },
  {
   "cell_type": "code",
   "execution_count": null,
   "id": "cff311aa-97f4-42b1-bbb6-1d6d88c48446",
   "metadata": {},
   "outputs": [],
   "source": [
    "import sys\n",
    "sys.path.append('../src')\n",
    "import pandas as pd\n",
    "import numpy as np\n",
    "from sklearn.linear_model import LinearRegression\n",
    "from sklearn.metrics import mean_squared_error, r2_score\n",
    "from sklearn.model_selection import train_test_split\n",
    "import tensorflow as tf\n",
    "# Local modules\n",
    "from fmda_models import LM\n",
    "from metrics import ros, rmse\n",
    "import reproducibility"
   ]
  },
  {
   "cell_type": "markdown",
   "id": "f40f8fa4-70fb-4208-9abc-6ba9d930cd58",
   "metadata": {},
   "source": [
    "## Data Read and Split"
   ]
  },
  {
   "cell_type": "code",
   "execution_count": null,
   "id": "3166ba82-b66a-41ff-9a50-44089a0becea",
   "metadata": {},
   "outputs": [],
   "source": [
    "df = pd.read_pickle(\"../data/rocky_2023_05-09.pkl\")\n",
    "# Remove NA fm\n",
    "df = df.dropna(subset=['fm'])"
   ]
  },
  {
   "cell_type": "code",
   "execution_count": null,
   "id": "54a58222-172f-45d4-8343-eb34884253fe",
   "metadata": {},
   "outputs": [],
   "source": [
    "# Set seed for reproducibility\n",
    "reproducibility.set_seed(123)\n",
    "\n",
    "# Create Data\n",
    "X_train, X_test, y_train, y_test = train_test_split(df[[\"Ed\", \"Ew\"]], df['fm'], test_size=.2)"
   ]
  },
  {
   "cell_type": "code",
   "execution_count": null,
   "id": "b0ef1a79-98fd-4ae3-bd8e-3acfa0611b9c",
   "metadata": {},
   "outputs": [],
   "source": []
  },
  {
   "cell_type": "code",
   "execution_count": null,
   "id": "34503652-92b0-46d7-8860-b0227464b7ac",
   "metadata": {},
   "outputs": [],
   "source": []
  }
 ],
 "metadata": {
  "kernelspec": {
   "display_name": "Python 3 (ipykernel)",
   "language": "python",
   "name": "python3"
  },
  "language_info": {
   "codemirror_mode": {
    "name": "ipython",
    "version": 3
   },
   "file_extension": ".py",
   "mimetype": "text/x-python",
   "name": "python",
   "nbconvert_exporter": "python",
   "pygments_lexer": "ipython3",
   "version": "3.10.13"
  }
 },
 "nbformat": 4,
 "nbformat_minor": 5
}
