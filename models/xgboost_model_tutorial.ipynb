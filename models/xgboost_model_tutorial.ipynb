{
 "cells": [
  {
   "cell_type": "code",
   "execution_count": null,
   "id": "25ba1df9-254c-4f34-a858-d9ab817c0202",
   "metadata": {},
   "outputs": [],
   "source": [
    "import pandas as pd\n",
    "import numpy as np\n",
    "import xgboost as xg\n",
    "import tensorflow as tf\n",
    "from sklearn.metrics import mean_squared_error, r2_score"
   ]
  },
  {
   "cell_type": "code",
   "execution_count": null,
   "id": "3b89336e-82cc-4a7a-86b9-68355c50e107",
   "metadata": {},
   "outputs": [],
   "source": [
    "import subprocess\n",
    "import os\n",
    "import os.path as osp\n",
    "\n",
    "if not osp.exists(\"../data/co_202307-09.pkl\"):\n",
    "    print(\"Retrieving FMDA data\")\n",
    "    os.makedirs(\"data\", exist_ok=True)\n",
    "    subprocess.call(\"wget -P ../data https://demo.openwfm.org/web/data/fmda/dicts/co_202307-09.pkl\", shell=True)\n",
    "    assert osp.exists(\"../data/co_202307-09.pkl\")    \n",
    "    print(\"Downloaded https://demo.openwfm.org/web/data/fmda/dicts/co_202307-09.pkl as data/co_202307-09.pkl\")\n",
    "\n",
    "dat = pd.read_pickle(\"../data/co_202307-09.pkl\")"
   ]
  },
  {
   "cell_type": "code",
   "execution_count": null,
   "id": "01689ccc-da74-41fa-90b3-1beb0f60454e",
   "metadata": {},
   "outputs": [],
   "source": [
    "# List of column names\n",
    "column_names = ['STID', 'lat', 'lon', 'elevation', 'fm', 'Ed', 'Ew', 'wind', 'rain', 'time']\n",
    "\n",
    "# Initialize DataFrame with column names and data types\n",
    "df = pd.DataFrame(columns=column_names)\n",
    "\n",
    "# Loop through Data Dictionary and append to dataframe\n",
    "for k in dat:\n",
    "    # Get FM from RAWS subdict\n",
    "    fm = dat[k][\"RAWS\"][\"fm\"]\n",
    "    # Get atmospheric data from HRRR subdict\n",
    "    data = {key: dat[k][\"HRRR\"][key] for key in np.setdiff1d(column_names, [\"STID\", \"elevation\", \"fm\", \"lat\", \"lon\"])}\n",
    "    df_temp = pd.DataFrame(data)\n",
    "    # Ed = dat[k][\"HRRR\"][\"Ed\"]\n",
    "    # Ew = dat[k][\"HRRR\"][\"Ew\"]\n",
    "    # time = dat[k][\"HRRR\"][\"time\"]\n",
    "    # Must repeat static vars to match dataframe length\n",
    "\n",
    "    # NOTE: try to fix missing data issue\n",
    "    if len(fm) == len(df_temp.Ed):\n",
    "        stid = np.repeat(dat[k][\"loc\"][\"STID\"], len(fm))\n",
    "        elev = np.repeat(dat[k][\"loc\"][\"elev\"], len(fm))\n",
    "        lat = np.repeat(dat[k][\"loc\"][\"lat\"], len(fm))\n",
    "        lon = np.repeat(dat[k][\"loc\"][\"lon\"], len(fm))\n",
    "        df_temp[\"lat\"] = lat\n",
    "        df_temp[\"lon\"] = lon\n",
    "        df_temp[\"fm\"] = fm\n",
    "        df_temp[\"elevation\"] = elev\n",
    "        df_temp[\"STID\"] = stid\n",
    "        df_temp = df_temp.reindex(columns=column_names)\n",
    "        \n",
    "        # data_arrays = [stid, elev, fm, Ed, Ew, time]\n",
    "        # dat_temp = dict(zip(column_names, data_arrays))\n",
    "        # df_temp = pd.DataFrame(dat_temp)\n",
    "        df = pd.concat([df, df_temp], ignore_index=True)\n",
    "\n",
    "df = df.dropna()"
   ]
  },
  {
   "cell_type": "code",
   "execution_count": null,
   "id": "2ad98009-a92a-40ff-a06f-b05e7c414486",
   "metadata": {},
   "outputs": [],
   "source": [
    "# Add some time columns\n",
    "df_copy = df.copy()\n",
    "df_copy.loc[:, 'date_column'] = pd.to_datetime(df_copy['time'], utc=True)\n",
    "df_copy.loc[:, 'day'] = df_copy['date_column'].dt.day\n",
    "df_copy.loc[:, 'hour'] = df_copy['date_column'].dt.hour\n",
    "# Add time t, structure is 1-T, where T is total number of hours \n",
    "min_time = df_copy['date_column'].min()\n",
    "df_copy['t'] = (df_copy['date_column'] - min_time).dt.total_seconds() / 3600\n",
    "df_copy['t'] = df_copy['t'].astype(int)\n",
    "\n",
    "df = df_copy.copy()"
   ]
  },
  {
   "cell_type": "code",
   "execution_count": null,
   "id": "98f5e463-5d17-4065-b268-eeaaf26ae22b",
   "metadata": {},
   "outputs": [],
   "source": [
    "df"
   ]
  },
  {
   "cell_type": "code",
   "execution_count": null,
   "id": "d0232537-ebf0-44c2-b175-22bc08078e2a",
   "metadata": {},
   "outputs": [],
   "source": [
    "from sklearn.model_selection import train_test_split\n",
    "# Create Data\n",
    "X_train, X_test, y_train, y_test = train_test_split(df[[\"Ed\", \"Ew\"]], df['fm'], test_size=.2)"
   ]
  },
  {
   "cell_type": "code",
   "execution_count": null,
   "id": "47875768-5df1-454e-beb0-640b6c615397",
   "metadata": {},
   "outputs": [],
   "source": [
    "# create model instance\n",
    "bst = xg.XGBRegressor(n_estimators=2, max_depth=2, learning_rate=1, objective='reg:linear')\n",
    "# fit model\n",
    "bst.fit(X_train, y_train)"
   ]
  },
  {
   "cell_type": "code",
   "execution_count": null,
   "id": "f411dd99-5bfe-4bc4-b265-a01211b0edd4",
   "metadata": {},
   "outputs": [],
   "source": [
    "fitted = bst.predict(X_train)\n",
    "preds = bst.predict(X_test)"
   ]
  },
  {
   "cell_type": "code",
   "execution_count": null,
   "id": "c2c33735-755e-464c-b9ba-d709ec3bee36",
   "metadata": {},
   "outputs": [],
   "source": [
    "# Calculate RMSE for the training data\n",
    "rmse_train = np.sqrt(mean_squared_error(y_train, fitted))\n",
    "\n",
    "# Calculate R-squared for the training data\n",
    "r2_train = r2_score(y_train, fitted)\n",
    "\n",
    "# Calculate RMSE for the test data\n",
    "rmse_test = np.sqrt(mean_squared_error(y_test, preds))\n",
    "\n",
    "# Calculate R-squared for the test data\n",
    "r2_test = r2_score(y_test, preds)\n",
    "\n",
    "print(\"RMSE for training data:\", rmse_train)\n",
    "print(\"R-squared for training data:\", r2_train)\n",
    "print(\"RMSE for test data:\", rmse_test)\n",
    "print(\"R-squared for test data:\", r2_test)"
   ]
  },
  {
   "cell_type": "code",
   "execution_count": null,
   "id": "f9740e07-f0d8-4684-8a13-0856eef4b624",
   "metadata": {},
   "outputs": [],
   "source": []
  }
 ],
 "metadata": {
  "kernelspec": {
   "display_name": "Python 3 (ipykernel)",
   "language": "python",
   "name": "python3"
  },
  "language_info": {
   "codemirror_mode": {
    "name": "ipython",
    "version": 3
   },
   "file_extension": ".py",
   "mimetype": "text/x-python",
   "name": "python",
   "nbconvert_exporter": "python",
   "pygments_lexer": "ipython3",
   "version": "3.10.13"
  }
 },
 "nbformat": 4,
 "nbformat_minor": 5
}
