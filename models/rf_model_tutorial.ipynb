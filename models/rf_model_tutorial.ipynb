{
 "cells": [
  {
   "cell_type": "markdown",
   "id": "8a6fb94d-e324-436c-90da-64868202cdd7",
   "metadata": {},
   "source": [
    "# Model Tutorial: Random Forest\n",
    "\n",
    "The purpose of this notebook is to demonstrate how to train and predict Random Forest models used in this project. First, we will demonstrate the basic code, and then reproduce the results using a custom class `RF` to make the code consistent for multiple models."
   ]
  },
  {
   "cell_type": "markdown",
   "id": "6acea576-0a24-40b0-abee-fb0e189eee3d",
   "metadata": {},
   "source": [
    "## Model Description"
   ]
  },
  {
   "cell_type": "markdown",
   "id": "a4c1740b-5ee6-4699-b0ef-05f8a4f8a073",
   "metadata": {},
   "source": [
    "The goal is to forecast fuel moisture based on atmospheric data observations using machine learning models. The inputs include equilibrium moisture, calculated from relative humidity and surface temperature, collected from RAWS ground-based stations.\n",
    "\n",
    "Random Forests are a variety of machine learning model that maps an input matrix of features to an output vector. This method can model regression problems, where the target output vector is a continuous quantity. Rows of the feature matrix are observed meteorological quantities at a certain location and time. Values of the output vector are observed fuel moisture quantities at corresponding locations and times.\n",
    "\n",
    "Random forests are a variety of ensemble learners, where a collection of tree models is used with bootstrapping and random subsetting of features to reduce forecast variance. \n",
    "\n",
    "The final model outputs are time series of fuel moisture predictions. The model accuracy is calculated by comparing predicted fuel moisture to observed fuel moisture *at future times* and *at unobserved locations*."
   ]
  },
  {
   "cell_type": "markdown",
   "id": "37cd9b43-5505-4e1d-9647-79c24311fc6a",
   "metadata": {},
   "source": [
    "## Setup"
   ]
  },
  {
   "cell_type": "code",
   "execution_count": null,
   "id": "25ba1df9-254c-4f34-a858-d9ab817c0202",
   "metadata": {
    "scrolled": true
   },
   "outputs": [],
   "source": [
    "import sys\n",
    "sys.path.append('../src')\n",
    "import pandas as pd\n",
    "import numpy as np\n",
    "# import tensorflow as tf\n",
    "# import tensorflow.keras.backend as K\n",
    "from sklearn.metrics import mean_squared_error\n",
    "from sklearn.ensemble import RandomForestRegressor\n",
    "import yaml\n",
    "import tensorflow as tf\n",
    "# Local modules\n",
    "# from fmda_models import XGB\n",
    "from metrics import ros, rmse\n",
    "from data_funcs import train_test_split_spacetime\n",
    "import reproducibility"
   ]
  },
  {
   "cell_type": "markdown",
   "id": "cf873ab7-36cb-49f9-9752-0d9a0a3c3fca",
   "metadata": {},
   "source": [
    "## Read and Split Data"
   ]
  },
  {
   "cell_type": "code",
   "execution_count": null,
   "id": "3b89336e-82cc-4a7a-86b9-68355c50e107",
   "metadata": {},
   "outputs": [],
   "source": [
    "df = pd.read_pickle(\"../data/raws_df.pkl\")\n",
    "# Remove NA \n",
    "df = df.dropna(subset=[\"fm\", \"Ed\", \"Ew\", \"rain\", \"hour\", 'wind', 'solar'])"
   ]
  },
  {
   "cell_type": "code",
   "execution_count": null,
   "id": "d0232537-ebf0-44c2-b175-22bc08078e2a",
   "metadata": {},
   "outputs": [],
   "source": [
    "# Set seed for reproducibility\n",
    "reproducibility.set_seed(123)\n",
    "\n",
    "# Create Data\n",
    "X_train, X_test, y_train, y_test = train_test_split_spacetime(df)"
   ]
  },
  {
   "cell_type": "code",
   "execution_count": null,
   "id": "e4875c4e-a619-4f77-82c9-7241d586701c",
   "metadata": {},
   "outputs": [],
   "source": [
    "# Subset Columns\n",
    "X_train=X_train[[\"Ed\", \"Ew\", \"rain\", \"hour\", 'wind', 'solar']]\n",
    "X_test=X_test[[\"Ed\", \"Ew\", \"rain\", \"hour\", 'wind', 'solar']]"
   ]
  },
  {
   "cell_type": "markdown",
   "id": "a111889b-6ce1-407b-ac48-c1f251f50143",
   "metadata": {},
   "source": [
    "### Model Hyperparams"
   ]
  },
  {
   "cell_type": "code",
   "execution_count": null,
   "id": "cab4cee3-518a-4d0c-9dab-b929dc614821",
   "metadata": {},
   "outputs": [],
   "source": [
    "with open('params.yaml', 'r') as file:\n",
    "    params = yaml.safe_load(file)[\"rf\"]\n",
    "\n",
    "params"
   ]
  },
  {
   "cell_type": "markdown",
   "id": "c826d22d-be79-4220-91ab-ff93173fb3db",
   "metadata": {},
   "source": [
    "## Manually Code RF"
   ]
  },
  {
   "cell_type": "code",
   "execution_count": null,
   "id": "47875768-5df1-454e-beb0-640b6c615397",
   "metadata": {
    "scrolled": true
   },
   "outputs": [],
   "source": [
    "# create model instance\n",
    "# model0 = xg.XGBRegressor(max_depth=3, eta=.1, min_child_weight=1, subsample=0.8, colsample_bytree=0.8, scale_pos_weight=1,\n",
    "#                       objective='reg:squarederror')\n",
    "reproducibility.set_seed(123)\n",
    "model0 = RandomForestRegressor(**params)\n",
    "\n",
    "# fit model\n",
    "model0.fit(X_train, y_train)\n",
    "\n",
    "# Predict\n",
    "preds = model0.predict(X_test)"
   ]
  },
  {
   "cell_type": "code",
   "execution_count": null,
   "id": "c2c33735-755e-464c-b9ba-d709ec3bee36",
   "metadata": {},
   "outputs": [],
   "source": [
    "print(\"Test RMSE:\", rmse(preds, y_test))\n",
    "print(\"Test RMSE (ROS):\", rmse(ros(preds), ros(y_test)))"
   ]
  },
  {
   "cell_type": "markdown",
   "id": "f6568c4f-6312-4acf-a50c-bf533adff7cd",
   "metadata": {},
   "source": [
    "## Reproduce using Custom RF Class\n",
    "\n",
    "We now use a class `RF` that reproduces the code above. The purpose of the class is to have different machine learning models with the same methods for concise code.\n",
    "\n",
    "The `RF` class accepts a dictionary for hyperparameters, which can be found in the file `params.yml`."
   ]
  },
  {
   "cell_type": "code",
   "execution_count": null,
   "id": "5af92225-e96a-44da-934a-ae342fa1ede7",
   "metadata": {},
   "outputs": [],
   "source": [
    "import importlib\n",
    "import fmda_models\n",
    "importlib.reload(fmda_models)\n",
    "from fmda_models import RF"
   ]
  },
  {
   "cell_type": "code",
   "execution_count": null,
   "id": "3262c477-b248-49f8-a39d-f11d30416b97",
   "metadata": {},
   "outputs": [],
   "source": [
    "# Set seed for reproducibility\n",
    "reproducibility.set_seed(123)\n",
    "\n",
    "model = RF(params=params)\n",
    "model.fit(X_train, y_train)\n",
    "preds = model.predict(X_test)"
   ]
  },
  {
   "cell_type": "code",
   "execution_count": null,
   "id": "f767ea3e-0b8e-49e1-8240-080ded062b9c",
   "metadata": {},
   "outputs": [],
   "source": [
    "model.eval(X_test, y_test)"
   ]
  },
  {
   "cell_type": "markdown",
   "id": "e677f068-476f-4928-a328-5a2a5852d10c",
   "metadata": {},
   "source": [
    "## Using Weighted Custom Loss"
   ]
  },
  {
   "cell_type": "code",
   "execution_count": null,
   "id": "8b3ad843-ecc6-4c8d-86fe-797c3b78eff7",
   "metadata": {},
   "outputs": [],
   "source": [
    "weights = tf.exp(tf.multiply(-0.01, y_train))"
   ]
  },
  {
   "cell_type": "code",
   "execution_count": null,
   "id": "56e1459f-a0e0-4207-a922-88797bbb21bc",
   "metadata": {},
   "outputs": [],
   "source": [
    "reproducibility.set_seed(123)\n",
    "# create model instance\n",
    "model02 = RandomForestRegressor(**params)\n",
    "# fit model\n",
    "model02.fit(X_train, y_train, sample_weight = weights)\n",
    "# Predict\n",
    "preds = model02.predict(X_test)"
   ]
  },
  {
   "cell_type": "code",
   "execution_count": null,
   "id": "80939628-7c57-460b-bcbc-89cd1faa020e",
   "metadata": {},
   "outputs": [],
   "source": [
    "print(\"Test RMSE:\", rmse(preds, y_test))\n",
    "print(\"Test RMSE (ROS):\", rmse(ros(preds), ros(y_test)))"
   ]
  },
  {
   "cell_type": "code",
   "execution_count": null,
   "id": "e789a4e8-ca85-4e15-95c8-df020425a4a9",
   "metadata": {},
   "outputs": [],
   "source": [
    "reproducibility.set_seed(123)\n",
    "model = RF(params=params)\n",
    "model.fit(X_train, y_train, weights)\n",
    "model.eval(X_test, y_test)"
   ]
  },
  {
   "cell_type": "code",
   "execution_count": null,
   "id": "b65503fb-2a56-4cba-bee4-4442eeabea20",
   "metadata": {},
   "outputs": [],
   "source": []
  },
  {
   "cell_type": "code",
   "execution_count": null,
   "id": "a4470edb-e4cb-41b8-9ce3-73a2b940ea78",
   "metadata": {},
   "outputs": [],
   "source": []
  },
  {
   "cell_type": "code",
   "execution_count": null,
   "id": "dfd585b1-3d41-4385-9f97-0d10f8e7ac2b",
   "metadata": {},
   "outputs": [],
   "source": []
  }
 ],
 "metadata": {
  "kernelspec": {
   "display_name": "Python 3 (ipykernel)",
   "language": "python",
   "name": "python3"
  },
  "language_info": {
   "codemirror_mode": {
    "name": "ipython",
    "version": 3
   },
   "file_extension": ".py",
   "mimetype": "text/x-python",
   "name": "python",
   "nbconvert_exporter": "python",
   "pygments_lexer": "ipython3",
   "version": "3.10.13"
  }
 },
 "nbformat": 4,
 "nbformat_minor": 5
}
