{
 "cells": [
  {
   "cell_type": "code",
   "execution_count": null,
   "id": "b9bb1bcd-e6c4-41f9-9446-36986c729eb4",
   "metadata": {},
   "outputs": [],
   "source": [
    "import sys\n",
    "sys.path.append('../src')\n",
    "import numpy as np\n",
    "import pandas as pd\n",
    "import tensorflow as tf\n",
    "import reproducibility\n",
    "from metrics import rmse"
   ]
  },
  {
   "cell_type": "markdown",
   "id": "025fb7f8-7316-4445-8c81-b80cd2d0c633",
   "metadata": {},
   "source": [
    "## Model Description\n",
    "\n",
    "The `input_shape` argument specifies (`time_steps`, `n_features`)"
   ]
  },
  {
   "cell_type": "markdown",
   "id": "34f5f722-ba6f-4d25-9fff-35350fb27c1e",
   "metadata": {},
   "source": [
    "## Data Processing"
   ]
  },
  {
   "cell_type": "code",
   "execution_count": null,
   "id": "ed2224f6-b641-49fc-b27f-ca680d7febca",
   "metadata": {},
   "outputs": [],
   "source": [
    "# Get one timeseries of fuel moisture data\n",
    "df = pd.read_pickle(\"../data/rocky_2023_05-09.pkl\")\n",
    "# First STID from unique\n",
    "st = df.stid.unique()[0]\n",
    "fm = df.fm[df.stid == st].to_numpy()\n",
    "print(f\"Station: {st}\")\n",
    "print(f\"N observations: {len(fm)}\")\n",
    "\n",
    "h2 = int(len(fm)*.9) # index for train/test split\n",
    "train = fm[0:h2]\n",
    "test = fm[h2:len(fm)]\n",
    "\n",
    "print(f\"Length Train: {train.shape[0]}\")\n",
    "print(f\"Length Test: {test.shape[0]}\")"
   ]
  },
  {
   "cell_type": "markdown",
   "id": "c76ea7a6-4f62-4411-bf54-54ce1936787a",
   "metadata": {},
   "source": [
    "## RNN"
   ]
  },
  {
   "cell_type": "code",
   "execution_count": null,
   "id": "79eeb6a2-1461-4613-b678-fcfb8e458344",
   "metadata": {},
   "outputs": [],
   "source": [
    "input_dim = train.shape[0]\n",
    "print(input_dim)"
   ]
  },
  {
   "cell_type": "code",
   "execution_count": null,
   "id": "f89ebe78-e2f7-42ec-8fd8-ea9b69a1b061",
   "metadata": {},
   "outputs": [],
   "source": [
    "reproducibility.set_seed(42)\n",
    "\n",
    "model = tf.keras.Sequential([\n",
    "    tf.keras.layers.SimpleRNN(\n",
    "        units = 1, \n",
    "        input_shape=(None, 1), \n",
    "        activation=\"linear\"),\n",
    "    tf.keras.layers.Dense(units=1, activation=\"linear\")\n",
    "])\n",
    "model.compile(loss='mean_squared_error', optimizer='adam')"
   ]
  },
  {
   "cell_type": "code",
   "execution_count": null,
   "id": "eec0c479-d3bf-4d6b-b51b-46222e0c73a3",
   "metadata": {},
   "outputs": [],
   "source": [
    "# Check Model Weights on Initialization\n",
    "wx = model.get_weights()[0]\n",
    "wh = model.get_weights()[1]\n",
    "bh = model.get_weights()[2]\n",
    "wy = model.get_weights()[3]\n",
    "by = model.get_weights()[4]\n",
    " \n",
    "print('wx = ', wx, ' wh = ', wh, ' bh = ', bh, ' wy =', wy, 'by = ', by)"
   ]
  },
  {
   "cell_type": "code",
   "execution_count": null,
   "id": "1af4b179-7fef-4edd-8b44-da07d98df4b5",
   "metadata": {},
   "outputs": [],
   "source": [
    "# Reset Model Weights to match autoreg\n",
    "W_x = np.array([[0.97427477]])  # Input weight beta_1\n",
    "W_h = np.array([[0.0]])  # Recurrent weights beta_1?\n",
    "b = np.array([0.23754674])      # Bias aka mean beta_0\n",
    "\n",
    "model.layers[0].set_weights([W_x, W_h, b])\n",
    "\n",
    "model.layers[1].set_weights([np.array([[1]]), np.array([0.0]) ])\n",
    "\n",
    "\n",
    "wx = model.get_weights()[0]\n",
    "wh = model.get_weights()[1]\n",
    "bh = model.get_weights()[2]\n",
    "wy = model.get_weights()[3]\n",
    "by = model.get_weights()[4]\n",
    " \n",
    "print('wx = ', wx, ' wh = ', wh, ' bh = ', bh, ' wy =', wy, 'by = ', by)"
   ]
  },
  {
   "cell_type": "code",
   "execution_count": null,
   "id": "a2513161-5db7-403e-a750-872dfd549bc3",
   "metadata": {},
   "outputs": [],
   "source": [
    "# Predict Test\n",
    "nsteps = len(test) # number of steps into the future to forecast\n",
    "y_current = train[-1] # latest train observation, use to step model forward\n",
    "\n",
    "forecast = []\n",
    "current_input = y_current\n",
    "\n",
    "for _ in range(nsteps):\n",
    "    # Reshape the input data to match the model's input shape\n",
    "    current_input = np.array(current_input).reshape(1, 1, 1)\n",
    "    \n",
    "    # Predict the next data point\n",
    "    next_pred = model.predict(current_input)\n",
    "    \n",
    "    # Append the predicted data point to the forecast\n",
    "    forecast.append(next_pred[0, 0])  # Assuming your model outputs a single value\n",
    "    \n",
    "    # Update input data for the next prediction\n",
    "    current_input = np.roll(current_input, -1)\n",
    "    current_input[-1] = next_pred\n",
    "    \n",
    "# def rnn_forecast(model, y_current, n):\n",
    "#     preds = []\n",
    "#     y_current = np.array(y_current).reshape(1, 1, 1)\n",
    "#     next_pred = model.predict(y_current)\n",
    "#     preds.append(next_pred)\n",
    "#     return"
   ]
  },
  {
   "cell_type": "code",
   "execution_count": null,
   "id": "519170ce-79ce-422b-999b-3756cdb5c457",
   "metadata": {},
   "outputs": [],
   "source": [
    "print(f\"RMSE Test: {rmse(forecast, test)}\")"
   ]
  },
  {
   "cell_type": "markdown",
   "id": "742f30e4-5353-4b70-aaa9-551257795ebd",
   "metadata": {},
   "source": [
    "## References\n",
    "\n",
    "https://machinelearningmastery.com/understanding-simple-recurrent-neural-networks-in-keras/"
   ]
  },
  {
   "cell_type": "code",
   "execution_count": null,
   "id": "bbd48ba8-85b6-4545-b677-9cdd44f969dd",
   "metadata": {},
   "outputs": [],
   "source": []
  }
 ],
 "metadata": {
  "kernelspec": {
   "display_name": "Python 3 (ipykernel)",
   "language": "python",
   "name": "python3"
  },
  "language_info": {
   "codemirror_mode": {
    "name": "ipython",
    "version": 3
   },
   "file_extension": ".py",
   "mimetype": "text/x-python",
   "name": "python",
   "nbconvert_exporter": "python",
   "pygments_lexer": "ipython3",
   "version": "3.10.13"
  }
 },
 "nbformat": 4,
 "nbformat_minor": 5
}
