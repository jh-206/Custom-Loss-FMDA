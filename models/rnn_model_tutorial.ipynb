{
 "cells": [
  {
   "cell_type": "code",
   "execution_count": 1,
   "id": "b9bb1bcd-e6c4-41f9-9446-36986c729eb4",
   "metadata": {},
   "outputs": [],
   "source": [
    "import sys\n",
    "sys.path.append('../src')\n",
    "import numpy as np\n",
    "import pandas as pd\n",
    "# from statsmodels.tsa.ar_model import AutoReg\n",
    "import tensorflow as tf"
   ]
  },
  {
   "cell_type": "markdown",
   "id": "025fb7f8-7316-4445-8c81-b80cd2d0c633",
   "metadata": {},
   "source": [
    "## Model Description\n",
    "\n",
    "The `input_shape` argument specifies (`time_steps`, `n_features`)"
   ]
  },
  {
   "cell_type": "markdown",
   "id": "34f5f722-ba6f-4d25-9fff-35350fb27c1e",
   "metadata": {},
   "source": [
    "## Data Processing"
   ]
  },
  {
   "cell_type": "code",
   "execution_count": 2,
   "id": "ed2224f6-b641-49fc-b27f-ca680d7febca",
   "metadata": {},
   "outputs": [
    {
     "name": "stdout",
     "output_type": "stream",
     "text": [
      "Station: CPTC2\n",
      "N observations: 3627\n"
     ]
    }
   ],
   "source": [
    "# Get one timeseries of fuel moisture data\n",
    "df = pd.read_pickle(\"../data/rocky_2023_05-09.pkl\")\n",
    "# First STID from unique\n",
    "st = df.stid.unique()[0]\n",
    "fm = df.fm[df.stid == st].to_numpy()\n",
    "print(f\"Station: {st}\")\n",
    "print(f\"N observations: {len(fm)}\")"
   ]
  },
  {
   "cell_type": "code",
   "execution_count": 3,
   "id": "2efac051-af25-43e6-a03c-d844141e0b27",
   "metadata": {},
   "outputs": [],
   "source": [
    "# ar = AutoReg(fm, lags=1).fit()"
   ]
  },
  {
   "cell_type": "code",
   "execution_count": 4,
   "id": "b146863b-c7d4-407e-853f-f184683de481",
   "metadata": {},
   "outputs": [],
   "source": [
    "# ar.summary()"
   ]
  },
  {
   "cell_type": "markdown",
   "id": "c76ea7a6-4f62-4411-bf54-54ce1936787a",
   "metadata": {},
   "source": [
    "## RNN"
   ]
  },
  {
   "cell_type": "code",
   "execution_count": 5,
   "id": "79eeb6a2-1461-4613-b678-fcfb8e458344",
   "metadata": {},
   "outputs": [],
   "source": [
    "# # Prepare data for RNN\n",
    "X = fm[:-1]  # Input sequence\n",
    "y = fm[1:]   # Output sequence (shifted by 1 time step)\n",
    "\n",
    "# # Define RNN parameters\n",
    "input_dim = X.shape[-1]   # Number of features\n",
    "output_dim = y.shape[-1]  # Number of features\n",
    "# hidden_units = 1          # Number of units in the RNN layer\n",
    "# num_steps = X.shape[0]     # Number of time steps\n",
    "# batch_size = 1             # Batch size for training"
   ]
  },
  {
   "cell_type": "code",
   "execution_count": 6,
   "id": "8aaa2b7b-f90d-4427-b852-18547ab688d6",
   "metadata": {},
   "outputs": [
    {
     "data": {
      "text/plain": [
       "3626"
      ]
     },
     "execution_count": 6,
     "metadata": {},
     "output_type": "execute_result"
    }
   ],
   "source": [
    "output_dim"
   ]
  },
  {
   "cell_type": "code",
   "execution_count": 15,
   "id": "f89ebe78-e2f7-42ec-8fd8-ea9b69a1b061",
   "metadata": {},
   "outputs": [],
   "source": [
    "model = tf.keras.Sequential([\n",
    "    tf.keras.layers.SimpleRNN(units = 1, input_shape=(input_dim, 1), activation=\"linear\"),\n",
    "    tf.keras.layers.Dense(units=1, activation=\"linear\")\n",
    "])\n",
    "model.compile(loss='mean_squared_error', optimizer='adam')"
   ]
  },
  {
   "cell_type": "code",
   "execution_count": 16,
   "id": "eec0c479-d3bf-4d6b-b51b-46222e0c73a3",
   "metadata": {},
   "outputs": [
    {
     "name": "stdout",
     "output_type": "stream",
     "text": [
      "wx =  [[1.5359861]]  wh =  [[1.]]  bh =  [0.]  wy = [[1.433561]] by =  [0.]\n"
     ]
    }
   ],
   "source": [
    "wx = model.get_weights()[0]\n",
    "wh = model.get_weights()[1]\n",
    "bh = model.get_weights()[2]\n",
    "wy = model.get_weights()[3]\n",
    "by = model.get_weights()[4]\n",
    " \n",
    "print('wx = ', wx, ' wh = ', wh, ' bh = ', bh, ' wy =', wy, 'by = ', by)"
   ]
  },
  {
   "cell_type": "code",
   "execution_count": 17,
   "id": "a2513161-5db7-403e-a750-872dfd549bc3",
   "metadata": {},
   "outputs": [
    {
     "data": {
      "text/plain": [
       "[array([[1.5359861]], dtype=float32),\n",
       " array([[1.]], dtype=float32),\n",
       " array([0.], dtype=float32),\n",
       " array([[1.433561]], dtype=float32),\n",
       " array([0.], dtype=float32)]"
      ]
     },
     "execution_count": 17,
     "metadata": {},
     "output_type": "execute_result"
    }
   ],
   "source": [
    "model.get_weights()"
   ]
  },
  {
   "cell_type": "markdown",
   "id": "742f30e4-5353-4b70-aaa9-551257795ebd",
   "metadata": {},
   "source": [
    "## References\n",
    "\n",
    "https://machinelearningmastery.com/understanding-simple-recurrent-neural-networks-in-keras/"
   ]
  },
  {
   "cell_type": "code",
   "execution_count": null,
   "id": "bbd48ba8-85b6-4545-b677-9cdd44f969dd",
   "metadata": {},
   "outputs": [],
   "source": []
  }
 ],
 "metadata": {
  "kernelspec": {
   "display_name": "Python 3 (ipykernel)",
   "language": "python",
   "name": "python3"
  },
  "language_info": {
   "codemirror_mode": {
    "name": "ipython",
    "version": 3
   },
   "file_extension": ".py",
   "mimetype": "text/x-python",
   "name": "python",
   "nbconvert_exporter": "python",
   "pygments_lexer": "ipython3",
   "version": "3.10.13"
  }
 },
 "nbformat": 4,
 "nbformat_minor": 5
}
