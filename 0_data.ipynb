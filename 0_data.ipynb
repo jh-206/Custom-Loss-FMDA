{
 "cells": [
  {
   "cell_type": "code",
   "execution_count": null,
   "id": "027e514d-2494-44da-9767-b9a02393bf6b",
   "metadata": {},
   "outputs": [],
   "source": [
    "import pandas as pd\n",
    "import numpy as np\n",
    "import os\n",
    "import os.path as osp\n",
    "import subprocess"
   ]
  },
  {
   "cell_type": "code",
   "execution_count": null,
   "id": "b7156fc2-ceaa-40a8-9b51-e0c4e0d47314",
   "metadata": {},
   "outputs": [],
   "source": [
    "dfile = \"raws_CA_202401-03.pkl\" # dictionary file name\n",
    "\n",
    "if not osp.exists(osp.join(\"data\", dfile)):\n",
    "    print(f\"Retrieving {dfile} from https://demo.openwfm.org/web/data/fmda/dicts/\")\n",
    "    subprocess.call(f\"wget -P data https://demo.openwfm.org/web/data/fmda/dicts/{dfile}\")"
   ]
  },
  {
   "cell_type": "code",
   "execution_count": null,
   "id": "94c05392-03e4-49d3-a9a3-7a7d05e68f49",
   "metadata": {},
   "outputs": [],
   "source": [
    "dat = pd.read_pickle(f\"data/{dfile}\")"
   ]
  },
  {
   "cell_type": "code",
   "execution_count": null,
   "id": "78a0b265-124d-4c17-ba00-2262cddae04a",
   "metadata": {},
   "outputs": [],
   "source": [
    "# List of column names\n",
    "column_names = ['STID', 'lat', 'lon', 'elevation', 'fm', 'Ed', 'Ew', 'solar', 'wind', 'rain', 'time']\n",
    "# Array of Target Times, used to interpolate observed RAWS times to it\n",
    "times = dat[[*dat.keys()][0]][\"RAWS\"][\"time\"]\n",
    "\n",
    "# Initialize DataFrame with column names and data types\n",
    "df = pd.DataFrame(columns=column_names)\n",
    "\n",
    "for k in dat:\n",
    "    loc = pd.DataFrame(dat[\"JEFW1_202401\"][\"loc\"], index=[0])\n",
    "    df_temp = pd.concat([loc]*len(times), ignore_index=True)"
   ]
  },
  {
   "cell_type": "code",
   "execution_count": null,
   "id": "b68e5e29-2b4b-43f9-82d2-c1d7de4411c9",
   "metadata": {},
   "outputs": [],
   "source": [
    "df_temp"
   ]
  },
  {
   "cell_type": "code",
   "execution_count": null,
   "id": "85291451-2f9c-4da9-bb70-d6bbd09454a5",
   "metadata": {},
   "outputs": [],
   "source": []
  }
 ],
 "metadata": {
  "kernelspec": {
   "display_name": "Python 3 (ipykernel)",
   "language": "python",
   "name": "python3"
  },
  "language_info": {
   "codemirror_mode": {
    "name": "ipython",
    "version": 3
   },
   "file_extension": ".py",
   "mimetype": "text/x-python",
   "name": "python",
   "nbconvert_exporter": "python",
   "pygments_lexer": "ipython3",
   "version": "3.10.13"
  }
 },
 "nbformat": 4,
 "nbformat_minor": 5
}
