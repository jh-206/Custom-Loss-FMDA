





import sys
import os.path as osp
import os
import pickle
from MesoPy import Meso
import pandas as pd
import numpy as np
from datetime import datetime

# Custom modules
sys.path.append(osp.join(os.getcwd(),"src")) # Add src subdirectory to python path
from data_funcs import format_raws

# Define output path
outpath = "./data"

# Setup Mesowest data query
meso_token="4192c18707b848299783d59a9317c6e1" # Get your own token...
m=Meso(meso_token)





# Set up data query params
time_start = "202305010000"  # May 1 2023 00:00 in format yyyymmddHHMM
time_s2    = "202305010100"  # small time increment used to get station ids
time_end   = "202309302300"  # Sept 30 2023 23:00 in format yyyymmddHHMM
state = "CO"

# Variable names needed to run fmda
vars='air_temp,relative_humidity,precip_accum,fuel_moisture,wind_speed,solar_radiation'





# Check that data alread exists in outputs
if osp.exists(osp.join(outpath, "station_df_co.csv")):
    station_df=pd.read_csv(osp.join(outpath, "station_df_co.csv"))
    ids = station_df['STID'].tolist()
    print('Number of RAWS Stations: ',station_df.shape[0])
else:
    # Get one hour of data
    meso_obss = m.timeseries(start=time_start,end=time_s2, state=state, 
                                 showemptystations = '0', vars=vars)
    # Set up DF to view data availability
    station_df = pd.DataFrame(columns=['STID', 'air_temp', 'relative_humidity', 'precip_accum', 'fuel_moisture', 'wind_speed', 'solar_radiation'],
                      index=range(0, len(meso_obss["STATION"])))
    # Loop through stations in returned data and add indicator of whether variable is present
    for i in range(0, station_df.shape[0]):
        station_df["STID"][i] = meso_obss["STATION"][i]["STID"]
        station_df["air_temp"][i] = int("air_temp" in meso_obss["STATION"][i]["SENSOR_VARIABLES"].keys())
        station_df["relative_humidity"][i] = int("relative_humidity" in meso_obss["STATION"][i]["SENSOR_VARIABLES"].keys())
        station_df["precip_accum"][i] = int("precip_accum" in meso_obss["STATION"][i]["SENSOR_VARIABLES"].keys())
        station_df["fuel_moisture"][i] = int("fuel_moisture" in meso_obss["STATION"][i]["SENSOR_VARIABLES"].keys())
        station_df["wind_speed"][i] = int("wind_speed" in meso_obss["STATION"][i]["SENSOR_VARIABLES"].keys())
        station_df["solar_radiation"][i] = int("solar_radiation" in meso_obss["STATION"][i]["SENSOR_VARIABLES"].keys())

    # Filter to stations with complete observations over time period
    station_df = station_df[
        (station_df["fuel_moisture"]==1) & 
        (station_df["relative_humidity"]==1) &
        (station_df["precip_accum"]==1) &
        (station_df["air_temp"]==1) &
        (station_df["wind_speed"]==1) &
        (station_df["solar_radiation"]==1)
    ]
    # Extract station IDs
    ids = station_df['STID'].tolist()
    # Print number of stations
    print('Number of RAWS Stations: ',station_df.shape[0])
    station_df[station_df["fuel_moisture"]==1].head()

    # write output
    station_df.to_csv(osp.join(outpath, 'station_df_co.csv'), index=False)





dates = pd.date_range(time_start, time_end, periods=5)


# define helper function to retrieve_data
def get_raws(d1, d2):
    print('Gathering data from '+str(d1)+' to '+str(d2))
    meso_ts = m.timeseries(d1.strftime("%Y%m%d%H%M"), d2.strftime("%Y%m%d%H%M"), stid=ids, showemptystations = '0', vars=vars)   # ask the object for data
    # Dictionary to be saved for testing
    raws_dict = {}
    for i in range(0, len(meso_ts['STATION'])):
        raws1 = format_raws(meso_ts['STATION'][i])
        raws_dict[raws1['STID']] = raws1 # save to test dictionary
    print('Number of Stations: '+str(len(raws_dict)))
    print('Number of observations: '+str(len(raws1['fm'])))
    return raws_dict


# Get first time period, then join to it after
raws_dict = get_raws(dates[0], dates[1])


# Loop through other time periods and join
for i in range(1, len(dates)-1):
    rtemp = get_raws(dates[i], dates[i+1])
    # Loop through stations and append observed data
    vs = 'time', 'rain', 'solar', 'fm', 'temp', 'rh', 'wind_speed', 'Ed', 'Ew' # variable names to append
    for st in rtemp.keys():
        for v in vs:
            raws_dict[st][v]=np.append(raws_dict[st][v], rtemp[st][v])


# Check for complete observations









