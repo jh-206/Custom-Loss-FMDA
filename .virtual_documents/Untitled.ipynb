





import sys
import os.path as osp
import os
import pickle
from MesoPy import Meso
import pandas as pd
import numpy as np
from datetime import datetime

# Custom modules
sys.path.append(osp.join(os.getcwd(),"src")) # Add src subdirectory to python path
from data_funcs import format_raws

# Define output path
outpath = "./data"

# Setup Mesowest data query
meso_token="4192c18707b848299783d59a9317c6e1" # Get your own token...
m=Meso(meso_token)





# Set up data query params
time_start = "202305010000"  # May 1 2023 00:00 in format yyyymmddHHMM
time_s2    = "202306010100"  # small time increment used to get station ids
time_end   = "202309302300"  # Sept 30 2023 23:00 in format yyyymmddHHMM
state = "CO"

# Variable names needed to run fmda
vars='air_temp,relative_humidity,precip_accum,fuel_moisture,wind_speed,solar_radiation'





# Get one hour of data
meso_obss = m.timeseries(start=time_start,end=time_s2, state=state, 
                             showemptystations = '0', vars=vars)
# Set up DF to view data availability
station_df = pd.DataFrame(columns=['STID', 'air_temp', 'relative_humidity', 'precip_accum', 'fuel_moisture', 'wind_speed', 'solar_radiation'],
                  index=range(0, len(meso_obss["STATION"])))
# Loop through stations in returned data and add indicator of whether variable is present
for i in range(0, station_df.shape[0]):
    station_df["STID"][i] = meso_obss["STATION"][i]["STID"]
    station_df["air_temp"][i] = int("air_temp" in meso_obss["STATION"][i]["SENSOR_VARIABLES"].keys())
    station_df["relative_humidity"][i] = int("relative_humidity" in meso_obss["STATION"][i]["SENSOR_VARIABLES"].keys())
    station_df["precip_accum"][i] = int("precip_accum" in meso_obss["STATION"][i]["SENSOR_VARIABLES"].keys())
    station_df["fuel_moisture"][i] = int("fuel_moisture" in meso_obss["STATION"][i]["SENSOR_VARIABLES"].keys())
    station_df["wind_speed"][i] = int("wind_speed" in meso_obss["STATION"][i]["SENSOR_VARIABLES"].keys())
    station_df["solar_radiation"][i] = int("solar_radiation" in meso_obss["STATION"][i]["SENSOR_VARIABLES"].keys())


# Filter to stations with complete observations over time period
station_df = station_df[
    (station_df["fuel_moisture"]==1) & 
    (station_df["relative_humidity"]==1) &
    (station_df["precip_accum"]==1) &
    (station_df["air_temp"]==1) &
    (station_df["wind_speed"]==1) &
    (station_df["solar_radiation"]==1)
]
# Extract station IDs
ids = station_df['STID'].tolist()
# Print number of stations
print('Number of RAWS Stations: ',station_df.shape[0])
station_df[station_df["fuel_moisture"]==1].head()


# write output
station_df.to_csv(osp.join(outpath, 'station_df_co.csv'), index=False)





dates = pd.date_range(time_start, time_end, periods=4)


# Queuery all stations with complete vars
meso_ts1 = m.timeseries(dates[0].strftime("%Y%m%d%H%M"), dates[1].strftime("%Y%m%d%H%M"), stid=ids, showemptystations = '0', vars=vars)   # ask the object for data
meso_ts2 = m.timeseries(dates[1].strftime("%Y%m%d%H%M"), dates[2].strftime("%Y%m%d%H%M"), stid=ids, showemptystations = '0', vars=vars)   # ask the object for data
meso_ts3 = m.timeseries(dates[2].strftime("%Y%m%d%H%M"), dates[3].strftime("%Y%m%d%H%M"), stid=ids, showemptystations = '0', vars=vars)   # ask the object for data


# Ensure all stations present in each collection of time series
print(len(meso_ts1['STATION']));print(len(meso_ts2['STATION']));print(len(meso_ts3['STATION']))



