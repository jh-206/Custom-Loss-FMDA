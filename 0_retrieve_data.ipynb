{
 "cells": [
  {
   "cell_type": "code",
   "execution_count": null,
   "id": "027e514d-2494-44da-9767-b9a02393bf6b",
   "metadata": {},
   "outputs": [],
   "source": [
    "import pandas as pd\n",
    "import numpy as np\n",
    "import os\n",
    "import os.path as osp\n",
    "import subprocess\n",
    "from src.data_funcs import get_stids\n",
    "import json\n",
    "from datetime import datetime, timedelta\n",
    "from synoptic.services import stations_timeseries"
   ]
  },
  {
   "cell_type": "code",
   "execution_count": null,
   "id": "fbe642a5-e0e6-409a-954a-e5dfcf0fbbe5",
   "metadata": {},
   "outputs": [],
   "source": [
    "# Load Setup\n",
    "tokens = json.load(open('etc/tokens.json'))\n",
    "meso_token = tokens['mesowest']\n",
    "\n",
    "# User Arugments\n",
    "start = \"202306010000\" \n",
    "end = \"202308312300\"\n",
    "bbox = [37,-111,46,-95]"
   ]
  },
  {
   "cell_type": "code",
   "execution_count": null,
   "id": "0bf8adf0-8971-497b-8c87-433333f2b81c",
   "metadata": {},
   "outputs": [],
   "source": [
    "# Get STIDs \n",
    "sts=get_stids(start, end, bbox, meso_token)"
   ]
  },
  {
   "cell_type": "code",
   "execution_count": null,
   "id": "e76dfafc-6b81-43ee-a7eb-cd5d81336932",
   "metadata": {},
   "outputs": [],
   "source": [
    "raws_vars = [\"air_temp\", \"relative_humidity\", \"precip_accum\", \"fuel_moisture\", \"wind_speed\", \"solar_radiation\"]\n",
    "t0 = datetime.strptime(start, \"%Y%m%d%H%M\")\n",
    "t1 = datetime.strptime(end, \"%Y%m%d%H%M\")\n",
    "params = dict(\n",
    "    stid=[\"PLACEHOLDER\"], # change this in the loop\n",
    "    vars=raws_vars,\n",
    "    start=t0,\n",
    "    end= t1+timedelta(hours=1) # add an hour since it doesn't include end date exactly\n",
    ")"
   ]
  },
  {
   "cell_type": "code",
   "execution_count": null,
   "id": "72ece850-c427-4310-a17e-8913a862b803",
   "metadata": {},
   "outputs": [],
   "source": [
    "# Loop over STIDs and collect data with full sensor data\n",
    "for st in sts:\n",
    "\n",
    "    print(\"~\"*50)\n",
    "    print(f\"Collecting RAWS data for {st}\")\n",
    "    params[\"stid\"] = [st]\n",
    "    try:\n",
    "        df_temp = stations_timeseries(verbose=\"HIDE\", **params)\n",
    "\n",
    "        if \"fuel_moisture\" in dat.columns:\n",
    "            print(\"Collected FMC data\")\n",
    "            # loc, raws = format_raws_df(dat,tstart, tend)\n",
    "            # title = f\"{st}_{t0.year}{t0.strftime('%m')}\"\n",
    "            # out_dict[title] = {\"loc\":loc, \"RAWS\": raws}\n",
    "        else:\n",
    "            print(f\"Not full data at {st}\")\n",
    "    except AssertionError as e:\n",
    "        # Error handling behavior\n",
    "        print(\"AssertionError caught:\", e)"
   ]
  },
  {
   "cell_type": "code",
   "execution_count": null,
   "id": "bf1e8112-b6b7-4d20-b816-e1c2ae637349",
   "metadata": {},
   "outputs": [],
   "source": []
  }
 ],
 "metadata": {
  "kernelspec": {
   "display_name": "Python 3 (ipykernel)",
   "language": "python",
   "name": "python3"
  },
  "language_info": {
   "codemirror_mode": {
    "name": "ipython",
    "version": 3
   },
   "file_extension": ".py",
   "mimetype": "text/x-python",
   "name": "python",
   "nbconvert_exporter": "python",
   "pygments_lexer": "ipython3",
   "version": "3.9.12"
  }
 },
 "nbformat": 4,
 "nbformat_minor": 5
}
