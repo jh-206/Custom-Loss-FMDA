{
 "cells": [
  {
   "cell_type": "code",
   "execution_count": null,
   "id": "027e514d-2494-44da-9767-b9a02393bf6b",
   "metadata": {},
   "outputs": [],
   "source": [
    "import pandas as pd\n",
    "import numpy as np\n",
    "import os\n",
    "import os.path as osp\n",
    "import subprocess\n",
    "from src.data_funcs import get_stids\n",
    "import json\n",
    "import pickle\n",
    "from datetime import datetime, timedelta\n",
    "from synoptic.services import stations_timeseries\n",
    "from src.data_funcs import time_intp"
   ]
  },
  {
   "cell_type": "code",
   "execution_count": null,
   "id": "fbe642a5-e0e6-409a-954a-e5dfcf0fbbe5",
   "metadata": {},
   "outputs": [],
   "source": [
    "# Load Setup\n",
    "tokens = json.load(open('etc/tokens.json'))\n",
    "meso_token = tokens['mesowest']\n",
    "\n",
    "# User Arugments\n",
    "start = \"202306010000\" \n",
    "end = \"202308312300\"\n",
    "bbox = [37,-111,46,-95]\n",
    "\n",
    "filename = \"rocky_2023_06-08.pkl\""
   ]
  },
  {
   "cell_type": "code",
   "execution_count": null,
   "id": "6aa0edbd-a3bd-4b5c-8287-799599d5a08a",
   "metadata": {},
   "outputs": [],
   "source": [
    "# Get times array\n",
    "times = pd.date_range(start=start,end=end, freq=\"1h\")"
   ]
  },
  {
   "cell_type": "code",
   "execution_count": null,
   "id": "0bf8adf0-8971-497b-8c87-433333f2b81c",
   "metadata": {},
   "outputs": [],
   "source": [
    "# Get STIDs \n",
    "sts=get_stids(start, end, bbox, meso_token)"
   ]
  },
  {
   "cell_type": "code",
   "execution_count": null,
   "id": "e76dfafc-6b81-43ee-a7eb-cd5d81336932",
   "metadata": {},
   "outputs": [],
   "source": [
    "raws_vars = [\"air_temp\", \"relative_humidity\", \"precip_accum\", \"fuel_moisture\", \"wind_speed\", \"solar_radiation\"]\n",
    "t0 = datetime.strptime(start, \"%Y%m%d%H%M\")\n",
    "t1 = datetime.strptime(end, \"%Y%m%d%H%M\")\n",
    "params = dict(\n",
    "    stid=[\"PLACEHOLDER\"], # change this in the loop\n",
    "    vars=raws_vars,\n",
    "    start=t0,\n",
    "    end= t1+timedelta(hours=1) # add an hour since it doesn't include end date exactly\n",
    ")"
   ]
  },
  {
   "cell_type": "code",
   "execution_count": null,
   "id": "72ece850-c427-4310-a17e-8913a862b803",
   "metadata": {},
   "outputs": [],
   "source": [
    "# Loop over STIDs and collect data with full sensor data\n",
    "dfs = [] # empty list to collect data\n",
    "for st in sts:\n",
    "\n",
    "    print(\"~\"*50)\n",
    "    print(f\"Collecting RAWS data for {st}\")\n",
    "    params[\"stid\"] = [st]\n",
    "    try:\n",
    "        df_temp = stations_timeseries(verbose=\"HIDE\", **params)\n",
    "        # Keep data if has all sensor data\n",
    "        if all(col in df_temp.columns for col in raws_vars):\n",
    "            # Keep data if over 90% time coverage to limit interpolation\n",
    "            if df_temp.shape[0]>= .9*len(times):\n",
    "                print(f\"Number of observations at {st}: {df_temp.shape[0]}\")\n",
    "                # Fill in missing rows with NA, linear interpolate missing values\n",
    "                if df_temp.shape[0] != len(times):\n",
    "                    print(f\"Interpolating missing hourly values\")\n",
    "                    df_temp = df_temp.asfreq(\"1h\")\n",
    "                    df_temp = df_temp.interpolate(method=\"linear\")\n",
    "                # Rename Columns\n",
    "                new_names = {\n",
    "                    'air_temp': 'temp',\n",
    "                    'fuel_moisture': 'fm',\n",
    "                    'relative_humidity': 'rh',\n",
    "                    'solar_radiation': 'solar',\n",
    "                    'wind_speed': 'wind'\n",
    "                }\n",
    "                # Rename columns\n",
    "                df_temp.rename(columns=new_names, inplace=True)\n",
    "                # Add Derived Columns: Equilibrium Fields and hourly rain\n",
    "                df_temp[\"Ed\"] = 0.924*df_temp.rh**0.679 + 0.000499*np.exp(0.1*df_temp.rh) + 0.18*(21.1 + 273.15 - df_temp.temp)*(1 - np.exp(-0.115*df_temp.rh))\n",
    "                df_temp[\"Ew\"] = 0.618*df_temp.rh**0.753 + 0.000454*np.exp(0.1*df_temp.rh) + 0.18*(21.1 + 273.15 - df_temp.temp)*(1 - np.exp(-0.115*df_temp.rh))\n",
    "                df_temp[\"rain\"] = np.insert(np.diff(df_temp.precip_accum), 0, np.nan)\n",
    "                # Add Derived Time Fields: day of year, hour of day\n",
    "                df_temp[\"hour\"]=df_temp.index.hour\n",
    "                df_temp[\"doy\"]=df_temp.index.dayofyear\n",
    "                # Add Static Data Fields Repeated in time: elevation, lon, lat, stid\n",
    "                df_temp[\"elev\"]=df_temp.attrs[\"ELEVATION\"]\n",
    "                df_temp[\"lon\"]=df_temp.attrs[\"longitude\"]\n",
    "                df_temp[\"lat\"]=df_temp.attrs[\"latitude\"]\n",
    "                df_temp[\"stid\"]=df_temp.attrs[\"STID\"]\n",
    "                # Append station data to collection in bbox\n",
    "                dfs.append(df_temp)\n",
    "                print(f\"Collected FMC data for {st}\")\n",
    "            else:\n",
    "                print(f\"Not sufficient data at {st}: More than 10% missing data for time period for station\")\n",
    "        else:\n",
    "            print(f\"Not full data at {st}: missing sensor timeseries\")\n",
    "    except AssertionError as e:\n",
    "        # Error handling behavior\n",
    "        print(\"AssertionError caught:\", e)\n"
   ]
  },
  {
   "cell_type": "code",
   "execution_count": null,
   "id": "bf1e8112-b6b7-4d20-b816-e1c2ae637349",
   "metadata": {},
   "outputs": [],
   "source": [
    "# Concatenate the dataframes\n",
    "df = pd.concat(dfs, ignore_index=True)"
   ]
  },
  {
   "cell_type": "code",
   "execution_count": null,
   "id": "0eaf2d7e-36dd-4bb9-a0b0-1db7a83b6eaf",
   "metadata": {},
   "outputs": [],
   "source": [
    "# Write Dataframe\n",
    "with open(osp.join(\"data\", filename), 'wb') as handle:\n",
    "    pickle.dump(df, handle, protocol=pickle.HIGHEST_PROTOCOL)"
   ]
  },
  {
   "cell_type": "code",
   "execution_count": null,
   "id": "450000a0-ee13-4d22-b28f-38048d57a75a",
   "metadata": {},
   "outputs": [],
   "source": []
  },
  {
   "cell_type": "code",
   "execution_count": null,
   "id": "e864cb95-5754-4720-8871-f1cf0af808ef",
   "metadata": {},
   "outputs": [],
   "source": []
  }
 ],
 "metadata": {
  "kernelspec": {
   "display_name": "Python 3 (ipykernel)",
   "language": "python",
   "name": "python3"
  },
  "language_info": {
   "codemirror_mode": {
    "name": "ipython",
    "version": 3
   },
   "file_extension": ".py",
   "mimetype": "text/x-python",
   "name": "python",
   "nbconvert_exporter": "python",
   "pygments_lexer": "ipython3",
   "version": "3.10.13"
  }
 },
 "nbformat": 4,
 "nbformat_minor": 5
}
