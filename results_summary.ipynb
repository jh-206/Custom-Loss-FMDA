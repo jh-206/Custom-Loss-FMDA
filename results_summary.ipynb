{
 "cells": [
  {
   "cell_type": "markdown",
   "id": "a2442d5d-ad18-422a-8972-ac877a5d7772",
   "metadata": {},
   "source": [
    "# Results Analysis"
   ]
  },
  {
   "cell_type": "markdown",
   "id": "b121638e-72c5-4199-b076-5040b30e521e",
   "metadata": {},
   "source": [
    "The purpose of this notebook is to analyze the results from the RNN training experiments.\n",
    "\n",
    "Unless otherwise stated, we will refer to the trained RNN as \"the RNN\". All validation numbers are RMSE."
   ]
  },
  {
   "cell_type": "markdown",
   "id": "b9fcba93-c2ae-4838-a867-c803b9674d43",
   "metadata": {},
   "source": [
    "## Environment Setup"
   ]
  },
  {
   "cell_type": "code",
   "execution_count": null,
   "id": "d229fcbe-a326-4bc5-a72b-6c5aad6d95af",
   "metadata": {},
   "outputs": [],
   "source": [
    "import sys\n",
    "sys.path.insert(0,'src')"
   ]
  },
  {
   "cell_type": "code",
   "execution_count": null,
   "id": "a9a5579c-007b-49fd-a022-0463f430a854",
   "metadata": {},
   "outputs": [],
   "source": [
    "import numpy as np\n",
    "import matplotlib.pyplot as plt\n",
    "import pandas as pd\n",
    "import seaborn as sns\n",
    "\n",
    "from data_funcs import from_json"
   ]
  },
  {
   "cell_type": "code",
   "execution_count": null,
   "id": "1693cc97-a154-4a1f-8dbb-724b4669abb7",
   "metadata": {},
   "outputs": [],
   "source": [
    "results = from_json(\"outputs/output_subset.json\")"
   ]
  },
  {
   "cell_type": "markdown",
   "id": "220ea3e3-f266-4ec5-9738-9f9fb212524f",
   "metadata": {},
   "source": [
    "## Summarise Results\n"
   ]
  },
  {
   "cell_type": "markdown",
   "id": "53b80168-c2a7-4202-bb17-36703523766d",
   "metadata": {},
   "source": [
    "### Extract Results"
   ]
  },
  {
   "cell_type": "markdown",
   "id": "cb62add6-6f16-4e19-97b3-b5e285cfc928",
   "metadata": {},
   "source": [
    "We next build a long-format dataframe with all of the results from the results dictionary."
   ]
  },
  {
   "cell_type": "code",
   "execution_count": null,
   "id": "50d8743d-790d-4d73-9a9e-b641f1fb105a",
   "metadata": {},
   "outputs": [],
   "source": [
    "df = pd.DataFrame(columns=['Period', 'Case', 'RMSE', 'Model'])\n",
    "for case in results['2']['cases']:\n",
    "    df_temp = pd.DataFrame(results['2']['cases'][case])\n",
    "    df_temp=df_temp.rename_axis(\"Period\").reset_index()\n",
    "    df_temp['Case']=np.repeat(case, 3)\n",
    "    df_temp=pd.melt(df_temp, id_vars=['Period', 'Case'], value_vars=['AR', 'Augmented KF', 'RNN trained'],\n",
    "                    var_name='Model', value_name='RMSE')\n",
    "    df = pd.concat((df, df_temp))\n",
    "df"
   ]
  },
  {
   "cell_type": "markdown",
   "id": "f0b95428-ee27-49b2-ab16-045405bac854",
   "metadata": {},
   "source": [
    "### Results by Model\n"
   ]
  },
  {
   "cell_type": "code",
   "execution_count": null,
   "id": "6a3ab944-4dc7-459b-aa17-2c85f6e7c681",
   "metadata": {},
   "outputs": [],
   "source": [
    "sns.boxplot(\n",
    "    x=df['Model'],\n",
    "    y=df['RMSE'],\n",
    "    hue=df['Period']\n",
    ").set_title('Results by Model')"
   ]
  },
  {
   "cell_type": "code",
   "execution_count": null,
   "id": "67446b8a-a6c5-4963-9d56-8de91d1d9301",
   "metadata": {},
   "outputs": [],
   "source": [
    "x=df.groupby(['Model', 'Period']).agg({'RMSE': 'mean'})\n",
    "x"
   ]
  },
  {
   "cell_type": "code",
   "execution_count": null,
   "id": "37546b0c-5050-4fa5-81c1-e2bc5a8bc55d",
   "metadata": {},
   "outputs": [],
   "source": []
  }
 ],
 "metadata": {
  "kernelspec": {
   "display_name": "Python 3 (ipykernel)",
   "language": "python",
   "name": "python3"
  },
  "language_info": {
   "codemirror_mode": {
    "name": "ipython",
    "version": 3
   },
   "file_extension": ".py",
   "mimetype": "text/x-python",
   "name": "python",
   "nbconvert_exporter": "python",
   "pygments_lexer": "ipython3",
   "version": "3.9.12"
  }
 },
 "nbformat": 4,
 "nbformat_minor": 5
}
