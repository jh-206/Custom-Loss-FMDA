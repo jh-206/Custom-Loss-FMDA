{
 "cells": [
  {
   "cell_type": "markdown",
   "id": "d6a0ebab-9ebf-40c2-a5ea-aa110fdcf418",
   "metadata": {},
   "source": [
    "# Retrieve RAWS Station Data\n",
    "\n",
    "The purpose of this notebook is to collect 10-h fuel moisture data from RAWS stations in Colorado for a given analysis period. Additionally, we will filter the RAWS stations to those with complete atmospheric data sensors needed to run fuel moisture models. This additional data will be collected as a quality assurance for the atmospheric satellite data. \n",
    "\n",
    "* **Spatial Domain**: All RAWS stations in CO with complete atmospheric data.\n",
    "* **Time Period**: All data from May-September 2023\n",
    "\n",
    "The time period is 5 months of data that correspond to Colorado's traditional fire season, though this has been extended with climate change."
   ]
  },
  {
   "cell_type": "markdown",
   "id": "50595c75-3d9e-4054-9511-b4b0bde5c4c7",
   "metadata": {},
   "source": [
    "## Environment Setup"
   ]
  },
  {
   "cell_type": "code",
   "execution_count": null,
   "id": "1aeba74e-6646-4dc8-a693-b522516f63ef",
   "metadata": {},
   "outputs": [],
   "source": [
    "import sys\n",
    "import os.path as osp\n",
    "import os\n",
    "import pickle\n",
    "from MesoPy import Meso\n",
    "import pandas as pd\n",
    "import numpy as np\n",
    "from datetime import datetime\n",
    "\n",
    "# Custom modules\n",
    "sys.path.append(osp.join(os.getcwd(),\"src\")) # Add src subdirectory to python path\n",
    "from data_funcs import format_raws\n",
    "\n",
    "# Define output path\n",
    "outpath = \"./data\"\n",
    "\n",
    "# Setup Mesowest data query\n",
    "meso_token=\"4192c18707b848299783d59a9317c6e1\" # Get your own token...\n",
    "m=Meso(meso_token)"
   ]
  },
  {
   "cell_type": "markdown",
   "id": "c47abf69-6ec6-4957-918a-7c438bc3d6e3",
   "metadata": {},
   "source": [
    "## Find Data Availability for Stations\n",
    "\n",
    "Find which RAWS stations in Colorado have data availability for variables of interest to fuel moisture model. Variable names from [Synoptic](https://developers.synopticdata.com/mesonet/v2/api-variables/).\n",
    "\n",
    "*Note:* the Mesowest API only provides recent data for users with a free token (one year based on testing). "
   ]
  },
  {
   "cell_type": "code",
   "execution_count": null,
   "id": "1937477d-a35a-436d-a9e4-55df7e5a9a44",
   "metadata": {},
   "outputs": [],
   "source": [
    "# Set up data query params\n",
    "time_start = \"202305010000\"  # May 1 2023 00:00 in format yyyymmddHHMM\n",
    "time_s2    = \"202305010100\"  # small time increment used to get station ids\n",
    "time_end   = \"202309302300\"  # Sept 30 2023 23:00 in format yyyymmddHHMM\n",
    "state = \"CO\"\n",
    "\n",
    "# Variable names needed to run fmda\n",
    "vars='air_temp,relative_humidity,precip_accum,fuel_moisture,wind_speed,solar_radiation'"
   ]
  },
  {
   "cell_type": "markdown",
   "id": "5c770d29-716c-446c-96d2-69f3d60df809",
   "metadata": {},
   "source": [
    "We next query data for a small period of time to view which stations have complete observations of the variables listed above."
   ]
  },
  {
   "cell_type": "code",
   "execution_count": null,
   "id": "b085ecd3-2e2f-46fd-bc13-41042828c7d8",
   "metadata": {},
   "outputs": [],
   "source": [
    "# Check that data alread exists in outputs\n",
    "if osp.exists(osp.join(outpath, \"station_df_co.csv\")):\n",
    "    station_df=pd.read_csv(osp.join(outpath, \"station_df_co.csv\"))\n",
    "    ids = station_df['STID'].tolist()\n",
    "    print('Number of RAWS Stations: ',station_df.shape[0])\n",
    "else:\n",
    "    # Get one hour of data\n",
    "    meso_obss = m.timeseries(start=time_start,end=time_s2, state=state, \n",
    "                                 showemptystations = '0', vars=vars)\n",
    "    # Set up DF to view data availability\n",
    "    station_df = pd.DataFrame(columns=['STID', 'air_temp', 'relative_humidity', 'precip_accum', 'fuel_moisture', 'wind_speed', 'solar_radiation'],\n",
    "                      index=range(0, len(meso_obss[\"STATION\"])))\n",
    "    # Loop through stations in returned data and add indicator of whether variable is present\n",
    "    for i in range(0, station_df.shape[0]):\n",
    "        station_df[\"STID\"][i] = meso_obss[\"STATION\"][i][\"STID\"]\n",
    "        station_df[\"air_temp\"][i] = int(\"air_temp\" in meso_obss[\"STATION\"][i][\"SENSOR_VARIABLES\"].keys())\n",
    "        station_df[\"relative_humidity\"][i] = int(\"relative_humidity\" in meso_obss[\"STATION\"][i][\"SENSOR_VARIABLES\"].keys())\n",
    "        station_df[\"precip_accum\"][i] = int(\"precip_accum\" in meso_obss[\"STATION\"][i][\"SENSOR_VARIABLES\"].keys())\n",
    "        station_df[\"fuel_moisture\"][i] = int(\"fuel_moisture\" in meso_obss[\"STATION\"][i][\"SENSOR_VARIABLES\"].keys())\n",
    "        station_df[\"wind_speed\"][i] = int(\"wind_speed\" in meso_obss[\"STATION\"][i][\"SENSOR_VARIABLES\"].keys())\n",
    "        station_df[\"solar_radiation\"][i] = int(\"solar_radiation\" in meso_obss[\"STATION\"][i][\"SENSOR_VARIABLES\"].keys())\n",
    "\n",
    "    # Filter to stations with complete observations over time period\n",
    "    station_df = station_df[\n",
    "        (station_df[\"fuel_moisture\"]==1) & \n",
    "        (station_df[\"relative_humidity\"]==1) &\n",
    "        (station_df[\"precip_accum\"]==1) &\n",
    "        (station_df[\"air_temp\"]==1) &\n",
    "        (station_df[\"wind_speed\"]==1) &\n",
    "        (station_df[\"solar_radiation\"]==1)\n",
    "    ]\n",
    "    # Extract station IDs\n",
    "    ids = station_df['STID'].tolist()\n",
    "    # Print number of stations\n",
    "    print('Number of RAWS Stations: ',station_df.shape[0])\n",
    "    station_df[station_df[\"fuel_moisture\"]==1].head()\n",
    "\n",
    "    # write output\n",
    "    station_df.to_csv(osp.join(outpath, 'station_df_co.csv'), index=False)"
   ]
  },
  {
   "cell_type": "markdown",
   "id": "e877de03-5894-4d1a-b552-b65990a33c29",
   "metadata": {},
   "source": [
    "## Get RAWS Observations\n",
    "\n",
    "For the station IDs found above, retrieve data for the entire time period. *Note:* the time period needs to be broken into smaller chunks for the API to work."
   ]
  },
  {
   "cell_type": "code",
   "execution_count": null,
   "id": "755063cd-4313-480d-90b8-e9772e435ca1",
   "metadata": {},
   "outputs": [],
   "source": [
    "dates = pd.date_range(time_start, time_end, freq=\"MS\") # Break into months\n",
    "dates = dates.append(pd.date_range(time_end, time_end))"
   ]
  },
  {
   "cell_type": "code",
   "execution_count": null,
   "id": "82c5a8de-1e05-4203-9e52-d3d19a49809c",
   "metadata": {},
   "outputs": [],
   "source": [
    "# define helper function to retrieve_data\n",
    "def get_raws(d1, d2):\n",
    "    print('Gathering data from '+str(d1)+' to '+str(d2))\n",
    "    meso_ts = m.timeseries(d1.strftime(\"%Y%m%d%H%M\"), d2.strftime(\"%Y%m%d%H%M\"), stid=ids, showemptystations = '0', vars=vars)   # ask the object for data\n",
    "    # Dictionary to be saved for testing\n",
    "    raws_dict = {}\n",
    "    for i in range(0, len(meso_ts['STATION'])):\n",
    "        raws1 = format_raws(meso_ts['STATION'][i])\n",
    "        # Filter out if less than 28 days of data\n",
    "        if len(raws1['fm']) < int(24*28):\n",
    "            print(f\"Excluding {raws1['STID']}, nobs = {len(raws1['fm'])}\")\n",
    "        else:\n",
    "            raws_dict[raws1['STID']+\"_\"+d1.strftime(\"%Y-%m-%d\")] = raws1 # save to test dictionary\n",
    "    print('Number of Stations: '+str(len(raws_dict)))\n",
    "    return raws_dict"
   ]
  },
  {
   "cell_type": "code",
   "execution_count": null,
   "id": "7bd7aa57-557f-4c36-b2b9-68255679b1c3",
   "metadata": {},
   "outputs": [],
   "source": [
    "# Check that data alread exists in outputs\n",
    "if osp.exists(osp.join(outpath, \"raws_dat.pickle\")):\n",
    "    raws_dat=pd.read_pickle(osp.join(outpath, \"raws_dat.pickle\"))\n",
    "else:\n",
    "    # Get first time period, then join to it after\n",
    "    raws_dict = get_raws(dates[0], dates[1])\n",
    "    # Loop through other time periods and join\n",
    "    for i in range(1, len(dates)-1):\n",
    "        rtemp = get_raws(dates[i], dates[i+1])\n",
    "        # Loop through stations and append observed data\n",
    "        vs = 'time', 'rain', 'solar', 'fm', 'temp', 'rh', 'wind_speed', 'Ed', 'Ew' # variable names to append\n",
    "        # filter out if less than 29 days of data (24*29 hours)\n",
    "        raws_dict |= rtemp # append\n",
    "        \n",
    "    # Write Output\n",
    "    with open(osp.join(outpath, 'raws_dat.pickle'), 'wb') as handle:\n",
    "        pickle.dump(raws_dict, handle, protocol=pickle.HIGHEST_PROTOCOL)"
   ]
  },
  {
   "cell_type": "code",
   "execution_count": null,
   "id": "161d3fcd-38d5-492b-921c-6c889258cad2",
   "metadata": {},
   "outputs": [],
   "source": []
  },
  {
   "cell_type": "code",
   "execution_count": null,
   "id": "7becf6f4-e927-41d2-ba43-59b3233bc4ca",
   "metadata": {},
   "outputs": [],
   "source": []
  }
 ],
 "metadata": {
  "kernelspec": {
   "display_name": "Python 3 (ipykernel)",
   "language": "python",
   "name": "python3"
  },
  "language_info": {
   "codemirror_mode": {
    "name": "ipython",
    "version": 3
   },
   "file_extension": ".py",
   "mimetype": "text/x-python",
   "name": "python",
   "nbconvert_exporter": "python",
   "pygments_lexer": "ipython3",
   "version": "3.9.12"
  }
 },
 "nbformat": 4,
 "nbformat_minor": 5
}
