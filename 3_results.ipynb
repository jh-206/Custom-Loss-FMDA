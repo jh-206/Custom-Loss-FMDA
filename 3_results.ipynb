{
 "cells": [
  {
   "cell_type": "code",
   "execution_count": null,
   "id": "e0d42eec-f08d-4cde-8862-d3c4157d87e2",
   "metadata": {},
   "outputs": [],
   "source": [
    "import pandas as pd"
   ]
  },
  {
   "cell_type": "code",
   "execution_count": null,
   "id": "0386c3af-ad4f-492b-8b3a-22874f40c054",
   "metadata": {},
   "outputs": [],
   "source": [
    "results = pd.read_pickle(\"outputs/results.pkl\")\n",
    "results"
   ]
  },
  {
   "cell_type": "code",
   "execution_count": null,
   "id": "1dedbf55-821c-4975-ab5c-444cf90b05e4",
   "metadata": {},
   "outputs": [],
   "source": []
  },
  {
   "cell_type": "code",
   "execution_count": null,
   "id": "5df79a67-f859-4612-a097-93d5bc7c9f31",
   "metadata": {},
   "outputs": [],
   "source": [
    "loss_vec = [*loss_dict.keys()]\n",
    "models_vec = [*models.keys()]\n",
    "df1 = pd.DataFrame(np.zeros((len(loss_vec), len(models_vec))), index=loss_vec, columns=models_vec)\n",
    "df2 = pd.DataFrame(np.zeros((len(loss_vec), len(models_vec))), index=loss_vec, columns=models_vec)\n",
    "\n",
    "for l in loss_dict:\n",
    "    for mod in loss_dict[l][\"errs\"]:\n",
    "        df1.loc[l, mod] = np.mean(loss_dict[l][\"errs\"][mod]['rmse_test'])\n",
    "        df2.loc[l, mod] = np.mean(loss_dict[l][\"errs\"][mod]['rmse_test_ROS'])"
   ]
  },
  {
   "cell_type": "code",
   "execution_count": null,
   "id": "06dd5d03-35d9-446c-975a-2a8261557b8a",
   "metadata": {},
   "outputs": [],
   "source": [
    "N = len(models_vec) # number of rows of subplots\n",
    "fig, axes = plt.subplots(N, 2, figsize=(10, 5*N))\n",
    "for i in range(0, len(models_vec)):\n",
    "    mod = models_vec[i]\n",
    "    # Access the subplot at row i, column 0\n",
    "    ax1 = axes[i, 0]\n",
    "    ax1.scatter(df1.index, df1[mod])\n",
    "    ax1.tick_params(axis='x', rotation=90)\n",
    "    ax1.set_title(f'Test RMSE - Model {mod}')\n",
    "\n",
    "    # Access the subplot at row i, column 1\n",
    "    ax2 = axes[i, 1]\n",
    "    ax2.scatter(df2.index, df2[mod], color = 'r')\n",
    "    ax2.tick_params(axis='x', rotation=90)\n",
    "    ax2.ticklabel_format(style='sci', axis='y', scilimits=(0,0))\n",
    "    ax2.set_title(f'Test RMSE on ROS - Model {mod}')\n",
    "\n",
    "plt.tight_layout()\n",
    "plt.show"
   ]
  },
  {
   "cell_type": "code",
   "execution_count": null,
   "id": "c9e139fa-92d8-4c71-a5c7-f194540726fd",
   "metadata": {},
   "outputs": [],
   "source": []
  }
 ],
 "metadata": {
  "kernelspec": {
   "display_name": "Python 3 (ipykernel)",
   "language": "python",
   "name": "python3"
  },
  "language_info": {
   "codemirror_mode": {
    "name": "ipython",
    "version": 3
   },
   "file_extension": ".py",
   "mimetype": "text/x-python",
   "name": "python",
   "nbconvert_exporter": "python",
   "pygments_lexer": "ipython3",
   "version": "3.10.13"
  }
 },
 "nbformat": 4,
 "nbformat_minor": 5
}
