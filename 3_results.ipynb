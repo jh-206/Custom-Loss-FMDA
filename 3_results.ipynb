{
 "cells": [
  {
   "cell_type": "markdown",
   "id": "e2191528-0c96-4657-bfee-e3a684a69dc6",
   "metadata": {},
   "source": [
    "# Results Summary"
   ]
  },
  {
   "cell_type": "markdown",
   "id": "064ac01b-a08d-4602-93c8-94d7ba4cd44b",
   "metadata": {},
   "source": [
    "## Setup"
   ]
  },
  {
   "cell_type": "code",
   "execution_count": null,
   "id": "e0d42eec-f08d-4cde-8862-d3c4157d87e2",
   "metadata": {},
   "outputs": [],
   "source": [
    "import pandas as pd\n",
    "import numpy as np\n",
    "import matplotlib.pyplot as plt\n",
    "import seaborn as sns"
   ]
  },
  {
   "cell_type": "code",
   "execution_count": null,
   "id": "0386c3af-ad4f-492b-8b3a-22874f40c054",
   "metadata": {
    "scrolled": true
   },
   "outputs": [],
   "source": [
    "results_fm = pd.read_pickle(\"outputs/results_fm.pkl\")\n",
    "results_fm"
   ]
  },
  {
   "cell_type": "code",
   "execution_count": null,
   "id": "d882119a-7567-423a-b391-ee8862bdb580",
   "metadata": {},
   "outputs": [],
   "source": [
    "results_ros = pd.read_pickle(\"outputs/results_ros.pkl\")\n",
    "results_ros"
   ]
  },
  {
   "cell_type": "code",
   "execution_count": null,
   "id": "1dedbf55-821c-4975-ab5c-444cf90b05e4",
   "metadata": {},
   "outputs": [],
   "source": [
    "tab1 = results_ros.groupby('Loss', sort=False)['RMSE'].mean().reset_index()\n",
    "tab1.rename(columns={'RMSE': 'Mean'})"
   ]
  },
  {
   "cell_type": "code",
   "execution_count": null,
   "id": "f0db9d97-9159-4555-8d18-a9dc0e75c5cc",
   "metadata": {},
   "outputs": [],
   "source": [
    "pd.options.display.float_format = '{:.2e}'.format"
   ]
  },
  {
   "cell_type": "code",
   "execution_count": null,
   "id": "8e4d145a-1752-49ab-ba40-40d854eebe60",
   "metadata": {},
   "outputs": [],
   "source": [
    "tab1 = results_ros.groupby('Loss', sort=False).agg(\n",
    "    Mean=('RMSE', 'mean'),\n",
    "    Min=('RMSE', 'min'),\n",
    "    Max=('RMSE', 'max')\n",
    ").reset_index()\n",
    "tab1"
   ]
  },
  {
   "cell_type": "code",
   "execution_count": null,
   "id": "a560fcd5-92de-4524-b7b8-d12c9669620e",
   "metadata": {},
   "outputs": [],
   "source": [
    "pd.options.display.float_format = None"
   ]
  },
  {
   "cell_type": "code",
   "execution_count": null,
   "id": "4a12d594-5463-4564-987b-162a9632bb7b",
   "metadata": {},
   "outputs": [],
   "source": [
    "tab2 = results_fm.groupby('Loss', sort=False).agg(\n",
    "    Mean=('RMSE', 'mean'),\n",
    "    Min=('RMSE', 'min'),\n",
    "    Max=('RMSE', 'max')\n",
    ").reset_index()\n",
    "tab2.round(2)"
   ]
  },
  {
   "cell_type": "markdown",
   "id": "dcabad1b-236b-4846-b637-e65a36c3d114",
   "metadata": {},
   "source": [
    "## Plots"
   ]
  },
  {
   "cell_type": "code",
   "execution_count": null,
   "id": "72470aa7-37a1-479d-b89a-755551e3ac08",
   "metadata": {},
   "outputs": [],
   "source": [
    "plt.scatter(tab1.Loss, tab1.Mean, color='r')\n",
    "\n",
    "# plt.errorbar(tab1.Loss, tab1.Mean, yerr=[tab1.Mean[i] - tab1.Min[i] for i in range(len(tab1.Loss))], fmt='o', label='Min')\n",
    "# plt.errorbar(tab1.Loss, tab1.Mean, yerr=[tab1.Mean[i] - tab1.Max[i] for i in range(len(tab1.Loss))], fmt='o', label='Min')\n",
    "\n",
    "plt.xlabel('Loss')\n",
    "plt.ylabel('Mean RMSE')\n",
    "plt.title('Scatter Plot of Mean RMSE by Loss Function')\n",
    "plt.tick_params(axis='x', rotation=90)\n",
    "plt.show()"
   ]
  },
  {
   "cell_type": "code",
   "execution_count": null,
   "id": "a0c319db-6c9f-42d1-a36d-469af2afdbd3",
   "metadata": {},
   "outputs": [],
   "source": [
    "# grouped = results_ros.groupby('Loss').agg({'RMSE': ['mean', 'sem']}).reset_index()\n",
    "# grouped\n",
    "\n",
    "grouped = results_fm.groupby('Loss', sort=False).agg(\n",
    "    Mean=('RMSE', 'mean'),\n",
    "    SE=('RMSE', 'sem')\n",
    ").reset_index()\n",
    "grouped2 = results_ros.groupby('Loss', sort=False).agg(\n",
    "    Mean=('RMSE', 'mean'),\n",
    "    SE=('RMSE', 'sem')\n",
    ").reset_index()"
   ]
  },
  {
   "cell_type": "code",
   "execution_count": null,
   "id": "944f9929-1f68-4445-b1ef-a76d6fac28ad",
   "metadata": {},
   "outputs": [],
   "source": [
    "fig, axes = plt.subplots(1, 2, figsize=(14, 6))\n",
    "ax1 = axes[0]\n",
    "ax1.errorbar(grouped.Loss, grouped.Mean, yerr=grouped.SE, fmt='o', label='SE')\n",
    "# plt.errorbar(tab1.Loss, tab1.Mean, yerr=[tab1.Mean[i] - tab1.Max[i] for i in range(len(tab1.Loss))], fmt='o', label='Min')\n",
    "ax1.ticklabel_format(style='sci', axis='y', scilimits=(0,0))\n",
    "ax1.set_xlabel('Loss')\n",
    "ax1.set_ylabel('Mean RMSE on FMC')\n",
    "ax1.set_title('Mean RMSE by Loss Function (FMC)')\n",
    "ax1.tick_params(axis='x', rotation=90)\n",
    "ax1.grid()\n",
    "\n",
    "ax1 = axes[1]\n",
    "ax1.errorbar(grouped2.Loss, grouped2.Mean, yerr=grouped2.SE, fmt='o', label='SE', color='r')\n",
    "# plt.errorbar(tab1.Loss, tab1.Mean, yerr=[tab1.Mean[i] - tab1.Max[i] for i in range(len(tab1.Loss))], fmt='o', label='Min')\n",
    "ax1.ticklabel_format(style='sci', axis='y', scilimits=(0,0))\n",
    "ax1.set_xlabel('Loss')\n",
    "ax1.set_ylabel('Mean RMSE on ROS')\n",
    "ax1.set_title('Mean RMSE by Loss Function (ROS)')\n",
    "ax1.tick_params(axis='x', rotation=90)\n",
    "ax1.grid()\n",
    "\n",
    "plt.show()"
   ]
  },
  {
   "cell_type": "code",
   "execution_count": null,
   "id": "a8aaad63-d3a2-4009-a267-439ab4a564d6",
   "metadata": {},
   "outputs": [],
   "source": [
    "models_vec = results_ros.Model.unique()"
   ]
  },
  {
   "cell_type": "code",
   "execution_count": null,
   "id": "00fbafb9-8cac-43ad-aab2-e6e10f42476c",
   "metadata": {},
   "outputs": [],
   "source": [
    "results_ros"
   ]
  },
  {
   "cell_type": "code",
   "execution_count": null,
   "id": "96770e50-6c4e-48ab-8bf4-224e2a4939ec",
   "metadata": {},
   "outputs": [],
   "source": [
    "N = len(models_vec) # number of rows of subplots\n",
    "fig, axes = plt.subplots(N, 2, figsize=(12, 5*N))\n",
    "\n",
    "for i in range(0, len(models_vec)):\n",
    "    mod = models_vec[i]\n",
    "    temp = results_ros[results_ros.Model == mod]\n",
    "    temp2 = temp.groupby('Loss', sort=False).agg(\n",
    "        Mean=('RMSE', 'mean'),\n",
    "        SE=('RMSE', 'sem')\n",
    "    ).reset_index()\n",
    "    # Access the subplot at row i, column 0\n",
    "    ax1 = axes[i, 0]\n",
    "    # ax1.scatter(temp2.Loss, temp2.Mean)\n",
    "    ax1.errorbar(temp2.Loss, temp2.Mean, yerr=temp2.SE, fmt='o', label='SE')\n",
    "    ax1.tick_params(axis='x', rotation=90)\n",
    "    ax1.set_title(f'Test RMSE on FMC - Model {mod}')\n",
    "    ax1.grid()\n",
    "\n",
    "    temp = results_fm[results_fm.Model == mod]\n",
    "    temp2 = temp.groupby('Loss', sort=False).agg(\n",
    "        Mean=('RMSE', 'mean'),\n",
    "        SE=('RMSE', 'sem')\n",
    "    ).reset_index()\n",
    "    # Access the subplot at row i, column 0\n",
    "    ax2 = axes[i, 1]\n",
    "    ax2.errorbar(temp2.Loss, temp2.Mean, yerr=temp2.SE, fmt='o', label='SE', color='r')\n",
    "    ax2.tick_params(axis='x', rotation=90)\n",
    "    ax2.set_title(f'Test RMSE on ROS - Model {mod}')\n",
    "    ax2.grid()\n",
    "\n",
    "plt.tight_layout()\n",
    "plt.show()"
   ]
  },
  {
   "cell_type": "code",
   "execution_count": null,
   "id": "75c9bc8e-af6d-4e2a-8d63-658ef768cd47",
   "metadata": {},
   "outputs": [],
   "source": []
  },
  {
   "cell_type": "code",
   "execution_count": null,
   "id": "e9f801f8-e966-4ef2-be89-448f81b5545e",
   "metadata": {},
   "outputs": [],
   "source": []
  },
  {
   "cell_type": "code",
   "execution_count": null,
   "id": "c9e139fa-92d8-4c71-a5c7-f194540726fd",
   "metadata": {},
   "outputs": [],
   "source": []
  }
 ],
 "metadata": {
  "kernelspec": {
   "display_name": "Python 3 (ipykernel)",
   "language": "python",
   "name": "python3"
  },
  "language_info": {
   "codemirror_mode": {
    "name": "ipython",
    "version": 3
   },
   "file_extension": ".py",
   "mimetype": "text/x-python",
   "name": "python",
   "nbconvert_exporter": "python",
   "pygments_lexer": "ipython3",
   "version": "3.10.13"
  }
 },
 "nbformat": 4,
 "nbformat_minor": 5
}
