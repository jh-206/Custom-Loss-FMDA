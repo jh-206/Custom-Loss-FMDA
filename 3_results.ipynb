{
 "cells": [
  {
   "cell_type": "markdown",
   "id": "e2191528-0c96-4657-bfee-e3a684a69dc6",
   "metadata": {},
   "source": [
    "# Results Summary"
   ]
  },
  {
   "cell_type": "markdown",
   "id": "064ac01b-a08d-4602-93c8-94d7ba4cd44b",
   "metadata": {},
   "source": [
    "## Setup"
   ]
  },
  {
   "cell_type": "code",
   "execution_count": null,
   "id": "e0d42eec-f08d-4cde-8862-d3c4157d87e2",
   "metadata": {},
   "outputs": [],
   "source": [
    "import pandas as pd\n",
    "import numpy as np\n",
    "import matplotlib.pyplot as plt\n",
    "import seaborn as sns"
   ]
  },
  {
   "cell_type": "code",
   "execution_count": null,
   "id": "0386c3af-ad4f-492b-8b3a-22874f40c054",
   "metadata": {
    "scrolled": true
   },
   "outputs": [],
   "source": [
    "results_fm = pd.read_pickle(\"outputs/results_fm.pkl\")\n",
    "results_fm"
   ]
  },
  {
   "cell_type": "code",
   "execution_count": null,
   "id": "d882119a-7567-423a-b391-ee8862bdb580",
   "metadata": {},
   "outputs": [],
   "source": [
    "results_ros = pd.read_pickle(\"outputs/results_ros.pkl\")\n",
    "results_ros"
   ]
  },
  {
   "cell_type": "markdown",
   "id": "dcabad1b-236b-4846-b637-e65a36c3d114",
   "metadata": {},
   "source": [
    "## Plots"
   ]
  },
  {
   "cell_type": "code",
   "execution_count": null,
   "id": "1dedbf55-821c-4975-ab5c-444cf90b05e4",
   "metadata": {},
   "outputs": [],
   "source": [
    "results_ros.groupby('Loss')['RMSE'].mean().reset_index()"
   ]
  },
  {
   "cell_type": "code",
   "execution_count": null,
   "id": "72470aa7-37a1-479d-b89a-755551e3ac08",
   "metadata": {},
   "outputs": [],
   "source": []
  },
  {
   "cell_type": "code",
   "execution_count": null,
   "id": "a0c319db-6c9f-42d1-a36d-469af2afdbd3",
   "metadata": {},
   "outputs": [],
   "source": []
  },
  {
   "cell_type": "code",
   "execution_count": null,
   "id": "2cf800b7-6170-4264-b84c-0d2368fb67e7",
   "metadata": {},
   "outputs": [],
   "source": []
  },
  {
   "cell_type": "code",
   "execution_count": null,
   "id": "c9e139fa-92d8-4c71-a5c7-f194540726fd",
   "metadata": {},
   "outputs": [],
   "source": []
  }
 ],
 "metadata": {
  "kernelspec": {
   "display_name": "Python 3 (ipykernel)",
   "language": "python",
   "name": "python3"
  },
  "language_info": {
   "codemirror_mode": {
    "name": "ipython",
    "version": 3
   },
   "file_extension": ".py",
   "mimetype": "text/x-python",
   "name": "python",
   "nbconvert_exporter": "python",
   "pygments_lexer": "ipython3",
   "version": "3.10.13"
  }
 },
 "nbformat": 4,
 "nbformat_minor": 5
}
