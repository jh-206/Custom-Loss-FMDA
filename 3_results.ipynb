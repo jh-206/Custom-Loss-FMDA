{
 "cells": [
  {
   "cell_type": "markdown",
   "id": "e2191528-0c96-4657-bfee-e3a684a69dc6",
   "metadata": {},
   "source": [
    "# Results Summary"
   ]
  },
  {
   "cell_type": "markdown",
   "id": "064ac01b-a08d-4602-93c8-94d7ba4cd44b",
   "metadata": {},
   "source": [
    "## Setup"
   ]
  },
  {
   "cell_type": "code",
   "execution_count": null,
   "id": "e0d42eec-f08d-4cde-8862-d3c4157d87e2",
   "metadata": {},
   "outputs": [],
   "source": [
    "import pandas as pd\n",
    "import numpy as np\n",
    "import matplotlib.pyplot as plt\n",
    "import seaborn as sns"
   ]
  },
  {
   "cell_type": "code",
   "execution_count": null,
   "id": "0386c3af-ad4f-492b-8b3a-22874f40c054",
   "metadata": {
    "scrolled": true
   },
   "outputs": [],
   "source": [
    "results_fm = pd.read_pickle(\"outputs/results_fm.pkl\")\n",
    "results_fm"
   ]
  },
  {
   "cell_type": "code",
   "execution_count": null,
   "id": "d882119a-7567-423a-b391-ee8862bdb580",
   "metadata": {},
   "outputs": [],
   "source": [
    "results_ros = pd.read_pickle(\"outputs/results_ros.pkl\")\n",
    "results_ros"
   ]
  },
  {
   "cell_type": "code",
   "execution_count": null,
   "id": "1d874c8f-c6a5-4be8-80a8-3db01319b068",
   "metadata": {},
   "outputs": [],
   "source": [
    "# Note, 167*3*12=6012\n",
    "print(f\"Total Time Periods: {len(results_ros.t.unique())}\")\n",
    "print(f\"Total Loss Functions: {len(results_ros.Loss.unique())}\")\n",
    "print(f\"Total Models: {len(results_ros.Model.unique())}\")\n",
    "print(f\"Total RMSE Calculations: {results_ros.shape[0]}\")"
   ]
  },
  {
   "cell_type": "code",
   "execution_count": null,
   "id": "1dedbf55-821c-4975-ab5c-444cf90b05e4",
   "metadata": {},
   "outputs": [],
   "source": [
    "tab1 = results_ros.groupby('Loss', sort=False)['RMSE'].mean().reset_index()\n",
    "tab1.rename(columns={'RMSE': 'Mean'})"
   ]
  },
  {
   "cell_type": "code",
   "execution_count": null,
   "id": "f0db9d97-9159-4555-8d18-a9dc0e75c5cc",
   "metadata": {},
   "outputs": [],
   "source": [
    "pd.options.display.float_format = '{:.2e}'.format"
   ]
  },
  {
   "cell_type": "code",
   "execution_count": null,
   "id": "8e4d145a-1752-49ab-ba40-40d854eebe60",
   "metadata": {},
   "outputs": [],
   "source": [
    "tab1 = results_ros.groupby('Loss', sort=False).agg(\n",
    "    Mean=('RMSE', 'mean'),\n",
    "    Min=('RMSE', 'min'),\n",
    "    Max=('RMSE', 'max')\n",
    ").reset_index()\n",
    "tab1"
   ]
  },
  {
   "cell_type": "code",
   "execution_count": null,
   "id": "f650f059-249e-41f1-be98-0820004ca779",
   "metadata": {},
   "outputs": [],
   "source": [
    "min_ros = tab1.Mean.argmin()\n",
    "print(tab1.Loss[min_ros])\n",
    "(tab1.Mean[0] - tab1.Mean[min_ros]) / tab1.Mean[0]"
   ]
  },
  {
   "cell_type": "code",
   "execution_count": null,
   "id": "0e96003d-b36a-4895-9a80-a05a67153e65",
   "metadata": {},
   "outputs": [],
   "source": [
    "from scipy import stats\n",
    "stats.ttest_ind(results_ros[results_ros.Loss == \"MSE\"].RMSE, results_ros[results_ros.Loss == \"exp_0.0367\"].RMSE)"
   ]
  },
  {
   "cell_type": "code",
   "execution_count": null,
   "id": "a560fcd5-92de-4524-b7b8-d12c9669620e",
   "metadata": {},
   "outputs": [],
   "source": [
    "pd.options.display.float_format = None"
   ]
  },
  {
   "cell_type": "code",
   "execution_count": null,
   "id": "4a12d594-5463-4564-987b-162a9632bb7b",
   "metadata": {},
   "outputs": [],
   "source": [
    "tab2 = results_fm.groupby('Loss', sort=False).agg(\n",
    "    Mean=('RMSE', 'mean'),\n",
    "    Min=('RMSE', 'min'),\n",
    "    Max=('RMSE', 'max')\n",
    ").reset_index()\n",
    "tab2.round(2)"
   ]
  },
  {
   "cell_type": "markdown",
   "id": "dcabad1b-236b-4846-b637-e65a36c3d114",
   "metadata": {},
   "source": [
    "## Plots"
   ]
  },
  {
   "cell_type": "code",
   "execution_count": null,
   "id": "a0c319db-6c9f-42d1-a36d-469af2afdbd3",
   "metadata": {},
   "outputs": [],
   "source": [
    "# grouped = results_ros.groupby('Loss').agg({'RMSE': ['mean', 'sem']}).reset_index()\n",
    "# grouped\n",
    "\n",
    "grouped = results_fm.groupby('Loss', sort=False).agg(\n",
    "    Mean=('RMSE', 'mean'),\n",
    "    SE=('RMSE', 'sem')\n",
    ").reset_index()\n",
    "grouped2 = results_ros.groupby('Loss', sort=False).agg(\n",
    "    Mean=('RMSE', 'mean'),\n",
    "    SE=('RMSE', 'sem')\n",
    ").reset_index()"
   ]
  },
  {
   "cell_type": "code",
   "execution_count": null,
   "id": "944f9929-1f68-4445-b1ef-a76d6fac28ad",
   "metadata": {},
   "outputs": [],
   "source": [
    "fig, axes = plt.subplots(1, 2, figsize=(14, 6))\n",
    "ax1 = axes[0]\n",
    "ax1.errorbar(grouped.Loss, grouped.Mean, yerr=grouped.SE, fmt='o', label='SE')\n",
    "# plt.errorbar(tab1.Loss, tab1.Mean, yerr=[tab1.Mean[i] - tab1.Max[i] for i in range(len(tab1.Loss))], fmt='o', label='Min')\n",
    "ax1.ticklabel_format(style='sci', axis='y', scilimits=(0,0))\n",
    "ax1.set_xlabel('Loss')\n",
    "ax1.set_ylabel('Mean RMSE on FMC')\n",
    "ax1.set_title('Mean RMSE by Loss Function (FMC)')\n",
    "ax1.tick_params(axis='x', rotation=90)\n",
    "ax1.axvline(x=10.5, color='black', linestyle='--')\n",
    "ax1.grid()\n",
    "\n",
    "ax2 = axes[1]\n",
    "ax2.errorbar(grouped2.Loss, grouped2.Mean, yerr=grouped2.SE, fmt='o', label='SE', color='r')\n",
    "# plt.errorbar(tab1.Loss, tab1.Mean, yerr=[tab1.Mean[i] - tab1.Max[i] for i in range(len(tab1.Loss))], fmt='o', label='Min')\n",
    "ax2.ticklabel_format(style='sci', axis='y', scilimits=(0,0))\n",
    "ax2.set_xlabel('Loss')\n",
    "ax2.set_ylabel('Mean RMSE on ROS')\n",
    "ax2.set_title('Mean RMSE by Loss Function (ROS)')\n",
    "ax2.tick_params(axis='x', rotation=90)\n",
    "ax2.axvline(x=10.5, color='black', linestyle='--')\n",
    "ax2.grid()\n",
    "\n",
    "plt.show()"
   ]
  },
  {
   "cell_type": "code",
   "execution_count": null,
   "id": "a8aaad63-d3a2-4009-a267-439ab4a564d6",
   "metadata": {},
   "outputs": [],
   "source": [
    "models_vec = results_ros.Model.unique()"
   ]
  },
  {
   "cell_type": "code",
   "execution_count": null,
   "id": "96770e50-6c4e-48ab-8bf4-224e2a4939ec",
   "metadata": {},
   "outputs": [],
   "source": [
    "N = len(models_vec) # number of rows of subplots\n",
    "fig, axes = plt.subplots(N, 2, figsize=(12, 5*N))\n",
    "\n",
    "for i in range(0, len(models_vec)):\n",
    "    mod = models_vec[i]\n",
    "    temp = results_ros[results_ros.Model == mod]\n",
    "    temp2 = temp.groupby('Loss', sort=False).agg(\n",
    "        Mean=('RMSE', 'mean'),\n",
    "        SE=('RMSE', 'sem')\n",
    "    ).reset_index()\n",
    "    # Access the subplot at row i, column 0\n",
    "    ax1 = axes[i, 0]\n",
    "    # ax1.scatter(temp2.Loss, temp2.Mean)\n",
    "    ax1.errorbar(temp2.Loss, temp2.Mean, yerr=temp2.SE, fmt='o', label='SE')\n",
    "    ax1.tick_params(axis='x', rotation=90)\n",
    "    ax1.set_title(f'Test RMSE on FMC - Model {mod}')\n",
    "    ax1.axvline(x=10.5, color='black', linestyle='--')\n",
    "    ax1.grid()\n",
    "\n",
    "    temp = results_fm[results_fm.Model == mod]\n",
    "    temp2 = temp.groupby('Loss', sort=False).agg(\n",
    "        Mean=('RMSE', 'mean'),\n",
    "        SE=('RMSE', 'sem')\n",
    "    ).reset_index()\n",
    "    # Access the subplot at row i, column 0\n",
    "    ax2 = axes[i, 1]\n",
    "    ax2.errorbar(temp2.Loss, temp2.Mean, yerr=temp2.SE, fmt='o', label='SE', color='r')\n",
    "    ax2.tick_params(axis='x', rotation=90)\n",
    "    ax2.set_title(f'Test RMSE on ROS - Model {mod}')\n",
    "    ax2.axvline(x=10.5, color='black', linestyle='--')\n",
    "    ax2.grid()\n",
    "\n",
    "plt.tight_layout()\n",
    "plt.show()"
   ]
  },
  {
   "cell_type": "code",
   "execution_count": null,
   "id": "0903c865-ccc9-4a03-a14c-8860cc180aec",
   "metadata": {},
   "outputs": [],
   "source": []
  },
  {
   "cell_type": "code",
   "execution_count": null,
   "id": "eda9311e-f2ca-4700-b121-5396390c0859",
   "metadata": {},
   "outputs": [],
   "source": []
  },
  {
   "cell_type": "code",
   "execution_count": null,
   "id": "38f17078-9ef6-4468-a57c-41d8076acb79",
   "metadata": {},
   "outputs": [],
   "source": []
  },
  {
   "cell_type": "code",
   "execution_count": null,
   "id": "e9f801f8-e966-4ef2-be89-448f81b5545e",
   "metadata": {},
   "outputs": [],
   "source": []
  },
  {
   "cell_type": "code",
   "execution_count": null,
   "id": "c9e139fa-92d8-4c71-a5c7-f194540726fd",
   "metadata": {},
   "outputs": [],
   "source": []
  }
 ],
 "metadata": {
  "kernelspec": {
   "display_name": "Python 3 (ipykernel)",
   "language": "python",
   "name": "python3"
  },
  "language_info": {
   "codemirror_mode": {
    "name": "ipython",
    "version": 3
   },
   "file_extension": ".py",
   "mimetype": "text/x-python",
   "name": "python",
   "nbconvert_exporter": "python",
   "pygments_lexer": "ipython3",
   "version": "3.10.13"
  }
 },
 "nbformat": 4,
 "nbformat_minor": 5
}
