{
 "cells": [
  {
   "cell_type": "code",
   "execution_count": null,
   "id": "269fe853-c3ab-481b-9470-b9b7f5f9c43b",
   "metadata": {},
   "outputs": [],
   "source": [
    "import sys\n",
    "sys.path.append('../src')\n",
    "import numpy as np\n",
    "from numpy import random\n",
    "from scipy.stats import norm\n",
    "from scipy.interpolate import CubicSpline\n",
    "import matplotlib.pyplot as plt\n",
    "import tensorflow as tf\n",
    "import tensorflow.keras.backend as K\n",
    "import pandas as pd\n",
    "from sklearn.model_selection import train_test_split\n",
    "from sklearn.metrics import mean_squared_error\n",
    "import yaml\n",
    "from metrics import ros_3wind\n",
    "\n",
    "from fmda_models import XGB\n",
    "import reproducibility"
   ]
  },
  {
   "cell_type": "markdown",
   "id": "196f9289-2126-4032-ba80-dcceda99b231",
   "metadata": {},
   "source": [
    "# Custom Loss Functions for Fuel Moisture Models\n",
    "\n",
    "*Author:* Jonathon Hirschi\n",
    "\n",
    "## Fuel Moisture Background\n",
    "\n",
    "[Fuel moisture content](https://www.ncei.noaa.gov/access/monitoring/dyk/deadfuelmoisture) is a measure of the water content of burnable materials."
   ]
  },
  {
   "cell_type": "markdown",
   "id": "d29b63a0-9de7-4c15-bde4-4b4466d52b4b",
   "metadata": {},
   "source": [
    "## Fuel Moisture Nonlinear Effect on Rate of Spread\n",
    "\n",
    "[Rate of spread](https://www.nwcg.gov/course/ffm/fire-behavior/83-rate-of-spread#:~:text=The%20rate%20of%20spread%20is,origin%20quickly%20with%20great%20intensity.) (ROS) is a measure of the speed a fire moves (often units of m/s). The following image shows the nonlinear relationship between FM and ROS at a single spatial location, while holding other variables associated with ROS constant. Wildfire spreads most readily in dry fuels, as seen in the peak of the ROS curve at zero FMC. The ROS drops off quickly as fuels get wetter, but then it levels off until the ROS is zero, or when the FM reaches the \"extinction value\". Below is an idealized rate of spread curve for fuel category 8, \"Closed Timber Litter\" ([NIFC Category Descriptions](https://gacc.nifc.gov/rmcc/predictive/Fire%20Behavior%20Fuel%20Model%20Descriptions.pdf)). This fuel is selected since it is closest to an idealized 10hr fuel. The fuel load contribution from dead 10hr fuels is the highest of any of the other fuel categories, and there is no contribution from live fuels."
   ]
  },
  {
   "cell_type": "markdown",
   "id": "78e469ac-fa81-40f3-bd5c-1358cb54afb7",
   "metadata": {},
   "source": [
    "The ROS strongly depends on wind speed and slope. Below is the idealized ROS relationship with FMC with zero wind and zero slope."
   ]
  },
  {
   "cell_type": "markdown",
   "id": "b52363e5-8684-49ef-9bd1-95af6f0ecc07",
   "metadata": {},
   "source": [
    "<img src=\"../images/fuel8_ros_fm.png\" alt=\"alt text\" style=\"width: 500px;\"/>"
   ]
  },
  {
   "cell_type": "markdown",
   "id": "ec59db45-a370-4b2e-98c5-76e3c7404c06",
   "metadata": {},
   "source": [
    "Next is the idealized ROS with a constant wind speed of 3m/s (x-direction only) and 0 slope. Note the y-axis is much higher. "
   ]
  },
  {
   "cell_type": "markdown",
   "id": "2cafcf55-6cb3-4176-b930-19e470b75fd8",
   "metadata": {},
   "source": [
    "<img src=\"../images/fuel8_ros_fm_3wind.png\" alt=\"alt text\" style=\"width: 500px;\"/>"
   ]
  },
  {
   "cell_type": "markdown",
   "id": "7dda0f8f-9ba8-4e04-9a8a-660e40a341d8",
   "metadata": {},
   "source": [
    "The goal of this research project is to train machine learning models of fuel moisture that are the most accurate at forecasting the driest fuels. The motivation for this is to provide the most accurate forecasts of wildfire rate of spread. "
   ]
  },
  {
   "cell_type": "markdown",
   "id": "17515d4a-61d6-407e-8a5c-0f98c7c0df4d",
   "metadata": {},
   "source": [
    "Next, we construct the idealized ROS curve for 3m/s wind speed. These values are from the output of `wrf-fire-matlab`, which uses simulation results from WRF-SFIRE."
   ]
  },
  {
   "cell_type": "code",
   "execution_count": null,
   "id": "8c916197-ddf8-4b65-aeb8-38eefeb621b1",
   "metadata": {},
   "outputs": [],
   "source": [
    "# # Construct Idealized ROS curve from eyeballing plot\n",
    "# x = np.array([0, 5, 10, 15, 20, 25, 30, 35])\n",
    "# y = np.array([7.5, 4.3, 3.1, 2.6, 2.1, 1.4, 0, 0])*10**-3\n",
    "xvals = np.linspace(start=0, stop=35, num=100)\n",
    "\n",
    "# ros_f = CubicSpline(x, y)\n",
    "# def ros_0wind(fm):\n",
    "#     r = ros_f(fm)\n",
    "#     r[fm>30]=0\n",
    "#     return r\n",
    "\n",
    "plt.plot(xvals, ros_3wind(xvals), \"red\")\n",
    "plt.xlabel(\"Fuel Moisture (%)\")\n",
    "plt.ylabel(\"Rate of Spread (m/s)\")\n",
    "plt.title(\"ROS Curve\")\n",
    "plt.ticklabel_format(style='sci', axis='y', scilimits=(0,0))\n",
    "plt.grid()"
   ]
  },
  {
   "cell_type": "markdown",
   "id": "f5b88135-563a-461d-a48b-35f2e31d9534",
   "metadata": {},
   "source": [
    "## Exponential Weighting of Residuals "
   ]
  },
  {
   "cell_type": "markdown",
   "id": "de0a226e-34de-41c4-9428-ba7dd1e19b01",
   "metadata": {},
   "source": [
    "The standard loss function in machine learning when modeling a continuous output is the Residual Sum of Squares (RSS). Model parameters are then selected such that they minimize the RSS:\n",
    "\n",
    "$$\n",
    "RSS = \\sum (y_i - d_i)^2\n",
    "$$ \n",
    "\n",
    "In the standard RSS, each residual is given equal weight when calculating the total model loss. A simple change to the RSS is to add weights that increase or decrease the relative contribution of a particular residual to the overall loss of a model output. We will refer to this as the Weighted RSS (WRSS):\n",
    "\n",
    "$$\n",
    "WRSS = \\sum w_i(y_i - d_i)^2\n",
    "$$\n",
    "\n",
    "The weights $w_i$ could in principle come from anywhere, but a common and useful technique is to construct weights based on the value of the true observed data $d_i$. The WRSS is commonly used in imbalanced classification tasks, where there is much less observed data for one class label than the other class labels. \n",
    "\n",
    "In the context of fuel moisture modeling, we will examine weights that are related to the observed value of fuel moisture using a negative exponential to give greater weight to drier fuels. The weights for the $i$th residual will be $e^{-\\omega d_i}$, where the parameter $\\omega$ represents the strength of the weighting scheme relative to an unweighted RSS. The WRSS would therefore have the form:\n",
    "\n",
    "$$\n",
    "\\sum e^{-\\omega d_i}(y_i - d_i)^2\n",
    "$$\n",
    "\n",
    "For $\\omega = 0$, $e^{-\\omega d_i} = 1$, and we recreate the unweighted RSS. As we increase $\\omega$, greater weight is placed on the lower values of fuel moisture. The exponential weights will always be positive, even for very high values of fuel moisture. But for an estimated moisture of extinction value of 30% for 10h fuels, values of $\\omega$ greater than $0.2$ lead to close to zero weight being placed on residuals associated with fuel moisture observations of 30% or greater. Below we plot the weighting scheme for various values of $\\omega$:"
   ]
  },
  {
   "cell_type": "code",
   "execution_count": null,
   "id": "b5c6f5aa-d5d3-428d-b24a-c4fa8f6a6d75",
   "metadata": {},
   "outputs": [],
   "source": [
    "fms = np.linspace(0, 35, 100)\n",
    "\n",
    "fig, ax = plt.subplots(1, 2, figsize=(10, 5))\n",
    "\n",
    "ax[0].plot(fms, ros_3wind(fms), 'r-', label='Rate of Spread (Scaled)')  \n",
    "ax[0].set_xlabel('Fuel Moisture (%)')\n",
    "ax[0].set_ylabel('Rate of Spread (m/s)', color='red')\n",
    "ax[0].tick_params('y', colors='r')\n",
    "ax[0].ticklabel_format(style='sci', axis='y', scilimits=(0,0))\n",
    "ax[0].grid(True)\n",
    "\n",
    "weights = np.ones(len(fms))\n",
    "ax[1].plot(fms, weights, 'blue', label='Equal Weight (unweighted)') \n",
    "\n",
    "weights = tf.exp(tf.multiply(-0.01, fms))\n",
    "ax[1].plot(fms, weights, 'b--', label='$e^{-0.01}$ Weight') \n",
    "\n",
    "weights = tf.exp(tf.multiply(-0.025, fms))\n",
    "ax[1].plot(fms, weights, 'b-.', label='$e^{-0.025}$ Weight') \n",
    "\n",
    "weights = tf.exp(tf.multiply(-0.05, fms))\n",
    "ax[1].plot(fms, weights, 'b:', label='$e^{-0.05}$ Weight') \n",
    "\n",
    "weights = tf.exp(tf.multiply(-0.1, fms))\n",
    "ax[1].plot(fms, weights, 'b--', label='$e^{-0.1}$ Weight') \n",
    "\n",
    "weights = tf.exp(tf.multiply(-0.5, fms))\n",
    "ax[1].plot(fms, weights, 'b--', label='$e^{-0.5}$ Weight') \n",
    "\n",
    "ax[1].plot(fms, ros_3wind(fms) / ros_3wind(fms).max(), 'r')\n",
    "\n",
    "ax[1].set_xlabel('Fuel Moisture (%)')\n",
    "ax[1].set_ylabel('Weight', color='blue')\n",
    "ax[1].tick_params('y', colors='b')\n",
    "ax[1].grid(True)\n",
    "\n",
    "fig.legend(loc=\"upper left\", bbox_to_anchor=(1, .8))\n",
    "plt.tight_layout()\n",
    "plt.savefig('../outputs/weights.png', bbox_inches='tight')\n",
    "plt.show()"
   ]
  },
  {
   "cell_type": "code",
   "execution_count": null,
   "id": "8be903db-0fc5-4425-b035-c43dff9e8264",
   "metadata": {},
   "outputs": [],
   "source": []
  },
  {
   "cell_type": "code",
   "execution_count": null,
   "id": "8320d9a3-b71f-465a-bdd6-5f4c085e74ba",
   "metadata": {},
   "outputs": [],
   "source": []
  },
  {
   "cell_type": "code",
   "execution_count": null,
   "id": "ca9551ea-606a-457a-9d83-5476f9197587",
   "metadata": {},
   "outputs": [],
   "source": []
  },
  {
   "cell_type": "markdown",
   "id": "ddb9cb32-d5a4-4056-8428-8fac078275eb",
   "metadata": {},
   "source": [
    "## Test Example"
   ]
  },
  {
   "cell_type": "code",
   "execution_count": null,
   "id": "a2b08a98-5cdb-40f5-83c2-a088c479d507",
   "metadata": {},
   "outputs": [],
   "source": [
    "df_all = pd.read_pickle(\"../data/rocky_2023_05-09.pkl\")\n",
    "df = df_all[df_all['stid'] == \"TT696\"]\n",
    "df = df[\n",
    "    (df['date'] >= '2023-06-01') &\n",
    "    (df['date'] <= '2023-06-14')\n",
    "]\n",
    "\n",
    "plt.plot(df.date, df.fm)\n",
    "plt.plot(df.date, df.rain)\n",
    "plt.title(\"FM Observations at CPTC2 from 2023-06-01 through 2023-06-14\")\n",
    "plt.xticks(rotation=90)\n",
    "plt.grid()"
   ]
  },
  {
   "cell_type": "markdown",
   "id": "765e17bf-de81-4427-a9f3-3808e10ebd41",
   "metadata": {},
   "source": [
    "Now we train a simple XGBoost model on the first 13 days and predict the last one."
   ]
  },
  {
   "cell_type": "code",
   "execution_count": null,
   "id": "c204a5c5-a802-4f3e-98b7-4c32edae1290",
   "metadata": {},
   "outputs": [],
   "source": [
    "df"
   ]
  },
  {
   "cell_type": "code",
   "execution_count": null,
   "id": "adc2139d-27e4-4070-a25c-272232e1fd2c",
   "metadata": {},
   "outputs": [],
   "source": [
    "X_train = df[[\"Ed\", \"Ew\", \"hour\", 'rain']][df.date < '2023-06-13'] # get columns for model\n",
    "y_train = df[\"fm\"][df.date < '2023-06-13']a\n",
    "train_dates = df[\"date\"][df.date < '2023-06-13']\n",
    "\n",
    "X_test = df[[\"Ed\", \"Ew\", \"hour\", 'rain']][df.date >= '2023-06-13'] # get columns for model\n",
    "y_test = df[\"fm\"][df.date >= '2023-06-13']\n",
    "test_dates = df[\"date\"][df.date >= '2023-06-13']\n",
    "\n",
    "print(f\"Training Observations: {y_train.shape[0]}\")\n",
    "print(f\"Test Observations: {y_test.shape[0]}\")"
   ]
  },
  {
   "cell_type": "code",
   "execution_count": null,
   "id": "588e74f7-2827-493c-9053-88b49b72f290",
   "metadata": {},
   "outputs": [],
   "source": [
    "with open('../models/params.yaml', 'r') as file:\n",
    "    all_params = yaml.safe_load(file)\n",
    "\n",
    "params = all_params[\"xgb\"]\n",
    "params"
   ]
  },
  {
   "cell_type": "code",
   "execution_count": null,
   "id": "435c86eb-916c-4b56-a350-b846fc4c791b",
   "metadata": {},
   "outputs": [],
   "source": [
    "reproducibility.set_seed(123)\n",
    "model = XGB(loss='reg:squarederror',params=params)\n",
    "model.fit(X_train, y_train)\n",
    "fitted = model.predict(X_train)\n",
    "preds = model.predict(X_test)"
   ]
  },
  {
   "cell_type": "code",
   "execution_count": null,
   "id": "2366a2b8-6903-45ee-b78a-9b271de95dcc",
   "metadata": {},
   "outputs": [],
   "source": [
    "plt.plot(df.date, df.fm, label = \"FM Observed\")\n",
    "plt.plot(train_dates, fitted, label = \"Fitted\")\n",
    "plt.plot(test_dates, preds, label = \"Forecasts\")\n",
    "plt.title(\"FM Observations at CPTC2 from 2023-06-01 through 2023-06-14\")\n",
    "plt.xticks(rotation=90)\n",
    "plt.legend()\n",
    "plt.grid()"
   ]
  },
  {
   "cell_type": "code",
   "execution_count": null,
   "id": "a8068f84-9750-48b6-b995-e229252c0c9b",
   "metadata": {},
   "outputs": [],
   "source": [
    "# Summarise Error \n",
    "print(f\"Test RMSE: {np.sqrt(mean_squared_error(y_test, preds))}\")\n",
    "print(f\"Test Mean Bias: {np.mean(preds-y_test)}\")"
   ]
  },
  {
   "cell_type": "markdown",
   "id": "f3e84b21-00dc-4d5a-a83a-13e2261b15ca",
   "metadata": {},
   "source": [
    "The RMSE shows middling model accuracy, but this metric treats negative and positive errors equally. If we examine the average bias of the model, the model is systematically overpredicting FMC in the prediction phase. Here, bias is defined simply as observed minus predicted."
   ]
  },
  {
   "cell_type": "code",
   "execution_count": null,
   "id": "1d41eab0-2d7a-4399-b56e-0f176caab277",
   "metadata": {},
   "outputs": [],
   "source": [
    "weights = tf.exp(tf.multiply(-0.1, y_train))"
   ]
  },
  {
   "cell_type": "code",
   "execution_count": null,
   "id": "551cf5a8-0032-4f82-8845-3524b07f15ba",
   "metadata": {},
   "outputs": [],
   "source": [
    "reproducibility.set_seed(123)\n",
    "model = XGB(params=params)\n",
    "model.fit(X_train, y_train, weights)\n",
    "fitted2 = model.predict(X_train)\n",
    "preds2 = model.predict(X_test)"
   ]
  },
  {
   "cell_type": "code",
   "execution_count": null,
   "id": "af588649-edb4-4fba-a8ee-4aab1cf497c4",
   "metadata": {},
   "outputs": [],
   "source": [
    "# Summarise Error \n",
    "print(f\"Test RMSE: {np.sqrt(mean_squared_error(y_test, preds2))}\")\n",
    "print(f\"Test Mean Bias: {np.mean(preds2-y_test)}\")"
   ]
  },
  {
   "cell_type": "code",
   "execution_count": null,
   "id": "580d1279-6bcb-441d-9432-112c12bf4531",
   "metadata": {},
   "outputs": [],
   "source": [
    "plt.plot(df.date, df.fm, label = \"FM Observed\")\n",
    "plt.plot(train_dates, fitted2, label = \"Fitted\")\n",
    "plt.plot(test_dates, preds2, label = \"Forecasts\")\n",
    "plt.title(\"FM Observations at CPTC2 from 2023-06-01 through 2023-06-14\")\n",
    "plt.xticks(rotation=90)\n",
    "plt.legend()\n",
    "plt.grid()"
   ]
  },
  {
   "cell_type": "markdown",
   "id": "293a8d48-b974-4c91-801a-94635012a72d",
   "metadata": {},
   "source": [
    "## Predicting ROS"
   ]
  },
  {
   "cell_type": "code",
   "execution_count": null,
   "id": "60ed8c4c-71a7-4368-8a61-1a0554c320a8",
   "metadata": {},
   "outputs": [],
   "source": [
    "plt.plot(df.date, ros(df.fm))\n",
    "plt.ticklabel_format(style='sci', axis='y', scilimits=(0,0))\n",
    "plt.xticks(rotation=90)\n",
    "plt.ylabel(\"Rate of Spread (m/s)\")\n",
    "plt.grid()"
   ]
  },
  {
   "cell_type": "code",
   "execution_count": null,
   "id": "6a114448-12b8-4566-b8aa-dfc47fcb00db",
   "metadata": {},
   "outputs": [],
   "source": [
    "ros_tr = ros(fitted)\n",
    "ros_te = ros(preds)\n",
    "\n",
    "ros2_tr = ros(fitted2)\n",
    "ros2_te = ros(preds2)"
   ]
  },
  {
   "cell_type": "code",
   "execution_count": null,
   "id": "622bb0ae-17ca-4a13-a63a-12782b87f620",
   "metadata": {},
   "outputs": [],
   "source": [
    "print(\"RMSE on ROS, unweighted: {:.2e}\".format(np.sqrt(mean_squared_error(ros(y_test), ros_te))))\n",
    "print(\"RMSE on ROS, weighted: {:.2e}\".format(np.sqrt(mean_squared_error(ros(y_test), ros2_te))))\n",
    "print(\"~\"*25)\n",
    "print(\"Bias on ROS, unweighted: {:.2e}\".format(np.mean(ros_te - ros(y_test))))\n",
    "print(\"Bias on ROS, weighted: {:.2e}\".format(np.mean(ros2_te - ros(y_test))))"
   ]
  },
  {
   "cell_type": "markdown",
   "id": "2e92a7c8-2477-4a17-bbde-c9dcf8e9cafb",
   "metadata": {},
   "source": [
    "### ROS Forecasts based on Weights"
   ]
  },
  {
   "cell_type": "code",
   "execution_count": null,
   "id": "89540c48-f4c9-4c8e-a708-56727db191a4",
   "metadata": {},
   "outputs": [],
   "source": [
    "reproducibility.set_seed(123)\n",
    "\n",
    "# Grid of exponential weight parameter omega\n",
    "w = np.linspace(0, .3, 10)\n",
    "\n",
    "rss = np.zeros_like(w)\n",
    "\n",
    "\n",
    "for i in range(0, len(w)):\n",
    "    wi = w[i]\n",
    "    weights = tf.exp(tf.cast(tf.multiply(-wi, y_train), tf.float64))\n",
    "    model = XGB(params=params)\n",
    "    model.fit(X_train, y_train, weights)\n",
    "    preds = model.predict(X_test)\n",
    "    preds = ros(preds)\n",
    "    rss[i] = np.sqrt(mean_squared_error(ros(y_test), preds))"
   ]
  },
  {
   "cell_type": "code",
   "execution_count": null,
   "id": "4d772ff9-c789-43ce-aca1-eb61d5bc4fdf",
   "metadata": {},
   "outputs": [],
   "source": [
    "plt.plot(w, rss)\n",
    "plt.title(\"XGBoost accuracy on ROS\")\n",
    "plt.axvline(w[rss.argmin()], color='k', linestyle='dashed')\n",
    "plt.ticklabel_format(style='sci', axis='y', scilimits=(0,0))\n",
    "plt.xlabel(\"$\\omega$\")\n",
    "plt.ylabel(\"RSS on Forecasted ROS\")\n",
    "plt.grid()"
   ]
  },
  {
   "cell_type": "markdown",
   "id": "680cd64f-8c7e-4bcc-afff-6b3db00dbf78",
   "metadata": {},
   "source": [
    "## References\n",
    "\n",
    "* Open Wildland Fire Modeling E Community. https://wiki.openwfm.org/wiki/\n",
    "* National Wildfire Coordinating Group (NWCG). https://www.nwcg.gov/course/ffm/\n",
    "* *Dead Fuel Moisture*, NOAA National Centers for Environmental Information. https://www.ncei.noaa.gov/access/monitoring/dyk/deadfuelmoisture\n",
    "* *Custom Loss Functions in Environmental Science*:\n",
    "\n",
    "Ebert‐Uphoff, Imme, Ryan Lagerquist, Kyle Hilburn, Yoonjin Lee, Katherine Haynes, Jason Stock, Christina Kumler and Jebb Stewart. “CIRA Guide to Custom Loss Functions for Neural Networks in Environmental Sciences - Version 1.” ArXiv abs/2106.09757 (2021): n. pag. "
   ]
  },
  {
   "cell_type": "code",
   "execution_count": null,
   "id": "ceb2d262-9e5a-4e1a-bfda-506cef02e6a6",
   "metadata": {},
   "outputs": [],
   "source": []
  }
 ],
 "metadata": {
  "kernelspec": {
   "display_name": "Python 3 (ipykernel)",
   "language": "python",
   "name": "python3"
  },
  "language_info": {
   "codemirror_mode": {
    "name": "ipython",
    "version": 3
   },
   "file_extension": ".py",
   "mimetype": "text/x-python",
   "name": "python",
   "nbconvert_exporter": "python",
   "pygments_lexer": "ipython3",
   "version": "3.10.13"
  }
 },
 "nbformat": 4,
 "nbformat_minor": 5
}
