{
 "cells": [
  {
   "cell_type": "code",
   "execution_count": null,
   "id": "269fe853-c3ab-481b-9470-b9b7f5f9c43b",
   "metadata": {},
   "outputs": [],
   "source": [
    "import sys\n",
    "sys.path.append('../src')\n",
    "import numpy as np\n",
    "from numpy import random\n",
    "from scipy.stats import norm\n",
    "from scipy.interpolate import CubicSpline\n",
    "import matplotlib.pyplot as plt\n",
    "import tensorflow as tf\n",
    "import tensorflow.keras.backend as K\n",
    "import pandas as pd\n",
    "from sklearn.model_selection import train_test_split\n",
    "from sklearn.metrics import mean_squared_error\n",
    "import yaml\n",
    "\n",
    "from fmda_models import XGB\n",
    "import reproducibility"
   ]
  },
  {
   "cell_type": "markdown",
   "id": "196f9289-2126-4032-ba80-dcceda99b231",
   "metadata": {},
   "source": [
    "# Custom Loss Functions for Fuel Moisture Models\n",
    "\n",
    "*Author:* Jonathon Hirschi\n",
    "\n",
    "## Fuel Moisture Background\n",
    "\n",
    "[Fuel moisture content](https://www.ncei.noaa.gov/access/monitoring/dyk/deadfuelmoisture) is a measure of the water content of burnable materials."
   ]
  },
  {
   "cell_type": "markdown",
   "id": "d29b63a0-9de7-4c15-bde4-4b4466d52b4b",
   "metadata": {},
   "source": [
    "## Fuel Moisture Nonlinear Effect on Rate of Spread\n",
    "\n",
    "[Rate of spread](https://www.nwcg.gov/course/ffm/fire-behavior/83-rate-of-spread#:~:text=The%20rate%20of%20spread%20is,origin%20quickly%20with%20great%20intensity.) (ROS) is a measure of the speed a fire moves (often units of m/s). The following image shows the nonlinear relationship between FM and ROS at a single spatial location, while holding other variables associated with ROS constant. Wildfire spreads most readily in dry fuels, as seen in the peak of the ROS curve at zero FM. The ROS drops off quickly as fuels get wetter, but then it levels off until the ROS is zero, or when the FM reaches the \"extinction value\". Below is an idealized rate of spread curve for fuel category 8, \"Closed Timber Litter\" ([NIFC Category Descriptions](https://gacc.nifc.gov/rmcc/predictive/Fire%20Behavior%20Fuel%20Model%20Descriptions.pdf)). This fuel is selected since it is closest to an idealized 10hr fuel. The fuel load contribution from dead 10hr fuels is the highest of any of the other fuel categories, and there is no contribution from live fuels."
   ]
  },
  {
   "cell_type": "markdown",
   "id": "b52363e5-8684-49ef-9bd1-95af6f0ecc07",
   "metadata": {},
   "source": [
    "<img src=\"../images/fuel8_ros_fm.png\" alt=\"alt text\" style=\"width: 500px;\"/>"
   ]
  },
  {
   "cell_type": "markdown",
   "id": "27d97895-ed01-4060-b01d-b2a7e1fedff4",
   "metadata": {},
   "source": [
    "If the goal of training fuel moisture models is to get more accurate forecasts of wildfire ROS, it is intuitive that models should be trained directly on ROS. Instead of using loss functions on FM, why not construct a loss function directly with ROS? First, wildfire ROS is a complicated multifaceted conce3pt, and it is conceptually much cleaner to directly model fuel moisture and combine it with other observations to get reliable ROS estimates. Mathematically, there are issues related to the following two facts:\n",
    "\n",
    "1. FM is highly correlated in time.\n",
    "2. ROS reaches extinction value relatively quickly for dead fuels.\n",
    "\n",
    "Since fuel moisture content is the \"percent of the dry weight of that specific fuel\" ([from NOAA](https://www.ncei.noaa.gov/access/monitoring/dyk/deadfuelmoisture#:~:text=Fuel%20moisture%20is%20a%20measure,content%20would%20be%20zero%20percent.)), this value can go over 100% for very wet fuels, since the water content can weight more than the underlying burnable material. The extinction value for tall grass, depicted above, reaches its extinction moisture value at roughly 25%. Thus, the ROS for tall grass with 25% FM would be the same as that of tall grass with 150% FM. In both cases, the ROS would be zero. \n",
    "\n",
    "This fact, combined with the temporal correlation of FM, makes it potentially undesirable to train FM models directly on ROS. Consider a case when the true FM content was 30% for tall grass. Model 1 predicts 25% FM and Model 2 predicts 150%. Both models would receive a loss of zero for that prediction, since both models predict zero ROS which matches the observed value. However, if atmospheric conditions led to the fuel drying out over time, the models would predict very different ROS within a few hours. Fuels with an FM of 25% would dry out relatively quickly compared to fuels with an FM of 150%, and thus the ROS would be nonzero in the former case much quicker than the latter. "
   ]
  },
  {
   "cell_type": "markdown",
   "id": "599a8b30-035f-487e-9131-6b43295fabfe",
   "metadata": {},
   "source": [
    "We first construct an idealized rate of spread curve from the source above. *Note:* an extinction moisture of about 25 is common for various fuel types."
   ]
  },
  {
   "cell_type": "code",
   "execution_count": null,
   "id": "8c916197-ddf8-4b65-aeb8-38eefeb621b1",
   "metadata": {},
   "outputs": [],
   "source": [
    "# Construct Idealized ROS curve from eyeballing plot\n",
    "x = np.array([0, 5, 10, 15, 20, 25, 30, 35])\n",
    "y = np.array([7.5, 4.3, 3.1, 2.6, 2.1, 1.4, 0, 0])*10**-3\n",
    "xvals = np.linspace(start=0, stop=35, num=100)\n",
    "\n",
    "ros_f = CubicSpline(x, y)\n",
    "def ros(fm):\n",
    "    r = ros_f(fm)\n",
    "    r[fm>30]=0\n",
    "    return r\n",
    "\n",
    "plt.plot(xvals, ros(xvals), \"red\")\n",
    "plt.xlabel(\"Fuel Moisture (%)\")\n",
    "plt.ylabel(\"Rate of Spread (m/s)\")\n",
    "plt.title(\"ROS Curve\")\n",
    "plt.grid()"
   ]
  },
  {
   "cell_type": "markdown",
   "id": "f5b88135-563a-461d-a48b-35f2e31d9534",
   "metadata": {},
   "source": [
    "## Exponential Weighting "
   ]
  },
  {
   "cell_type": "code",
   "execution_count": null,
   "id": "1228b1f0-1b58-444a-ac03-e09ce89526a7",
   "metadata": {},
   "outputs": [],
   "source": [
    "fms = np.linspace(0, 35, 100)\n",
    "\n",
    "fig, ax1 = plt.subplots()\n",
    "# Plot the first line\n",
    "ax1.plot(fms, ros(fms), 'r-', label='Rate of Spread')  \n",
    "ax1.set_xlabel('Fuel Moisture (%)')\n",
    "ax1.set_ylabel('Rate of Spread (m/s)', color='red')\n",
    "ax1.tick_params('y', colors='r')\n",
    "ax2 = ax1.twinx()\n",
    "\n",
    "weights = np.ones(len(fms))\n",
    "# ax2.plot(fms, weights, 'b-.', label='Equal Weight (unweighted)') \n",
    "ax2.plot(fms, weights, 'blue', label='Equal Weight (unweighted)') \n",
    "\n",
    "weights = tf.exp(tf.multiply(-0.01, fms))\n",
    "ax2.plot(fms, weights, 'b--', label='$e^{-0.01}$ Weight') \n",
    "\n",
    "weights = tf.exp(tf.multiply(-0.025, fms))\n",
    "ax2.plot(fms, weights, 'b-.', label='$e^{-0.025}$ Weight') \n",
    "\n",
    "weights = tf.exp(tf.multiply(-0.05, fms))\n",
    "ax2.plot(fms, weights, 'b:', label='$e^{-0.05}$ Weight') \n",
    "\n",
    "weights = tf.exp(tf.multiply(-0.1, fms))\n",
    "ax2.plot(fms, weights, 'b--', label='$e^{-0.1}$ Weight') \n",
    "\n",
    "ax2.set_ylabel('Weight', color='blue')\n",
    "ax2.tick_params('y', colors='b')\n",
    "ax2.set_ylim(0, 1.117)\n",
    "fig.legend(loc=\"upper left\", bbox_to_anchor=(1, .8))\n",
    "ax1.grid(True)\n",
    "plt.show()"
   ]
  },
  {
   "cell_type": "code",
   "execution_count": null,
   "id": "3323a81e-5e0b-479f-87f9-e78e00b613e4",
   "metadata": {},
   "outputs": [],
   "source": [
    "# Loss function with weights based on amplitude of y_true\n",
    "def weighted_MSE(y_true,y_pred, val = -0.01):\n",
    "    return K.mean(\n",
    "        tf.multiply(\n",
    "        tf.exp(tf.multiply(val, y_true)),\n",
    "        tf.square(tf.subtract(y_pred, y_true))\n",
    "    )\n",
    ")"
   ]
  },
  {
   "cell_type": "markdown",
   "id": "ddb9cb32-d5a4-4056-8428-8fac078275eb",
   "metadata": {},
   "source": [
    "## Test Example"
   ]
  },
  {
   "cell_type": "code",
   "execution_count": null,
   "id": "a2b08a98-5cdb-40f5-83c2-a088c479d507",
   "metadata": {},
   "outputs": [],
   "source": [
    "df_all = pd.read_pickle(\"../data/rocky_2023_05-09.pkl\")\n",
    "df = df_all[df_all['stid'] == \"CPTC2\"]\n",
    "df = df[\n",
    "    (df['date'] >= '2023-06-01') &\n",
    "    (df['date'] <= '2023-06-14')\n",
    "]\n",
    "\n",
    "plt.plot(df.date, df.fm)\n",
    "plt.title(\"FM Observations at CPTC2 from 2023-06-01 through 2023-06-14\")\n",
    "plt.xticks(rotation=90)\n",
    "plt.grid()"
   ]
  },
  {
   "cell_type": "markdown",
   "id": "765e17bf-de81-4427-a9f3-3808e10ebd41",
   "metadata": {},
   "source": [
    "Now we train a simple XGBoost model on the first 13 days and predict the last one."
   ]
  },
  {
   "cell_type": "code",
   "execution_count": null,
   "id": "ea9cf484-3330-480d-8042-e8fae8fd4a70",
   "metadata": {},
   "outputs": [],
   "source": [
    "X_train, X_test, y_train, y_test = train_test_split(df[[\"Ed\", \"Ew\"]], df['fm'], test_size=.2)"
   ]
  },
  {
   "cell_type": "code",
   "execution_count": null,
   "id": "adc2139d-27e4-4070-a25c-272232e1fd2c",
   "metadata": {},
   "outputs": [],
   "source": [
    "X_train = df[[\"Ed\", \"Ew\", \"hour\"]][df.date < '2023-06-13'] # get columns for model\n",
    "y_train = df[\"fm\"][df.date < '2023-06-13']\n",
    "train_dates = df[\"date\"][df.date < '2023-06-13']\n",
    "\n",
    "X_test = df[[\"Ed\", \"Ew\", \"hour\"]][df.date >= '2023-06-13'] # get columns for model\n",
    "y_test = df[\"fm\"][df.date >= '2023-06-13']\n",
    "test_dates = df[\"date\"][df.date >= '2023-06-13']\n",
    "\n",
    "print(f\"Training Observations: {y_train.shape[0]}\")\n",
    "print(f\"Test Observations: {y_test.shape[0]}\")"
   ]
  },
  {
   "cell_type": "code",
   "execution_count": null,
   "id": "588e74f7-2827-493c-9053-88b49b72f290",
   "metadata": {},
   "outputs": [],
   "source": [
    "with open('../models/params.yaml', 'r') as file:\n",
    "    all_params = yaml.safe_load(file)\n",
    "\n",
    "params = all_params[\"xgb\"]\n",
    "params"
   ]
  },
  {
   "cell_type": "code",
   "execution_count": null,
   "id": "435c86eb-916c-4b56-a350-b846fc4c791b",
   "metadata": {},
   "outputs": [],
   "source": [
    "reproducibility.set_seed(123)\n",
    "model = XGB(loss='reg:squarederror',params=params)\n",
    "model.fit(X_train, y_train)\n",
    "fitted = model.predict(X_train)\n",
    "preds = model.predict(X_test)"
   ]
  },
  {
   "cell_type": "code",
   "execution_count": null,
   "id": "2366a2b8-6903-45ee-b78a-9b271de95dcc",
   "metadata": {},
   "outputs": [],
   "source": [
    "plt.plot(df.date, df.fm, label = \"FM Observed\")\n",
    "plt.plot(train_dates, fitted, label = \"Fitted\")\n",
    "plt.plot(test_dates, preds, label = \"Forecasts\")\n",
    "plt.title(\"FM Observations at CPTC2 from 2023-06-01 through 2023-06-14\")\n",
    "plt.xticks(rotation=90)\n",
    "plt.legend()\n",
    "plt.grid()"
   ]
  },
  {
   "cell_type": "code",
   "execution_count": null,
   "id": "a8068f84-9750-48b6-b995-e229252c0c9b",
   "metadata": {},
   "outputs": [],
   "source": [
    "# Summarise Error \n",
    "print(f\"Test RMSE: {np.sqrt(mean_squared_error(y_test, preds))}\")\n",
    "print(f\"Test Mean Bias: {np.mean(preds-y_test)}\")"
   ]
  },
  {
   "cell_type": "markdown",
   "id": "f3e84b21-00dc-4d5a-a83a-13e2261b15ca",
   "metadata": {},
   "source": [
    "The RMSE shows middling model accuracy, but this metric treats negative and positive errors equally. If we examine the average bias of the model, the model is systematically overpredicting FMC in the prediction phase. Here, bias is defined simply as observed minus predicted."
   ]
  },
  {
   "cell_type": "code",
   "execution_count": null,
   "id": "1d41eab0-2d7a-4399-b56e-0f176caab277",
   "metadata": {},
   "outputs": [],
   "source": [
    "weights = tf.exp(tf.multiply(-0.1, y_train))"
   ]
  },
  {
   "cell_type": "code",
   "execution_count": null,
   "id": "551cf5a8-0032-4f82-8845-3524b07f15ba",
   "metadata": {},
   "outputs": [],
   "source": [
    "reproducibility.set_seed(123)\n",
    "model2 = XGB(params=params)\n",
    "model2.fit(X_train, y_train, weights)\n",
    "fitted2 = model2.predict(X_train)\n",
    "preds2 = model2.predict(X_test)"
   ]
  },
  {
   "cell_type": "code",
   "execution_count": null,
   "id": "af588649-edb4-4fba-a8ee-4aab1cf497c4",
   "metadata": {},
   "outputs": [],
   "source": [
    "# Summarise Error \n",
    "print(f\"Test RMSE: {np.sqrt(mean_squared_error(y_test, preds2))}\")\n",
    "print(f\"Test Mean Bias: {np.mean(preds2-y_test)}\")"
   ]
  },
  {
   "cell_type": "code",
   "execution_count": null,
   "id": "580d1279-6bcb-441d-9432-112c12bf4531",
   "metadata": {},
   "outputs": [],
   "source": [
    "plt.plot(df.date, df.fm, label = \"FM Observed\")\n",
    "plt.plot(train_dates, fitted2, label = \"Fitted\")\n",
    "plt.plot(test_dates, preds2, label = \"Forecasts\")\n",
    "plt.title(\"FM Observations at CPTC2 from 2023-06-01 through 2023-06-14\")\n",
    "plt.xticks(rotation=90)\n",
    "plt.legend()\n",
    "plt.grid()"
   ]
  },
  {
   "cell_type": "code",
   "execution_count": null,
   "id": "01e6cfa5-e6eb-4d1c-8f42-4cd737d326fb",
   "metadata": {},
   "outputs": [],
   "source": [
    "plt.plot(test_dates, y_test, label = \"True\")\n",
    "plt.plot(test_dates, preds, label = \"Unweighted\")\n",
    "plt.plot(test_dates, preds2, label = \"Weighted\")\n",
    "plt.title(\"FM Observations at CPTC2 from 2023-06-01 through 2023-06-14\")\n",
    "plt.xticks(rotation=90)\n",
    "plt.legend()\n",
    "plt.grid()"
   ]
  },
  {
   "cell_type": "markdown",
   "id": "293a8d48-b974-4c91-801a-94635012a72d",
   "metadata": {},
   "source": [
    "## Predicting ROS"
   ]
  },
  {
   "cell_type": "code",
   "execution_count": null,
   "id": "60ed8c4c-71a7-4368-8a61-1a0554c320a8",
   "metadata": {},
   "outputs": [],
   "source": [
    "plt.plot(ros(df.fm))"
   ]
  },
  {
   "cell_type": "code",
   "execution_count": null,
   "id": "6a114448-12b8-4566-b8aa-dfc47fcb00db",
   "metadata": {},
   "outputs": [],
   "source": []
  },
  {
   "cell_type": "markdown",
   "id": "680cd64f-8c7e-4bcc-afff-6b3db00dbf78",
   "metadata": {},
   "source": [
    "## References\n",
    "\n",
    "* Open Wildland Fire Modeling E Community. https://wiki.openwfm.org/wiki/\n",
    "* National Wildfire Coordinating Group (NWCG). https://www.nwcg.gov/course/ffm/\n",
    "* *Dead Fuel Moisture*, NOAA National Centers for Environmental Information. https://www.ncei.noaa.gov/access/monitoring/dyk/deadfuelmoisture"
   ]
  },
  {
   "cell_type": "code",
   "execution_count": null,
   "id": "ceb2d262-9e5a-4e1a-bfda-506cef02e6a6",
   "metadata": {},
   "outputs": [],
   "source": []
  }
 ],
 "metadata": {
  "kernelspec": {
   "display_name": "Python 3 (ipykernel)",
   "language": "python",
   "name": "python3"
  },
  "language_info": {
   "codemirror_mode": {
    "name": "ipython",
    "version": 3
   },
   "file_extension": ".py",
   "mimetype": "text/x-python",
   "name": "python",
   "nbconvert_exporter": "python",
   "pygments_lexer": "ipython3",
   "version": "3.9.12"
  }
 },
 "nbformat": 4,
 "nbformat_minor": 5
}
