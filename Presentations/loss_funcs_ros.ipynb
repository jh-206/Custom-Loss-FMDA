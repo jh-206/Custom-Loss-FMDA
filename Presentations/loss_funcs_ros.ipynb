{
 "cells": [
  {
   "cell_type": "code",
   "execution_count": null,
   "id": "269fe853-c3ab-481b-9470-b9b7f5f9c43b",
   "metadata": {},
   "outputs": [],
   "source": [
    "# import sys\n",
    "# sys.path.append('../src')\n",
    "import numpy as np\n",
    "from numpy import random\n",
    "from scipy.stats import norm\n",
    "from scipy.interpolate import CubicSpline\n",
    "import matplotlib.pyplot as plt\n",
    "# import seaborn as sns\n",
    "# from sklearn.linear_model import LinearRegression\n",
    "# import os\n",
    "# import os.path as osp\n",
    "# import pandas as pd\n",
    "\n",
    "# # Custom modules\n",
    "# sys.path.append(osp.join(os.getcwd(),\"src\")) # Add src subdirectory to python path\n",
    "# from data_funcs import synthetic_data"
   ]
  },
  {
   "cell_type": "markdown",
   "id": "381e1147-46c5-497b-a3a0-49a653889559",
   "metadata": {},
   "source": [
    "TODO:\n",
    "* Table of Contents and Define key terms\n",
    "    * Residual sum of squares RSS\n",
    "* Figure labeling\n",
    "* Is it ok to use bullet points and notebooks"
   ]
  },
  {
   "cell_type": "markdown",
   "id": "196f9289-2126-4032-ba80-dcceda99b231",
   "metadata": {},
   "source": [
    "# Custom Loss Functions for Fuel Moisture Models\n",
    "\n",
    "*Author:* Jonathon Hirschi\n",
    "\n",
    "## Fuel Moisture Background\n",
    "\n",
    "[Fuel moisture content](https://www.ncei.noaa.gov/access/monitoring/dyk/deadfuelmoisture) is a measure of the water content of burnable materials."
   ]
  },
  {
   "cell_type": "markdown",
   "id": "d29b63a0-9de7-4c15-bde4-4b4466d52b4b",
   "metadata": {},
   "source": [
    "## Fuel Moisture Nonlinear Effect on Rate of Spread\n",
    "\n",
    "[Rate of spread](https://www.nwcg.gov/course/ffm/fire-behavior/83-rate-of-spread#:~:text=The%20rate%20of%20spread%20is,origin%20quickly%20with%20great%20intensity.) (ROS) is a measure of the speed a fire moves (often units of m/s). The following image shows the nonlinear relationship between FM and ROS at a single spatial location, while holding other variables associated with ROS constant. Wildfire spreads most readily in dry fuels, as seen in the peak of the ROS curve at zero FM. The ROS drops off quickly as fuels get wetter, but then it levels off until the ROS is zero, or when the FM reaches the \"extinction value\". Below is an idealized rate of spread curve for fuel category 8, \"Closed Timber Litter\" ([NIFC Category Descriptions](https://gacc.nifc.gov/rmcc/predictive/Fire%20Behavior%20Fuel%20Model%20Descriptions.pdf)). This fuel is selected since it is closest to an idealized 10hr fuel. The fuel load contribution from dead 10hr fuels is the highest of any of the other fuel categories, and there is no contribution from live fuels."
   ]
  },
  {
   "cell_type": "markdown",
   "id": "b52363e5-8684-49ef-9bd1-95af6f0ecc07",
   "metadata": {},
   "source": [
    "<img src=\"../images/fuel8_ros_fm.png\" alt=\"alt text\" style=\"width: 500px;\"/>"
   ]
  },
  {
   "cell_type": "markdown",
   "id": "27d97895-ed01-4060-b01d-b2a7e1fedff4",
   "metadata": {},
   "source": [
    "If the goal of training fuel moisture models is to get more accurate forecasts of wildfire ROS, it is intuitive that models should be trained directly on ROS. Instead of using loss functions on FM, why not construct a loss function directly with ROS? First, wildfire ROS is a complicated multifaceted conce3pt, and it is conceptually much cleaner to directly model fuel moisture and combine it with other observations to get reliable ROS estimates. Mathematically, there are issues related to the following two facts:\n",
    "\n",
    "1. FM is highly correlated in time.\n",
    "2. ROS reaches extinction value relatively quickly for dead fuels.\n",
    "\n",
    "Since fuel moisture content is the \"percent of the dry weight of that specific fuel\" ([from NOAA](https://www.ncei.noaa.gov/access/monitoring/dyk/deadfuelmoisture#:~:text=Fuel%20moisture%20is%20a%20measure,content%20would%20be%20zero%20percent.)), this value can go over 100% for very wet fuels, since the water content can weight more than the underlying burnable material. The extinction value for tall grass, depicted above, reaches its extinction moisture value at roughly 25%. Thus, the ROS for tall grass with 25% FM would be the same as that of tall grass with 150% FM. In both cases, the ROS would be zero. \n",
    "\n",
    "This fact, combined with the temporal correlation of FM, makes it potentially undesirable to train FM models directly on ROS. Consider a case when the true FM content was 30% for tall grass. Model 1 predicts 25% FM and Model 2 predicts 150%. Both models would receive a loss of zero for that prediction, since both models predict zero ROS which matches the observed value. However, if atmospheric conditions led to the fuel drying out over time, the models would predict very different ROS within a few hours. Fuels with an FM of 25% would dry out relatively quickly compared to fuels with an FM of 150%, and thus the ROS would be nonzero in the former case much quicker than the latter. "
   ]
  },
  {
   "cell_type": "markdown",
   "id": "599a8b30-035f-487e-9131-6b43295fabfe",
   "metadata": {},
   "source": [
    "We first construct an idealized rate of spread curve from the source above. *Note:* an extinction moisture of about 25 is common for various fuel types."
   ]
  },
  {
   "cell_type": "code",
   "execution_count": null,
   "id": "8c916197-ddf8-4b65-aeb8-38eefeb621b1",
   "metadata": {},
   "outputs": [],
   "source": [
    "# Construct Idealized ROS curve from eyeballing plot\n",
    "x = np.array([0, 5, 10, 15, 20, 25, 30, 35])\n",
    "y = np.array([7.5, 4.3, 3.1, 2.6, 2.1, 1.4, 0, 0])*10**-3\n",
    "xvals = np.linspace(start=0, stop=35, num=100)\n",
    "\n",
    "ros_f = CubicSpline(x, y)\n",
    "def ros(fm):\n",
    "    r = ros_f(fm)\n",
    "    r[fm>30]=0\n",
    "    return r\n",
    "\n",
    "\n",
    "\n",
    "plt.plot(xvals, ros(xvals), \"red\")\n",
    "plt.xlabel(\"Fuel Moisture (%)\")\n",
    "plt.ylabel(\"Rate of Spread (m/s)\")\n",
    "plt.title(\"ROS Curve\")\n",
    "plt.grid()"
   ]
  },
  {
   "cell_type": "markdown",
   "id": "db94648a-a451-4144-be4c-cce542e526be",
   "metadata": {},
   "source": [
    "### Simulated FM Example\n",
    "\n",
    "Fuel moisture content has a cyclical pattern that corresponds to a 24 hour day, where there are cycles throughout the day of temperature and relative humidity (two of the main theoretical drivers of FM). For this example, we simulate a sinusoidal curve with a decreasing linear trend."
   ]
  },
  {
   "cell_type": "code",
   "execution_count": null,
   "id": "477d397f-463b-42dc-8b4a-a1734fe3de40",
   "metadata": {},
   "outputs": [],
   "source": [
    "# Sim data, no rain for simplicity\n",
    "random.seed(456)\n",
    "\n",
    "hours = 400 # Total number of time steps\n",
    "dat = synthetic_data(max_rain = 0, data_noise = .5)  # Sim data from FMDA project code\n",
    "fm = dat['fm'][0:hours]\n",
    "\n",
    "# Manually edit sim data to illustrate point about ROS\n",
    "fm = fm + 20 - .07*np.arange(0, hours) # Shift up by 20, add decreasing trend"
   ]
  },
  {
   "cell_type": "code",
   "execution_count": null,
   "id": "4a3d6c9f-f66a-4bcb-ac35-38ca382112b8",
   "metadata": {},
   "outputs": [],
   "source": [
    "h=np.arange(0, hours)\n",
    "plt.plot(h, fm, \"-o\", markersize=3)\n",
    "plt.title(\"Simulated FM\")\n",
    "plt.xlabel(\"Time (hour)\")\n",
    "plt.ylabel(\"FM (%)\")"
   ]
  },
  {
   "cell_type": "markdown",
   "id": "b84d02f2-f8fc-4c09-80fd-3bc28a7a1d10",
   "metadata": {},
   "source": [
    "Using the previously plotted simulated FM data, we now plot the ROS transformation of this data. Notice that many FM observations near the start of the time period get mapped to zero."
   ]
  },
  {
   "cell_type": "code",
   "execution_count": null,
   "id": "fae470c1-236f-4b09-8c33-455d92c5aacd",
   "metadata": {},
   "outputs": [],
   "source": [
    "# Plot ROS over time\n",
    "rs = ros(fm)\n",
    "plt.plot(h, rs, \"red\")\n",
    "plt.xlabel(\"Time (hour)\")\n",
    "plt.ylabel(\"ROS (m/s)\")\n",
    "plt.title(\"ROS over Time\")"
   ]
  },
  {
   "cell_type": "markdown",
   "id": "cb1021b8-c541-4a68-a0d8-992399cc6fc0",
   "metadata": {},
   "source": [
    "## Proposed Custom Loss Functions"
   ]
  },
  {
   "cell_type": "markdown",
   "id": "1f82693d-6c5e-4219-a4c3-c081d117fa23",
   "metadata": {},
   "source": [
    "In order to get the most accurate ROS forecasts, we have so far presented two approaches that can be thought of as opposite extremes. One approach is to train models with FM as the response and minimize the typical Residual Sum of Squares (RSS). After the initial training, we then transform the forecasts from FM to ROS. The drawback of this approach is that the training procedure will minimize errors across the entire observed range of FM values, and we might miss out on models that perform better for very dry fuels. The other approach is to transform FM observations to ROS first, and then train models to minimize the RSS of the ROS values. The drawback of this approach is that the ROS transformation collapses many FM observations to zero, at the extinction moisture level, so we lose information that is potentially useful for time dependent forecasts. I will refer to these two loss function approaches as the \"baseline\" loss functions. The goal of this project is to construct loss functions that get the best of both of baseline loss functions. In other words, we want to train FM models to be most accurate for very dry fuels without ignoring the information that saturated fuels give us."
   ]
  },
  {
   "cell_type": "markdown",
   "id": "c8fd10df-11eb-4ccf-8f43-520a1d2ed43a",
   "metadata": {},
   "source": [
    "### Weighted Average of Baseline Loss Functions\n",
    "\n",
    "Let the size of the training sample be $n$. For each observed response value $y_1, y_2, ..., y_n$, the baseline methods assign a weight to each model residual. Then the model is trained to minimize the following weighted residual sum of squares. If the loss function is the RSS on FM values, the weights are uniform and the minimization procedure is equivalent to the unweighted case. Note that the weights will sum to 1 in this case.\n",
    "\n",
    "$$w_i = \\frac{1}{n} \\text{ for all }i = 1, 2, ..., n$$\n",
    "$$\\sum_{i=1}^n w_i = 1$$\n",
    "\n",
    "\n",
    "The other baseline case, where the FM observations are transformed to ROS, is equivalent to a weighted least squares procedure with the weights coming from the density given by the FM versus ROS curve. The weights are then normalized to sum to one. As a simple example, suppose we have observed FM values of $0, 25,$ and $30$. We visualize those points on the ROS curve below:"
   ]
  },
  {
   "cell_type": "code",
   "execution_count": null,
   "id": "f1187aa6-1407-4be2-9ae5-83789d7c017c",
   "metadata": {},
   "outputs": [],
   "source": [
    "y = np.array([0, 25, 30])\n",
    "plt.plot(xvals, ros(xvals), \"red\")\n",
    "plt.plot(y, ros(y), 'bo', label = \"Observed FM values\")\n",
    "plt.xlabel(\"Fuel Moisture (%)\")\n",
    "plt.ylabel(\"Rate of Spread (m/s)\")\n",
    "plt.title(\"ROS Curve\")\n",
    "plt.legend()"
   ]
  },
  {
   "cell_type": "markdown",
   "id": "b4857fed-9803-4382-89f5-23ea39ff209b",
   "metadata": {},
   "source": [
    "This would lead to unnormalized weights of $0.05, 0, $ and $0$.\n",
    "\n",
    "..."
   ]
  },
  {
   "cell_type": "markdown",
   "id": "d06a72ac-882f-49cd-8188-b5e7d2d8da03",
   "metadata": {},
   "source": [
    "### Gamma Function \n"
   ]
  },
  {
   "cell_type": "markdown",
   "id": "98c6e953-496f-46f9-b044-261ee8ced2e8",
   "metadata": {
    "jp-MarkdownHeadingCollapsed": true
   },
   "source": [
    "## Proposed Experiment\n",
    "\n",
    "My research hypothesis is that a weighted loss function for training fuel moisture models, which places more weight on lower values of FM, will result in more accurate ROS forecast than either an unweighted loss function on FM or a loss function directly on ROS. The weighting scheme is intended to assign a larger loss to model errors for low values of fuel moisture, since small errors in FM in that range lead to large differences in ROS. The fully realized version of this project would compare ROS forecasts to real observed fires with various fuel types. For a Masters' Project, I will consider the theoretical ROS at single spatial locations with only 10-hour dead fuel moisture (fm10). The fuel moisture models will be evaluated by their ROS forecast accuracy. Additionally, I need to specify spatial and temporal domains for analysis. To test my hypothesis in the simplified framework, I propose the following experimental design. \n",
    "\n",
    "1. Build a Testing Dataset:\n",
    "\n",
    "**Spatial Frame**: Collect hourly fm10 observations for all RAWS stations in Colorado with complete data to run fuel moisture models (46 in total). \n",
    "\n",
    "**Time Frame**: Collect fm10 observations from May through September, corresponding to the Colorado Wildfire Season as defined by the [Western Fire Chiefs Association](https://wfca.com/articles/colorado-fire-season/). These time periods will be divided into 5 periods of training and testing, one for each month. The **training period** will be days 1-20 of each month, and the **testing period** will be days 21-30 or 31 of each month.\n",
    "\n",
    "This will result in a dataset for 225 potential model runs (46 stations times 5 time periods).\n",
    "\n",
    "2. Define a set of Fuel Moisture Models:\n",
    "\n",
    "I will consider a few different models to examine how changing the loss function changes the ROS forecast accuracy:\n",
    "\n",
    "* Simple Linear Regression Model: Including all FM variables as predictors. I include this because it will be simple to construct and deploy and analyze how it interacts with different loss functions.\n",
    "* Auto-regressive Linear Model: The only predictor will be the 1 hour time lag of FM. I developed such a model for Data 2 Policy, which showed relatively strong accuracy. I include it to investigate how the loss functions interact with a time-series based model.\n",
    "* Physics-Initiated Recurrent Neural Network: This model was developed by Jan Mandel and it is part of my ongoing research to assist him with developing this model.\n",
    "\n",
    "3. Build a set of Candidate Loss Functions:\n",
    "\n",
    "* Unweighted RSS on FM. This would be one loss function.\n",
    "* Unweigthted RSS on ROS. This would also be one loss function.\n",
    "* Weighted RSS on FM. This would be a set of loss functions. I will consider Gamma distributions with various parameter pairs. I select Gamma distributions a priori: they have positive support (FM cannot be negative) and they are flexible to get different shapes of the resulting distributions.\n",
    "\n",
    "My hypothesis is that some loss function from the third set of loss functions will lead to the best forecasts of ROS.           \n",
    "\n",
    "4. Fit the models and forecast ROS:\n",
    "\n",
    "For each model and each loss function, train the model on 20 days of data, for the spatial locations I describe above, and forecast ROS 10 days into the future.\n",
    "\n",
    "5. Evaluate Forecast Accuracy:\n",
    "\n",
    "For each model run, calculate the accuracy of the ROS forecast by calculating the root mean squared error (RMSE) of the resulting ROS predictions. I will then summarize the average RMSE at each location and time period. Following that, I will analyze whether there were systematic differences between the different FM models, e.g. whether one loss function work better for the RNN than for the linear regression.\n",
    "\n",
    "\n",
    "**Jan NOTES 10-1**\n",
    "Train on 10 hour, but define ROS for 1 of 13 fuel categories. Discuss how to go to 1hr and 100hr."
   ]
  },
  {
   "cell_type": "markdown",
   "id": "680cd64f-8c7e-4bcc-afff-6b3db00dbf78",
   "metadata": {},
   "source": [
    "## References\n",
    "\n",
    "* Open Wildland Fire Modeling E Community. https://wiki.openwfm.org/wiki/\n",
    "* National Wildfire Coordinating Group (NWCG). https://www.nwcg.gov/course/ffm/\n",
    "* *Dead Fuel Moisture*, NOAA National Centers for Environmental Information. https://www.ncei.noaa.gov/access/monitoring/dyk/deadfuelmoisture"
   ]
  },
  {
   "cell_type": "code",
   "execution_count": null,
   "id": "ceb2d262-9e5a-4e1a-bfda-506cef02e6a6",
   "metadata": {},
   "outputs": [],
   "source": []
  }
 ],
 "metadata": {
  "kernelspec": {
   "display_name": "Python 3 (ipykernel)",
   "language": "python",
   "name": "python3"
  },
  "language_info": {
   "codemirror_mode": {
    "name": "ipython",
    "version": 3
   },
   "file_extension": ".py",
   "mimetype": "text/x-python",
   "name": "python",
   "nbconvert_exporter": "python",
   "pygments_lexer": "ipython3",
   "version": "3.10.13"
  }
 },
 "nbformat": 4,
 "nbformat_minor": 5
}
