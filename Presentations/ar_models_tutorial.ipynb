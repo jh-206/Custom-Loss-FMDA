{
 "cells": [
  {
   "cell_type": "markdown",
   "id": "7be6512a-828b-44c6-8e10-bb6bc4e16dd5",
   "metadata": {},
   "source": [
    "# Models Tutorial\n",
    "\n",
    "The purpose of this notebook is to demonstrate manual coding of AR models used in this project. The typical AR modeling packages in python do not allow for easy implementation of custom loss functions and other weighting schemes."
   ]
  },
  {
   "cell_type": "code",
   "execution_count": 1,
   "id": "c8eb1ee2-ebe7-4c6d-93e2-f85175629a6b",
   "metadata": {},
   "outputs": [],
   "source": [
    "import sys\n",
    "import numpy as np\n",
    "from numpy import random\n",
    "from scipy.stats import norm\n",
    "import matplotlib.pyplot as plt\n",
    "import seaborn as sns\n",
    "from sklearn.linear_model import LinearRegression\n",
    "import os\n",
    "import os.path as osp\n",
    "import pandas as pd\n",
    "from statsmodels.tsa.ar_model import AutoReg\n",
    "\n",
    "# Custom modules\n",
    "sys.path.append(osp.join(os.getcwd(),\"src\")) # Add src subdirectory to python path\n",
    "from data_funcs import synthetic_data"
   ]
  },
  {
   "cell_type": "code",
   "execution_count": 2,
   "id": "f7291fd7-fd45-40fe-a195-3c740ae96a5d",
   "metadata": {},
   "outputs": [],
   "source": [
    "# Generate Data\n",
    "# Sim data, no rain for simplicity\n",
    "random.seed(456)\n",
    "\n",
    "hours = 400 # Total number of time steps\n",
    "dat = synthetic_data(max_rain = 0, data_noise = .5)  # Sim data from FMDA project code\n",
    "fm = dat['fm'][0:hours]\n",
    "h=np.arange(0, hours)\n",
    "\n",
    "# Manually edit sim data to illustrate point about ROS\n",
    "fm = fm + 20 - .07*np.arange(0, hours) # Shift up by 20, add decreasing trend\n",
    "\n",
    "# Split to training and test\n",
    "# Model 1 fit with OLS on FM\n",
    "# h = h.reshape(-1, 1)\n",
    "h2 = 300\n",
    "fmtr=fm[0:h2]\n",
    "fmte=fm[h2:len(fm)]"
   ]
  },
  {
   "cell_type": "code",
   "execution_count": null,
   "id": "8f6ea611-2f48-48bb-a8a1-020b84ffc5b8",
   "metadata": {},
   "outputs": [],
   "source": []
  },
  {
   "cell_type": "markdown",
   "id": "8c6117b6-c3f1-48d5-a707-1cf9836ae773",
   "metadata": {},
   "source": [
    "## Autoregressive Models\n",
    "\n",
    "The `AutoReg` function from `statsmodels` provides a relatively simple interface for fitting models. However, it is not straightforward to add weights or make some other custom loss function. The point is to use the linear regression model from `sklearn`, so weights and custom loss can easily be added. \n",
    "\n",
    "For a few different AR models we will reproduce the results with linear regression. The mathematical form of an AR model with time lags $k=1, 2, ..., K$:\n",
    "\n",
    "$$\n",
    "y_t = \\beta_0 + \\sum_{k=1}^K \\beta_k y_{t-k} +\\epsilon_t\n",
    "$$"
   ]
  },
  {
   "cell_type": "markdown",
   "id": "06249fa5-5387-4d13-b17f-50acc29eff0c",
   "metadata": {},
   "source": [
    "## Lag 1 AR model with constant trend"
   ]
  },
  {
   "cell_type": "markdown",
   "id": "3a58c8c5-d761-431c-9ddf-15629dfb95b8",
   "metadata": {},
   "source": [
    "The mathematical specification is:\n",
    "\n",
    "$$\n",
    "y_t = \\beta_0 + \\beta_1 y_{t-1} +\\epsilon_t\n",
    "$$"
   ]
  },
  {
   "cell_type": "code",
   "execution_count": 3,
   "id": "057d99c1-57ed-454e-a565-08b2ea22c291",
   "metadata": {},
   "outputs": [],
   "source": [
    "## Autoreg Model, lag 1 and default of constant trend \n",
    "ar1 = AutoReg(fmtr, lags=1).fit()\n",
    "fit1 = ar1.predict(start=0, end=h2-1, dynamic=False) # ignore NAN values at beginning when lags can't be calculated\n",
    "fit1 = fit1[1:h2]  # ignore NAN values at beginning when lags can't be calculated\n",
    "\n",
    "## Reproduce with LinearRegression, with default constant mean (same as const trend)\n",
    "\n",
    "X = pd.DataFrame({'rs': fmtr})\n",
    "X['lag1'] = X['rs'].shift(1)\n",
    "X = X.drop(['rs'], axis=1)\n",
    "X = X.dropna().to_numpy()\n",
    "\n",
    "mod = LinearRegression().fit(X, np.delete(fmtr, 0))\n",
    "fits = mod.predict(X)"
   ]
  },
  {
   "cell_type": "markdown",
   "id": "62006e45-1fd0-451f-af00-bf09a85e4846",
   "metadata": {},
   "source": [
    "We then compare the results up to rounding error. We expect a value close to machine epsilon, or in the $10^{-18}$ range. Additionally, the model parameters should be the same up to rounding error."
   ]
  },
  {
   "cell_type": "code",
   "execution_count": 4,
   "id": "4d56de5f-e665-40f9-b2d5-bf33fa39ac8c",
   "metadata": {},
   "outputs": [
    {
     "name": "stdout",
     "output_type": "stream",
     "text": [
      "Training Max Difference: 2.842170943040401e-14\n"
     ]
    }
   ],
   "source": [
    "## Compare Results up to rounding error\n",
    "def max_err(x, y):\n",
    "    return np.max(np.abs(x-y))\n",
    "\n",
    "print(f'Training Max Difference: {max_err(fits, fit1)}')"
   ]
  },
  {
   "cell_type": "code",
   "execution_count": 5,
   "id": "a4b9bcec-a1e1-45d0-a9b1-21776b4b02cb",
   "metadata": {},
   "outputs": [
    {
     "name": "stdout",
     "output_type": "stream",
     "text": [
      "[0.17953995 0.99114216]\n",
      "[0.17953995 0.99114216]\n"
     ]
    }
   ],
   "source": [
    "# Params same to 8 decimal places\n",
    "print(np.round([mod.intercept_, mod.coef_[0]], 8))\n",
    "print(ar1.params)"
   ]
  },
  {
   "cell_type": "markdown",
   "id": "fe3e2e60-ec86-465b-91e9-96fad8779d9d",
   "metadata": {},
   "source": [
    "For prediction with the LM model, we have to iteratively call the predict function starting with the last observation, then moving forward one forecasted value at a time."
   ]
  },
  {
   "cell_type": "code",
   "execution_count": 6,
   "id": "d835968e-079f-4660-9ec6-4201a3580cc3",
   "metadata": {},
   "outputs": [],
   "source": [
    "# Predict with built-in AR function\n",
    "preds1 = ar1.model.predict(ar1.params, start=len(fmtr), end=len(fm)-1, dynamic=False)\n",
    "# preds11 = ar1.forecast(hours-h2) # Note: equivalent"
   ]
  },
  {
   "cell_type": "markdown",
   "id": "36f3f8e4-0493-45c1-a40c-c1144f24f605",
   "metadata": {},
   "source": [
    "Below we write a function that forecasts the AR model into the future. This must be done iteratively: for each time step that is forecasted, that value is fed back into the model."
   ]
  },
  {
   "cell_type": "code",
   "execution_count": 7,
   "id": "6f0e36e7-64ea-4668-8ea5-bb7511ec7b49",
   "metadata": {},
   "outputs": [],
   "source": [
    "def predict_ts(m, f, ts):\n",
    "    \"m: model object\"\n",
    "    \"f: observed\"\n",
    "    \"ts: number of time steps to forecast\"\n",
    "\n",
    "    preds = np.zeros(ts) # initialize array of forecasts for return value\n",
    "    \n",
    "    Xtemp = f[-1].reshape(1, 1) # model matrix with last fitted value\n",
    "    \n",
    "    preds[0]=m.predict(Xtemp)\n",
    "\n",
    "    # Loop through remaining time steps and predict using last value\n",
    "    for i in range(1, ts):\n",
    "        Xtemp = preds[i-1].reshape(1, 1)\n",
    "        preds[i]=m.predict(Xtemp)\n",
    "    \n",
    "    return preds"
   ]
  },
  {
   "cell_type": "code",
   "execution_count": 8,
   "id": "5d30a96b-6793-4511-8ece-c0c1be3ea140",
   "metadata": {},
   "outputs": [],
   "source": [
    "preds=predict_ts(mod, fmtr, len(fm)-h2)"
   ]
  },
  {
   "cell_type": "code",
   "execution_count": 9,
   "id": "44b58fb7-9d67-4184-9b20-be8e3e596840",
   "metadata": {},
   "outputs": [
    {
     "data": {
      "text/plain": [
       "1.5205614545266144e-12"
      ]
     },
     "execution_count": 9,
     "metadata": {},
     "output_type": "execute_result"
    }
   ],
   "source": [
    "np.max(np.abs(preds - preds1)) # Expect small value"
   ]
  },
  {
   "cell_type": "markdown",
   "id": "3fb57d9d-7143-4c9c-9840-ea8ae80fa9aa",
   "metadata": {},
   "source": [
    "This is clearly a bad model for the given data, which has a clear time trend and seasonal effect, but this is just to illustrate the inner workings."
   ]
  },
  {
   "cell_type": "markdown",
   "id": "4ef7969d-f3ad-4baf-afb6-8ad4641105a6",
   "metadata": {},
   "source": [
    "## Lag K AR model with constant trend\n",
    "\n",
    "$$\n",
    "y_t = \\beta_0 + \\sum_{k=1}^K \\beta_k y_{t-k} +\\epsilon_t\n",
    "$$"
   ]
  },
  {
   "cell_type": "code",
   "execution_count": 10,
   "id": "da16e85d-2056-42ac-8a8f-a590861d29e5",
   "metadata": {},
   "outputs": [],
   "source": [
    "# Custom functions to recreate AR\n",
    "\n",
    "def build_lags(v, lags):\n",
    "    \"v: data vector to lag\"\n",
    "    \"lags: list of integers\"\n",
    "    \n",
    "    X = pd.DataFrame({'x': v})\n",
    "    for l in lags:\n",
    "        X[f\"lag{l}\"] = X['x'].shift(l)\n",
    "    X = X.drop(['x'], axis=1)\n",
    "    X = X.dropna().to_numpy()\n",
    "    return X"
   ]
  },
  {
   "cell_type": "code",
   "execution_count": 11,
   "id": "eb9014f3-87f3-4600-b143-ea6e594b7c96",
   "metadata": {},
   "outputs": [],
   "source": [
    "## Autoreg Model, lag 5 and default of constant trend \n",
    "ar1 = AutoReg(fmtr, lags=5).fit() \n",
    "fit1 = ar1.predict(start=0, end=h2-1, dynamic=False) # ignore NAN values at beginning when lags can't be calculated\n",
    "fit1 = fit1[1:h2]  # ignore NAN values at beginning when lags can't be calculated\n",
    "preds1 = ar1.model.predict(ar1.params, start=len(fmtr), end=len(fm)-1, dynamic=False)"
   ]
  },
  {
   "cell_type": "code",
   "execution_count": 12,
   "id": "8dda4333-82bd-4e36-a7ab-f319c7571d19",
   "metadata": {},
   "outputs": [],
   "source": [
    "## Recreate with LM\n",
    "X = build_lags(fmtr, lags = np.arange(1, 6))\n",
    "mod = LinearRegression().fit(X, fmtr[5:h2])\n",
    "fits = mod.predict(X)"
   ]
  },
  {
   "cell_type": "code",
   "execution_count": 13,
   "id": "7db3de53-ebeb-43ae-a0db-57b194c5b233",
   "metadata": {},
   "outputs": [
    {
     "name": "stdout",
     "output_type": "stream",
     "text": [
      "[ 0.71105127  1.07287614  0.39574979 -0.20867182 -0.42885378  0.1382032 ]\n",
      "[ 0.71105127  1.07287614  0.39574979 -0.20867182 -0.42885378  0.1382032 ]\n",
      "7.815970093361102e-14\n"
     ]
    }
   ],
   "source": [
    "# Params same to 8 decimal places\n",
    "print(np.round([mod.intercept_, *mod.coef_], 8))\n",
    "print(ar1.params)\n",
    "print(np.max(np.abs(fits - fit1[4:h2]))) # Expect small value"
   ]
  },
  {
   "cell_type": "markdown",
   "id": "3ce2dcd0-98f9-46ad-921c-bc8e0386afb9",
   "metadata": {},
   "source": [
    "## AR 1 with Time trend\n",
    "\n",
    "The mathematical specification is:\n",
    "\n",
    "$$\n",
    "y_t = \\beta_0 + \\beta_1 t + \\beta_2 y_{t-1} +\\epsilon_t\n",
    "$$"
   ]
  },
  {
   "cell_type": "code",
   "execution_count": 14,
   "id": "a0cbf03c-c757-43a8-8236-522f42a5c7a1",
   "metadata": {},
   "outputs": [],
   "source": [
    "## Autoreg Model, lag 1 and time dependent trend and overall mean \n",
    "ar1 = AutoReg(fmtr, lags=1, trend=\"ct\").fit()\n",
    "fit1 = ar1.predict(start=0, end=h2-1, dynamic=False) # ignore NAN values at beginning when lags can't be calculated\n",
    "fit1 = fit1[1:h2]  # ignore NAN values at beginning when lags can't be calculated\n",
    "preds1 = ar1.model.predict(ar1.params, start=len(fmtr), end=len(fm)-1, dynamic=False)"
   ]
  },
  {
   "cell_type": "code",
   "execution_count": 15,
   "id": "43364633-4a66-4c20-bda3-95673d7b65c6",
   "metadata": {},
   "outputs": [],
   "source": [
    "## Reproduce with LinearRegression, with constant mean and time trend mean\n",
    "\n",
    "X = pd.DataFrame({'rs': fmtr.tolist(), 't': h[0:h2].tolist()})\n",
    "X['lag1'] = X['rs'].shift(1)\n",
    "X = X.drop(['rs'], axis=1)\n",
    "X = X.dropna().to_numpy()\n",
    "\n",
    "mod = LinearRegression().fit(X, np.delete(fmtr, 0))\n",
    "fits = mod.predict(X)"
   ]
  },
  {
   "cell_type": "code",
   "execution_count": 16,
   "id": "eba20f95-89f8-4044-bebd-8cfa7b28b09e",
   "metadata": {},
   "outputs": [
    {
     "name": "stdout",
     "output_type": "stream",
     "text": [
      "[ 2.03533262 -0.00452552  0.94083945]\n",
      "[ 2.03985814 -0.00452552  0.94083945]\n",
      "2.842170943040401e-14\n"
     ]
    }
   ],
   "source": [
    "# Params same to 8 decimal places\n",
    "print(np.round([mod.intercept_, *mod.coef_], 8))\n",
    "print(ar1.params)\n",
    "print(np.max(np.abs(fits - fit1))) # Expect small value"
   ]
  },
  {
   "cell_type": "markdown",
   "id": "88ab448d-7c1c-4702-a668-ba9edb23b7e2",
   "metadata": {},
   "source": [
    "We modify the predict function from before to add a time trend term."
   ]
  },
  {
   "cell_type": "code",
   "execution_count": 17,
   "id": "20d7cefd-7c77-46aa-9918-cbaa500fb249",
   "metadata": {},
   "outputs": [],
   "source": [
    "def predict_ar1t(m, f, ts):\n",
    "    \"m: model object\"\n",
    "    \"f: observed\"\n",
    "    \"ts: number of time steps to forecast\"\n",
    "\n",
    "    t = np.arange(len(f), len(f)+ts)\n",
    "    \n",
    "    preds = np.zeros(ts) # initialize array of forecasts for return value\n",
    "    \n",
    "    Xtemp = np.column_stack((t[0], f[-1])) # model matrix with last fitted value\n",
    "\n",
    "    preds[0]=m.predict(Xtemp)\n",
    "\n",
    "    # Loop through remaining time steps and predict using last value\n",
    "    for i in range(1, ts):\n",
    "        Xtemp = np.column_stack((t[i], preds[i-1]))\n",
    "        # Xtemp = preds[i-1].reshape(1, 1) # join with time index\n",
    "        preds[i]=m.predict(Xtemp)\n",
    "    \n",
    "    return preds"
   ]
  },
  {
   "cell_type": "code",
   "execution_count": 18,
   "id": "eba0197b-8a1d-4798-846b-3edad10fe9d6",
   "metadata": {},
   "outputs": [],
   "source": [
    "preds=predict_ar1t(mod, fmtr, len(fm)-h2)"
   ]
  },
  {
   "cell_type": "code",
   "execution_count": 19,
   "id": "61e1dd47-8a88-4aee-9e28-089e7bc07f39",
   "metadata": {},
   "outputs": [
    {
     "data": {
      "text/plain": [
       "3.907985046680551e-14"
      ]
     },
     "execution_count": 19,
     "metadata": {},
     "output_type": "execute_result"
    }
   ],
   "source": [
    "np.max(np.abs(preds - preds1)) # Expect small value"
   ]
  },
  {
   "cell_type": "markdown",
   "id": "beb3b100-1216-470b-ab4a-9bd85685d283",
   "metadata": {},
   "source": [
    "## AR 1 with Time trend and Covariates\n",
    "\n",
    "The mathematical specification for $P$ predictors is:\n",
    "\n",
    "$$\n",
    "y_t = \\beta_0 + \\beta_1 t + \\beta_2 y_{t-1} + \\sum_{i=1}^P\\alpha_j x_{j, t} +\\epsilon_t\n",
    "$$\n",
    "\n",
    "The covariates I'll include here for illustration will be hour of the day (1-24) and a randomly generated value, call it $z$, which won't be part of the data generating process but is just included to code multiple covariates."
   ]
  },
  {
   "cell_type": "code",
   "execution_count": 20,
   "id": "ffe6b2be-94a0-4a88-b93c-83bfb5cb3af6",
   "metadata": {},
   "outputs": [],
   "source": [
    "hour = np.resize(range(1, 24), hours) # repeat 1-24 for each response value (times here aren't real)\n",
    "z = random.normal(10, 10, size=hours)\n",
    "XX = np.column_stack((hour, z))"
   ]
  },
  {
   "cell_type": "code",
   "execution_count": 21,
   "id": "71cd3d48-2bf3-48c2-884c-af716ad605b5",
   "metadata": {},
   "outputs": [],
   "source": [
    "## Autoreg Model, lag 1, time dependent trend and overall mean, two covariates \n",
    "ar1 = AutoReg(fmtr, lags=1, trend=\"ct\", exog = XX[0:h2]).fit()\n",
    "fit1 = ar1.predict(start=0, end=h2-1, exog = XX[0:h2], dynamic=False) # ignore NAN values at beginning when lags can't be calculated\n",
    "fit1 = fit1[1:h2]  # ignore NAN values at beginning when lags can't be calculated\n",
    "preds1 = ar1.model.predict(ar1.params, start=len(fmtr), end=len(fm)-1, exog_oos=XX[h2:hours], dynamic=False)"
   ]
  },
  {
   "cell_type": "code",
   "execution_count": 22,
   "id": "135c15e8-3574-4d11-804b-8f65a2282710",
   "metadata": {},
   "outputs": [],
   "source": [
    "## Reproduce with LinearRegression, with constant mean and time trend mean\n",
    "\n",
    "X = pd.DataFrame({'rs': fmtr.tolist(), 't': h[0:h2].tolist(), 'hour': hour[0:h2].tolist(), 'z': z[0:h2].tolist()})\n",
    "X['lag1'] = X['rs'].shift(1)\n",
    "X = X.drop(['rs'], axis=1)\n",
    "X = X.dropna().to_numpy()\n",
    "\n",
    "mod = LinearRegression().fit(X, np.delete(fmtr, 0))\n",
    "fits = mod.predict(X)"
   ]
  },
  {
   "cell_type": "code",
   "execution_count": 23,
   "id": "f7012c21-b05f-45d0-bc99-ad3cbd725c7a",
   "metadata": {},
   "outputs": [
    {
     "name": "stdout",
     "output_type": "stream",
     "text": [
      "[ 1.11494846 -0.00403312  0.04223127  0.00770899  0.95175982]\n",
      "[ 1.11898158 -0.00403312  0.95175982  0.04223127  0.00770899]\n",
      "5.684341886080802e-14\n"
     ]
    }
   ],
   "source": [
    "# Params same to 8 decimal places, different order\n",
    "print(np.round([mod.intercept_, *mod.coef_], 8))\n",
    "print(ar1.params)\n",
    "print(np.max(np.abs(fits - fit1))) # Expect small value"
   ]
  },
  {
   "cell_type": "markdown",
   "id": "cbba7520-49e7-4720-af50-3bce57a553e7",
   "metadata": {},
   "source": [
    "Again, we must slightly modify the predict function."
   ]
  },
  {
   "cell_type": "code",
   "execution_count": 24,
   "id": "6f4155e9-8690-4626-9ae1-6135a4b99637",
   "metadata": {},
   "outputs": [],
   "source": [
    "def predict_ar1t(m, f, XX, ts):\n",
    "    \"m: model object\"\n",
    "    \"f: observed\"\n",
    "    \"XX: covariate matrix\"\n",
    "    \"ts: number of time steps to forecast\"\n",
    "    \n",
    "    preds = np.zeros(ts) # initialize array of forecasts for return value\n",
    "    \n",
    "    Xtemp = np.column_stack((XX.loc[0:0], f[-1])) # model matrix with last fitted value\n",
    "\n",
    "    preds[0]=m.predict(Xtemp)\n",
    "\n",
    "    # Loop through remaining time steps and predict using last value\n",
    "    for i in range(1, ts):\n",
    "        Xtemp = np.column_stack((XX.loc[i:i], preds[i-1]))\n",
    "        # Xtemp = preds[i-1].reshape(1, 1) # join with time index\n",
    "        preds[i]=m.predict(Xtemp)\n",
    "    \n",
    "    return preds"
   ]
  },
  {
   "cell_type": "code",
   "execution_count": 25,
   "id": "f2ba4433-0126-4cfe-ba1c-1c077b58ad2b",
   "metadata": {},
   "outputs": [],
   "source": [
    "X2 = pd.DataFrame({'t': h[h2:hours].tolist(), 'hour': hour[h2:hours].tolist(), 'z': z[h2:hours].tolist()})\n",
    "\n",
    "preds=predict_ar1t(mod, fmtr, X2, len(fm)-h2)"
   ]
  },
  {
   "cell_type": "code",
   "execution_count": 26,
   "id": "81d1f216-cf34-4d88-a9be-c40a21c9595b",
   "metadata": {},
   "outputs": [
    {
     "data": {
      "text/plain": [
       "1.297184581972033e-12"
      ]
     },
     "execution_count": 26,
     "metadata": {},
     "output_type": "execute_result"
    }
   ],
   "source": [
    "np.max(np.abs(preds - preds1)) # Expect small value"
   ]
  },
  {
   "cell_type": "markdown",
   "id": "d50a887f-4813-4c9d-9642-fd7bd8444f2c",
   "metadata": {},
   "source": [
    "## Lag K AR model with time trend and covariates\n",
    "\n",
    "For a model with $K$ time lags and $P$ other covariates\n",
    "\n",
    "$$\n",
    "y_t = \\beta_0 + \\beta_1 t + \\sum_{i=1}^P\\beta_j x_{j, t}+ \\sum_{k=1}^K \\alpha_k y_{t-k} +\\epsilon_t\n",
    "$$"
   ]
  },
  {
   "cell_type": "code",
   "execution_count": 27,
   "id": "08da2a28-bfa5-48cc-85e8-d199ba4b4803",
   "metadata": {},
   "outputs": [],
   "source": [
    "## Autoreg Model, lag 5 and time trend\n",
    "ar1 = AutoReg(fmtr, lags=5, trend=\"ct\", exog = XX[0:h2]).fit() \n",
    "fit1 = ar1.predict(start=0, end=h2-1, dynamic=False) # ignore NAN values at beginning when lags can't be calculated\n",
    "fit1 = fit1[1:h2]  # ignore NAN values at beginning when lags can't be calculated\n",
    "preds1 = ar1.model.predict(ar1.params, start=len(fmtr), end=len(fm)-1, exog_oos=XX[h2:hours], dynamic=False)"
   ]
  },
  {
   "cell_type": "code",
   "execution_count": 28,
   "id": "31a3a733-6025-44a1-b535-5fc116fe4faf",
   "metadata": {},
   "outputs": [],
   "source": [
    "## Reproduce with LinearRegression\n",
    "lags=5\n",
    "X = build_lags(fmtr, lags = np.arange(1, lags+1))\n",
    "X = pd.DataFrame(X)\n",
    "X['t'] = h[lags:h2].tolist()\n",
    "X['hour'] = hour[lags:h2].tolist()\n",
    "X['z'] = z[lags:h2].tolist()\n",
    "X = X.to_numpy()"
   ]
  },
  {
   "cell_type": "code",
   "execution_count": 29,
   "id": "984dab46-17d7-419b-b2ee-e29f97929ce5",
   "metadata": {},
   "outputs": [],
   "source": [
    "mod = LinearRegression().fit(X, fmtr[lags:h2])\n",
    "fits = mod.predict(X)"
   ]
  },
  {
   "cell_type": "code",
   "execution_count": 30,
   "id": "0564b810-8f9b-4b97-b995-2a2bd312ea8a",
   "metadata": {},
   "outputs": [
    {
     "name": "stdout",
     "output_type": "stream",
     "text": [
      "[ 4.62876349e+00  8.27666360e-01  4.64901500e-01 -1.56592400e-02\n",
      " -3.48889520e-01 -7.26099200e-02 -9.07512000e-03  1.10529800e-02\n",
      "  1.22160000e-04]\n",
      "[ 4.63783861e+00 -9.07512346e-03  8.27666358e-01  4.64901504e-01\n",
      " -1.56592385e-02 -3.48889518e-01 -7.26099162e-02  1.10529791e-02\n",
      "  1.22161569e-04]\n",
      "1.1013412404281553e-13\n"
     ]
    }
   ],
   "source": [
    "# Params same to 8 decimal places, different order\n",
    "print(np.round([mod.intercept_, *mod.coef_], 8))\n",
    "print(ar1.params) # Params (9 excluding error var): intercept, time trend, 5x lags, 2x other\n",
    "print(np.max(np.abs(fits - fit1[(lags-1):h2]))) # Expect small value"
   ]
  },
  {
   "cell_type": "code",
   "execution_count": 31,
   "id": "12d5f9b3-90a4-4b52-8886-59c85a781596",
   "metadata": {},
   "outputs": [],
   "source": [
    "def predict_ar(m, K, f, XX, ts):\n",
    "    \"m: model object\"\n",
    "    \"K: time lag terms in m\"\n",
    "    \"f: observed\"\n",
    "    \"XX: covariate matrix\"\n",
    "    \"ts: number of time steps to forecast\"\n",
    "    \n",
    "    preds = np.zeros(ts) # initialize array of forecasts for return value\n",
    "    \n",
    "    Xtemp = np.column_stack((np.flip(f[-K:]).reshape(1, K), XX.loc[0:0])) # model matrix with last fitted value\n",
    "\n",
    "    preds[0]=m.predict(Xtemp)\n",
    "\n",
    "    # Loop through remaining time steps and predict using last value\n",
    "    for i in range(1, ts):\n",
    "        if i < K: # build lags using training data if necessary\n",
    "            x = np.concatenate((f[-(K-i):], preds[0:i]))\n",
    "        else: \n",
    "            x = preds[(i-K):i]\n",
    "        x = np.flip(x)\n",
    "        Xtemp = np.column_stack((x.reshape(1, K), XX.loc[i:i]))\n",
    "        # Xtemp = preds[i-1].reshape(1, 1) # join with time index\n",
    "        preds[i]=m.predict(Xtemp)\n",
    "    \n",
    "    return preds"
   ]
  },
  {
   "cell_type": "code",
   "execution_count": 32,
   "id": "af78310c-a1d3-4bf0-9c7f-46b5261cc9cf",
   "metadata": {},
   "outputs": [],
   "source": [
    "X2 = pd.DataFrame({'t': h[h2:hours].tolist(), 'hour': hour[h2:hours].tolist(), 'z': z[h2:hours].tolist()})\n",
    "\n",
    "preds=predict_ar(mod, lags, fmtr, X2, len(fm)-h2)"
   ]
  },
  {
   "cell_type": "code",
   "execution_count": 33,
   "id": "198b6429-212e-4f38-90cb-36cf7a7bed4f",
   "metadata": {},
   "outputs": [
    {
     "data": {
      "text/plain": [
       "8.348877145181177e-13"
      ]
     },
     "execution_count": 33,
     "metadata": {},
     "output_type": "execute_result"
    }
   ],
   "source": [
    "np.max(np.abs(preds - preds1)) # Expect small value"
   ]
  },
  {
   "cell_type": "markdown",
   "id": "2c8faf06-7a1f-46b1-b1f1-882a6f3818ff",
   "metadata": {},
   "source": [
    "Check Another one..."
   ]
  },
  {
   "cell_type": "code",
   "execution_count": 34,
   "id": "a53884a3-f110-4838-a06e-63de0b3f40e1",
   "metadata": {},
   "outputs": [],
   "source": [
    "## Autoreg Model, lag 9 and time trend and another random predictor\n",
    "np.random.seed(123)\n",
    "hour = np.resize(range(1, 24), hours) # repeat 1-24 for each response value (times here aren't real)\n",
    "z = random.normal(10, 10, size=hours)\n",
    "y = random.normal(10, 10, size=hours)\n",
    "XX = np.column_stack((hour, z, y))\n",
    "\n",
    "ar1 = AutoReg(fmtr, lags=9, trend=\"ct\", exog = XX[0:h2]).fit() \n",
    "fit1 = ar1.predict(start=0, end=h2-1, dynamic=False) # ignore NAN values at beginning when lags can't be calculated\n",
    "fit1 = fit1[1:h2]  # ignore NAN values at beginning when lags can't be calculated\n",
    "preds1 = ar1.model.predict(ar1.params, start=len(fmtr), end=len(fm)-1, exog_oos=XX[h2:hours], dynamic=False)"
   ]
  },
  {
   "cell_type": "code",
   "execution_count": 35,
   "id": "c23c0142-ab84-4526-be11-9789fd6ab0d2",
   "metadata": {},
   "outputs": [],
   "source": [
    "## Reproduce with LinearRegression\n",
    "lags=9\n",
    "X = build_lags(fmtr, lags = np.arange(1, lags+1))\n",
    "X = pd.DataFrame(X)\n",
    "X['t'] = h[lags:h2].tolist()\n",
    "X['hour'] = hour[lags:h2].tolist()\n",
    "X['z'] = z[lags:h2].tolist()\n",
    "X['y'] = y[lags:h2].tolist()\n",
    "X = X.to_numpy()"
   ]
  },
  {
   "cell_type": "code",
   "execution_count": 36,
   "id": "1cda3ea5-c366-4fcc-b986-199ec17aa16b",
   "metadata": {},
   "outputs": [],
   "source": [
    "mod = LinearRegression().fit(X, fmtr[lags:h2])\n",
    "fits = mod.predict(X)"
   ]
  },
  {
   "cell_type": "code",
   "execution_count": 37,
   "id": "08241850-5db0-432a-bf56-e83fee907742",
   "metadata": {},
   "outputs": [
    {
     "name": "stdout",
     "output_type": "stream",
     "text": [
      "[ 6.80131277e+00  7.38909280e-01  4.47106490e-01  9.04955900e-02\n",
      " -3.00207340e-01 -1.22535420e-01 -8.13481200e-02  7.53617000e-02\n",
      " -1.13412170e-01  6.25961000e-02 -1.33262700e-02  1.04575000e-03\n",
      " -1.46969000e-03  1.70286000e-03]\n",
      "[ 6.81463904e+00 -1.33262691e-02  7.38909276e-01  4.47106492e-01\n",
      "  9.04955853e-02 -3.00207341e-01 -1.22535422e-01 -8.13481153e-02\n",
      "  7.53616994e-02 -1.13412169e-01  6.25961022e-02  1.04574624e-03\n",
      " -1.46968512e-03  1.70286136e-03]\n",
      "1.1723955140041653e-13\n"
     ]
    }
   ],
   "source": [
    "# Check params the same\n",
    "print(np.round([mod.intercept_, *mod.coef_], 8))\n",
    "print(ar1.params) \n",
    "print(np.max(np.abs(fits - fit1[(lags-1):h2]))) # Expect small value"
   ]
  },
  {
   "cell_type": "code",
   "execution_count": 38,
   "id": "4c26a3e3-9a53-4782-88d4-a0efa32887e6",
   "metadata": {},
   "outputs": [],
   "source": [
    "X2 = pd.DataFrame({'t': h[h2:hours].tolist(), 'hour': hour[h2:hours].tolist(), 'z': z[h2:hours].tolist(), 'y': y[h2:hours].tolist()})\n",
    "\n",
    "preds=predict_ar(mod, lags, fmtr, X2, len(fm)-h2)"
   ]
  },
  {
   "cell_type": "code",
   "execution_count": 39,
   "id": "586bd159-85ab-4144-9ca5-c51ab79ecd34",
   "metadata": {},
   "outputs": [
    {
     "data": {
      "text/plain": [
       "8.43769498715119e-13"
      ]
     },
     "execution_count": 39,
     "metadata": {},
     "output_type": "execute_result"
    }
   ],
   "source": [
    "np.max(np.abs(preds - preds1)) # Expect small value"
   ]
  },
  {
   "cell_type": "markdown",
   "id": "0fd4ab48-3f70-457d-9c2a-5212655fb3d3",
   "metadata": {},
   "source": [
    "## AR Model Loss Functions"
   ]
  },
  {
   "cell_type": "markdown",
   "id": "9a566f14-7ce2-4ef2-a95d-887bd7972b75",
   "metadata": {},
   "source": [
    "The mathematical form of an AR model at time $t$ with time lags $k=1, 2, ..., K$:\n",
    "\n",
    "$$\n",
    "y_t = \\beta_0 + \\sum_{k=1}^K \\beta_k y_{t-k} +\\epsilon_t\n",
    "$$\n",
    "\n",
    "To fit with model with residual sum of squares (RSS), weights would be find by minimizing the following loss function: For time $t=1, ..., T$, observed response $y_t$ and modeled response $\\hat y_t$\n",
    "\n",
    "$$\n",
    "RSS = \\sum_{t=1}^{T}(y_t - \\hat y_t)^2\n",
    "$$\n",
    "\n",
    "A weighted sum of squares $WSS$ procedure would be: for weights $w_t = 1, ..., T$\n",
    "\n",
    "$$\n",
    "WSS = \\sum_{t=1}^{T}w_t(y_t - \\hat y_t)^2\n",
    "$$"
   ]
  },
  {
   "cell_type": "code",
   "execution_count": null,
   "id": "c15f14c8-0282-4da5-8806-2402e3a3924f",
   "metadata": {},
   "outputs": [],
   "source": []
  },
  {
   "cell_type": "code",
   "execution_count": null,
   "id": "a5544638-b088-4edb-949d-30f93ea80ca0",
   "metadata": {},
   "outputs": [],
   "source": []
  },
  {
   "cell_type": "code",
   "execution_count": null,
   "id": "ade018ef-ff8e-4fc1-991b-8296ae22235c",
   "metadata": {},
   "outputs": [],
   "source": []
  }
 ],
 "metadata": {
  "kernelspec": {
   "display_name": "Python 3 (ipykernel)",
   "language": "python",
   "name": "python3"
  },
  "language_info": {
   "codemirror_mode": {
    "name": "ipython",
    "version": 3
   },
   "file_extension": ".py",
   "mimetype": "text/x-python",
   "name": "python",
   "nbconvert_exporter": "python",
   "pygments_lexer": "ipython3",
   "version": "3.9.12"
  }
 },
 "nbformat": 4,
 "nbformat_minor": 5
}
