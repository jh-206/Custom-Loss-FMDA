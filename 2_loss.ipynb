{
 "cells": [
  {
   "cell_type": "markdown",
   "id": "d9f01fe9-1006-4182-b26f-cd33eaeef062",
   "metadata": {},
   "source": [
    "# Test Loss Functions on Multiple Models"
   ]
  },
  {
   "cell_type": "code",
   "execution_count": null,
   "id": "375d5c58-a711-4371-91b3-6de72c7b9ae4",
   "metadata": {},
   "outputs": [],
   "source": [
    "import sys\n",
    "sys.path.append('src')\n",
    "import pandas as pd\n",
    "import numpy as np\n",
    "import xgboost as xg\n",
    "import tensorflow as tf\n",
    "from tensorflow.keras.models import Sequential\n",
    "from tensorflow.keras.layers import Dense\n",
    "from sklearn.metrics import mean_squared_error, r2_score\n",
    "from sklearn.model_selection import train_test_split\n",
    "import yaml\n",
    "# Local modules\n",
    "from data_funcs import train_test_split_spacetime\n",
    "from fmda_models import LM, XGB\n",
    "from metrics import ros\n",
    "import reproducibility"
   ]
  },
  {
   "cell_type": "markdown",
   "id": "dfb86ca1-547c-4eb8-a241-a3ad3f96fec3",
   "metadata": {},
   "source": [
    "## Read and Split Data"
   ]
  },
  {
   "cell_type": "code",
   "execution_count": null,
   "id": "6042d139-16f4-45a7-bdbf-25e7926b0bf8",
   "metadata": {},
   "outputs": [],
   "source": [
    "df = pd.read_pickle(\"data/rocky_2023_05-09.pkl\")\n",
    "X_train, X_test, y_train, y_test = train_test_split_spacetime(df)"
   ]
  },
  {
   "cell_type": "markdown",
   "id": "16d924a1-f9c9-45a0-bdb1-6fb145da83f6",
   "metadata": {},
   "source": [
    "## Setup Models"
   ]
  },
  {
   "cell_type": "code",
   "execution_count": null,
   "id": "21476391-fb37-482e-b29c-df4c10a60f9c",
   "metadata": {},
   "outputs": [],
   "source": [
    "def exp_weight(y_train, w=0.1):\n",
    "    \"\"\"\n",
    "    Function to return weight vector of length equal to vector input y. \n",
    "    Math Definition: e^(-w*y) Used for weighted loss func.\n",
    "    Parameters:\n",
    "    -----------\n",
    "    y_train : numpy array\n",
    "        observed data vector. Used on training observations, never on test for forecasts\n",
    "    w : float, default=0.1\n",
    "        Column of dataframe to be used for y_train, y_test\n",
    "    Returns:\n",
    "    -----------\n",
    "    Array of length (len(y_train))\n",
    "    \"\"\"\n",
    "    return tf.exp(tf.multiply(-w, y_train))"
   ]
  },
  {
   "cell_type": "code",
   "execution_count": null,
   "id": "2a1560f2-ca18-45b0-bc59-2ba433f224e1",
   "metadata": {},
   "outputs": [],
   "source": [
    "def models_setup(model_ls, ws=None):\n",
    "    loss_fucs = [\"rss\", \"exp\", \"ros\"]\n",
    "    model_types = [\"lm\", \"xgb\"]\n",
    "    # set up return dictionary\n",
    "    models = {\n",
    "        'rss' : {},\n",
    "        'ros': {\n",
    "            'metric' : ros\n",
    "        }\n",
    "    } \n",
    "    # Using input omega parameter list, add dictionary key for exponential weighting for each omega in list \n",
    "    if ws is not none:\n",
    "        for w in ws:\n",
    "            assert isinstance(w, float) # Check that given list of floats\n",
    "            dname = f\"exp_{w}\" # create name of dictionary key\n",
    "            models[dname] = {\n",
    "                'metric' : '...'\n",
    "            }\n",
    "\n",
    "    for lfunc in models:\n",
    "        for mod in model_ls:\n",
    "            if mod in model_types:\n",
    "                models[lfunc][mod]={}\n",
    "            else:\n",
    "                raise ValueError(f\"Model `{mod}` not recognized. Accepted models: {model_types}\")\n",
    "\n",
    "    return models"
   ]
  },
  {
   "cell_type": "code",
   "execution_count": null,
   "id": "542b0e03-bffd-4c5b-8971-ee974b720e0c",
   "metadata": {},
   "outputs": [],
   "source": [
    "print(models_setup([\"lm\", \"xgb\"]))"
   ]
  },
  {
   "cell_type": "code",
   "execution_count": null,
   "id": "add583aa-4723-4744-99d1-315a70f86fc2",
   "metadata": {},
   "outputs": [],
   "source": [
    "models = {\n",
    "    'lm': '...',\n",
    "    'xgb': '...',\n",
    "    'mlp': '...'\n",
    "}\n",
    "dat = {\n",
    "    'mse': {\n",
    "        'weight_func': None,\n",
    "        'models': models\n",
    "    },\n",
    "    'exp_w': {\n",
    "        'weight_func': '...',\n",
    "        'models': models\n",
    "    },\n",
    "    'ros': {\n",
    "        'weight_func': '...',\n",
    "        'models': models\n",
    "    }\n",
    "}"
   ]
  },
  {
   "cell_type": "code",
   "execution_count": null,
   "id": "6476f5e1-7993-420b-a9bf-85843eec364d",
   "metadata": {},
   "outputs": [],
   "source": [
    "def loss_MSE(y_true, y_pred):\n",
    "    return tf.math.reduce_mean(tf.square(y_true - y_pred))"
   ]
  },
  {
   "cell_type": "code",
   "execution_count": null,
   "id": "d9b62961-2865-4a23-8de5-2a66ab434440",
   "metadata": {},
   "outputs": [],
   "source": [
    "# Loss function with weights based on \n",
    "# expoential function of amplitude of y_true\n",
    "def my_MSE_weighted(y_true,y_pred):\n",
    "    return K.mean(\n",
    "        tf.multiply(\n",
    "        tf.exp(tf.multiply(5.0, y_true)),\n",
    "        tf.square(tf.subtract(y_pred, y_true))\n",
    "    )\n",
    ")"
   ]
  },
  {
   "cell_type": "code",
   "execution_count": null,
   "id": "3b86132f-57b4-49e3-a3f7-d5de85311d4c",
   "metadata": {},
   "outputs": [],
   "source": []
  }
 ],
 "metadata": {
  "kernelspec": {
   "display_name": "Python 3 (ipykernel)",
   "language": "python",
   "name": "python3"
  },
  "language_info": {
   "codemirror_mode": {
    "name": "ipython",
    "version": 3
   },
   "file_extension": ".py",
   "mimetype": "text/x-python",
   "name": "python",
   "nbconvert_exporter": "python",
   "pygments_lexer": "ipython3",
   "version": "3.10.13"
  }
 },
 "nbformat": 4,
 "nbformat_minor": 5
}
