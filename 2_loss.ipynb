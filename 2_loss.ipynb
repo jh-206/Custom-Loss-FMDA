{
 "cells": [
  {
   "cell_type": "markdown",
   "id": "d9f01fe9-1006-4182-b26f-cd33eaeef062",
   "metadata": {},
   "source": [
    "# Test Loss Functions on Multiple Models"
   ]
  },
  {
   "cell_type": "code",
   "execution_count": 2,
   "id": "375d5c58-a711-4371-91b3-6de72c7b9ae4",
   "metadata": {},
   "outputs": [],
   "source": [
    "import sys\n",
    "sys.path.append('src')\n",
    "import pandas as pd\n",
    "import numpy as np\n",
    "import xgboost as xg\n",
    "import tensorflow as tf\n",
    "from tensorflow.keras.models import Sequential\n",
    "from tensorflow.keras.layers import Dense\n",
    "from sklearn.metrics import mean_squared_error, r2_score\n",
    "from sklearn.model_selection import train_test_split\n",
    "import yaml\n",
    "# Local modules\n",
    "from fmda_models import LM, XGB, MLP\n",
    "import reproducibility"
   ]
  },
  {
   "cell_type": "code",
   "execution_count": 5,
   "id": "add583aa-4723-4744-99d1-315a70f86fc2",
   "metadata": {},
   "outputs": [],
   "source": [
    "models = {\n",
    "    'lm': '...',\n",
    "    'xgb': '...',\n",
    "    'mlp': '...'\n",
    "}\n",
    "dat = {\n",
    "    'mse': {\n",
    "        'func': mean_squared_error,\n",
    "        'models': models\n",
    "    },\n",
    "    'ros': {\n",
    "        'func': '...',\n",
    "        'models': models\n",
    "    }\n",
    "}"
   ]
  },
  {
   "cell_type": "code",
   "execution_count": null,
   "id": "6476f5e1-7993-420b-a9bf-85843eec364d",
   "metadata": {},
   "outputs": [],
   "source": []
  }
 ],
 "metadata": {
  "kernelspec": {
   "display_name": "Python 3 (ipykernel)",
   "language": "python",
   "name": "python3"
  },
  "language_info": {
   "codemirror_mode": {
    "name": "ipython",
    "version": 3
   },
   "file_extension": ".py",
   "mimetype": "text/x-python",
   "name": "python",
   "nbconvert_exporter": "python",
   "pygments_lexer": "ipython3",
   "version": "3.10.13"
  }
 },
 "nbformat": 4,
 "nbformat_minor": 5
}
