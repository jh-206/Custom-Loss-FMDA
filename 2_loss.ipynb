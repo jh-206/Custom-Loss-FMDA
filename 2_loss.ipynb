{
 "cells": [
  {
   "cell_type": "markdown",
   "id": "d9f01fe9-1006-4182-b26f-cd33eaeef062",
   "metadata": {},
   "source": [
    "# Test Loss Functions on Multiple Models"
   ]
  },
  {
   "cell_type": "code",
   "execution_count": null,
   "id": "375d5c58-a711-4371-91b3-6de72c7b9ae4",
   "metadata": {},
   "outputs": [],
   "source": [
    "import sys\n",
    "sys.path.append('src')\n",
    "import pandas as pd\n",
    "import numpy as np\n",
    "import xgboost as xg\n",
    "import tensorflow as tf\n",
    "from tensorflow.keras.models import Sequential\n",
    "from tensorflow.keras.layers import Dense\n",
    "from sklearn.metrics import mean_squared_error, r2_score\n",
    "from sklearn.model_selection import train_test_split\n",
    "import yaml\n",
    "# Local modules\n",
    "from data_funcs import train_test_split_spacetime\n",
    "from fmda_models import LM, XGB\n",
    "from metrics import ros, rmse\n",
    "import reproducibility"
   ]
  },
  {
   "cell_type": "markdown",
   "id": "dfb86ca1-547c-4eb8-a241-a3ad3f96fec3",
   "metadata": {},
   "source": [
    "## Read and Split Data"
   ]
  },
  {
   "cell_type": "code",
   "execution_count": null,
   "id": "6042d139-16f4-45a7-bdbf-25e7926b0bf8",
   "metadata": {},
   "outputs": [],
   "source": [
    "df = pd.read_pickle(\"data/rocky_2023_05-09.pkl\")\n",
    "df = df.dropna()\n",
    "reproducibility.set_seed(42)\n",
    "X_train, X_test, y_train, y_test = train_test_split_spacetime(df)\n",
    "\n",
    "## SUBSET COLUMNS\n",
    "X_train = X_train[['Ed', 'hour']]\n",
    "X_test = X_test[['Ed', 'hour']]"
   ]
  },
  {
   "cell_type": "markdown",
   "id": "16d924a1-f9c9-45a0-bdb1-6fb145da83f6",
   "metadata": {},
   "source": [
    "## Setup Models"
   ]
  },
  {
   "cell_type": "code",
   "execution_count": null,
   "id": "9c207536-5c28-4c47-9c3d-592d7d323f98",
   "metadata": {},
   "outputs": [],
   "source": [
    "with open('models/params.yaml', 'r') as file:\n",
    "    params = yaml.safe_load(file)\n",
    "\n",
    "params"
   ]
  },
  {
   "cell_type": "code",
   "execution_count": null,
   "id": "f26a0074-804a-4953-9925-e235ca34ddfd",
   "metadata": {},
   "outputs": [],
   "source": [
    "models = {\n",
    "    'xgb' : XGB(params['xgb']),\n",
    "    'lm' : LM()\n",
    "}"
   ]
  },
  {
   "cell_type": "code",
   "execution_count": null,
   "id": "1a2aa7fa-ace6-4193-b05c-bc483a1478e7",
   "metadata": {},
   "outputs": [],
   "source": [
    "for mod in models:\n",
    "    fitted = models[mod].fit(X_train, y_train)\n",
    "    preds = models[mod].predict(X_test)\n",
    "    print(rmse(preds, y_test))"
   ]
  },
  {
   "cell_type": "code",
   "execution_count": null,
   "id": "139faba3-6673-4c56-9d1d-42d2a77d3e99",
   "metadata": {},
   "outputs": [],
   "source": []
  },
  {
   "cell_type": "code",
   "execution_count": null,
   "id": "58c05827-b101-405e-8ee7-56552d641b8d",
   "metadata": {},
   "outputs": [],
   "source": []
  },
  {
   "cell_type": "code",
   "execution_count": null,
   "id": "b9038582-e4af-4037-bf6b-a3b61c5b3df6",
   "metadata": {},
   "outputs": [],
   "source": []
  },
  {
   "cell_type": "code",
   "execution_count": null,
   "id": "954ae60c-be18-420c-81e5-555d08abd43b",
   "metadata": {},
   "outputs": [],
   "source": []
  },
  {
   "cell_type": "code",
   "execution_count": null,
   "id": "d61f5bbf-f586-4709-bff6-723e9f47c77f",
   "metadata": {},
   "outputs": [],
   "source": []
  },
  {
   "cell_type": "code",
   "execution_count": null,
   "id": "21476391-fb37-482e-b29c-df4c10a60f9c",
   "metadata": {
    "jupyter": {
     "source_hidden": true
    }
   },
   "outputs": [],
   "source": [
    "def exp_weight(y_train, w=0.1):\n",
    "    \"\"\"\n",
    "    Function to return weight vector of length equal to vector input y. \n",
    "    Math Definition: e^(-w*y) Used for weighted loss func.\n",
    "    Parameters:\n",
    "    -----------\n",
    "    y_train : numpy array\n",
    "        observed data vector. Used on training observations, never on test for forecasts\n",
    "    w : float, default=0.1\n",
    "        Column of dataframe to be used for y_train, y_test\n",
    "    Returns:\n",
    "    -----------\n",
    "    Array of length (len(y_train))\n",
    "    \"\"\"\n",
    "    return tf.exp(tf.multiply(-w, y_train))"
   ]
  },
  {
   "cell_type": "code",
   "execution_count": null,
   "id": "0d6fecb1-b761-45ff-88cf-e34ef36bcf7a",
   "metadata": {},
   "outputs": [],
   "source": [
    "def create_exp_function(w):\n",
    "    def exp_function(y_train):\n",
    "        return tf.exp(tf.multiply(-w, y_train))\n",
    "    return exp_function"
   ]
  },
  {
   "cell_type": "code",
   "execution_count": null,
   "id": "dab3888d-df52-47cc-991b-03973cc89869",
   "metadata": {},
   "outputs": [],
   "source": [
    "fun = create_exp_function(.05)\n",
    "fun(y_train = np.array([1,2,3]))"
   ]
  },
  {
   "cell_type": "code",
   "execution_count": null,
   "id": "2a1560f2-ca18-45b0-bc59-2ba433f224e1",
   "metadata": {},
   "outputs": [],
   "source": [
    "def loss_setup(ws = None):\n",
    "    loss_fucs = [\"rss\", \"exp\", \"ros\"]\n",
    "    # set up return dictionary\n",
    "    models = {\n",
    "        'rss' : {\n",
    "            'w_func' : None\n",
    "        },\n",
    "        'ros': {\n",
    "            'w_func' : ros\n",
    "        }\n",
    "    } \n",
    "    # Using input omega parameter list, add dictionary key for exponential weighting for each omega in list \n",
    "    if ws is not None:\n",
    "        for w in ws:\n",
    "            assert isinstance(w, float) # Check that given list of floats\n",
    "            dname = f\"exp_{w}\" # create name of dictionary key\n",
    "            models[dname] = {\n",
    "                'w_func' : create_exp_function(w)\n",
    "            }\n",
    "    return models"
   ]
  },
  {
   "cell_type": "code",
   "execution_count": null,
   "id": "542b0e03-bffd-4c5b-8971-ee974b720e0c",
   "metadata": {},
   "outputs": [],
   "source": [
    "loss_dict = loss_setup(ws=np.linspace(0.01, .3, 3))\n",
    "loss_dict"
   ]
  },
  {
   "cell_type": "code",
   "execution_count": null,
   "id": "68d5791c-79ae-4f1d-8b40-7e6fae9ea2de",
   "metadata": {},
   "outputs": [],
   "source": [
    "for l in loss_dict:\n",
    "    print(\"~\"*50)\n",
    "    print(f\"Running models for loss func: {l}\")\n",
    "    if loss_dict[l]['w_func'] is not None:\n",
    "        weights = loss_dict[l]['w_func'](y_train)\n",
    "    else:\n",
    "        weights = None\n",
    "    for mod in models:\n",
    "        print(f\"Fitting {mod}\")\n",
    "        models[mod].fit(X_train, y_train, weights)\n",
    "        preds = models[mod].predict(X_test)\n",
    "        print(f\"Test RMSE for {mod}: {rmse(preds, y_test)}\")\n",
    "        print(f\"Test ROS RMSE for {mod}: {rmse(ros(preds), ros(y_test))}\")"
   ]
  },
  {
   "cell_type": "code",
   "execution_count": null,
   "id": "d6818b30-e2dc-4e57-a239-e023beee7b56",
   "metadata": {},
   "outputs": [],
   "source": []
  },
  {
   "cell_type": "code",
   "execution_count": null,
   "id": "672ce869-9d01-4909-8292-5df4e8e8a9dd",
   "metadata": {},
   "outputs": [],
   "source": []
  },
  {
   "cell_type": "code",
   "execution_count": null,
   "id": "3b86132f-57b4-49e3-a3f7-d5de85311d4c",
   "metadata": {},
   "outputs": [],
   "source": []
  }
 ],
 "metadata": {
  "kernelspec": {
   "display_name": "Python 3 (ipykernel)",
   "language": "python",
   "name": "python3"
  },
  "language_info": {
   "codemirror_mode": {
    "name": "ipython",
    "version": 3
   },
   "file_extension": ".py",
   "mimetype": "text/x-python",
   "name": "python",
   "nbconvert_exporter": "python",
   "pygments_lexer": "ipython3",
   "version": "3.10.13"
  }
 },
 "nbformat": 4,
 "nbformat_minor": 5
}
