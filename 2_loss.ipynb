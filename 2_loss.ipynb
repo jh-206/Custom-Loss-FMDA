{
 "cells": [
  {
   "cell_type": "markdown",
   "id": "d9f01fe9-1006-4182-b26f-cd33eaeef062",
   "metadata": {},
   "source": [
    "# Test Loss Functions on Multiple Models"
   ]
  },
  {
   "cell_type": "code",
   "execution_count": null,
   "id": "375d5c58-a711-4371-91b3-6de72c7b9ae4",
   "metadata": {},
   "outputs": [],
   "source": [
    "import sys\n",
    "sys.path.append('src')\n",
    "import pandas as pd\n",
    "import numpy as np\n",
    "import xgboost as xg\n",
    "import tensorflow as tf\n",
    "from tensorflow.keras.models import Sequential\n",
    "from tensorflow.keras.layers import Dense\n",
    "from sklearn.metrics import mean_squared_error, r2_score\n",
    "from sklearn.model_selection import train_test_split\n",
    "from utils import create_exp_function, loss_setup, initialize_models\n",
    "import yaml\n",
    "import pickle\n",
    "import os.path as osp\n",
    "from datetime import timedelta\n",
    "import matplotlib.pyplot as plt\n",
    "# Local modules\n",
    "from data_funcs import train_test_split_spacetime\n",
    "from fmda_models import LM, XGB, RF\n",
    "from metrics import ros_0wind, ros_3wind, rmse\n",
    "import reproducibility"
   ]
  },
  {
   "cell_type": "markdown",
   "id": "dfb86ca1-547c-4eb8-a241-a3ad3f96fec3",
   "metadata": {},
   "source": [
    "## Read Data"
   ]
  },
  {
   "cell_type": "code",
   "execution_count": null,
   "id": "6042d139-16f4-45a7-bdbf-25e7926b0bf8",
   "metadata": {},
   "outputs": [],
   "source": [
    "df = pd.read_pickle(\"data/raws_df.pkl\")\n",
    "df = df.dropna()\n",
    "df.columns"
   ]
  },
  {
   "cell_type": "code",
   "execution_count": null,
   "id": "eeef1588-8223-4462-ad1e-bfa7991a2b9e",
   "metadata": {},
   "outputs": [],
   "source": [
    "df"
   ]
  },
  {
   "cell_type": "markdown",
   "id": "16d924a1-f9c9-45a0-bdb1-6fb145da83f6",
   "metadata": {},
   "source": [
    "## Setup Models"
   ]
  },
  {
   "cell_type": "code",
   "execution_count": null,
   "id": "9c207536-5c28-4c47-9c3d-592d7d323f98",
   "metadata": {},
   "outputs": [],
   "source": [
    "with open('models/params.yaml', 'r') as file:\n",
    "    params = yaml.safe_load(file)\n",
    "\n",
    "params"
   ]
  },
  {
   "cell_type": "code",
   "execution_count": null,
   "id": "d3f32833-8fcf-4ba7-86cd-be30b39b778e",
   "metadata": {},
   "outputs": [],
   "source": [
    "weight_grid=np.round(np.linspace(0.01, .25, 10), 4)\n",
    "models, loss_dict = loss_setup(params=params, ws=weight_grid)\n",
    "# loss_dict"
   ]
  },
  {
   "cell_type": "markdown",
   "id": "0aaab300-75b6-4c7b-83d8-6964082edaf5",
   "metadata": {},
   "source": [
    "## Run Analysis"
   ]
  },
  {
   "cell_type": "code",
   "execution_count": null,
   "id": "d053e392-7e9a-4d45-9e66-7cae5649fc93",
   "metadata": {},
   "outputs": [],
   "source": [
    "## COLUMNS SUBSET\n",
    "cols = [\"Ed\", \"rain\", \"wind\", \"solar\", \"hour\", \"doy\", \"lat\", \"lon\", 'elev']\n",
    "reproducibility.set_seed(123)"
   ]
  },
  {
   "cell_type": "markdown",
   "id": "18d8f2d1-0879-4a96-b192-d19f696fa249",
   "metadata": {},
   "source": [
    "For each loss function and each model, we will collect 2 arrays of errors on the test set. One for the RMSE on the test fuel moisture observations, and another one on the RMSE for the same observations transformed to ROS."
   ]
  },
  {
   "cell_type": "code",
   "execution_count": null,
   "id": "f200c2fe-f39b-49e0-bcf1-6231f9b5f5bd",
   "metadata": {
    "scrolled": true
   },
   "outputs": [],
   "source": [
    "t = df.index.min()\n",
    "i = 0\n",
    "tdelta = 2 # number of days to shift train/test period\n",
    "while t <= (df.index.max() - timedelta(days = 30)):\n",
    "    print(\"~\"*50)\n",
    "    print(f\"Iteration: {i}\")\n",
    "    print(f\"t: {t}\")\n",
    "    # Build train/test from 30 day period after t\n",
    "    df_temp = df[\n",
    "        (df.index >= t) & (df.index < (t + timedelta(days=30)))\n",
    "    ]\n",
    "    X_train, X_test, y_train, y_test = train_test_split_spacetime(\n",
    "        df_temp, \n",
    "        test_days = 2,\n",
    "        spatial_test_frac = 0.2,\n",
    "        verbose = True\n",
    "    )\n",
    "    X_train = X_train[cols]\n",
    "    X_test = X_test[cols]\n",
    "    # Run models\n",
    "    # Reinitialize models dictionary to prevent multiple fitting iterations\n",
    "    if True:\n",
    "        models = initialize_models(params)\n",
    "    for l in loss_dict:\n",
    "        print(\"~\"*50)\n",
    "        print(f\"Running models for loss func: {l}\")\n",
    "        if loss_dict[l]['w_func'] is not None:\n",
    "            weights = loss_dict[l]['w_func'](y_train)\n",
    "        else:\n",
    "            weights = None\n",
    "\n",
    "        for mod in models:\n",
    "            print(f\"Fitting {mod}\")\n",
    "            models[mod].fit(X_train, y_train, weights)\n",
    "            preds = models[mod].predict(X_test)\n",
    "            loss_dict[l][f\"errs\"][mod][\"t\"].append(t)\n",
    "            loss_dict[l][f\"errs\"][mod][\"rmse_test\"].append(rmse(preds, y_test))\n",
    "            loss_dict[l][f\"errs\"][mod][\"rmse_test_ROS\"].append(rmse(ros_3wind(preds), ros_3wind(y_test)))\n",
    "            print(f\"Test RMSE for {mod}: {rmse(preds, y_test)}\")\n",
    "            print(f\"Test ROS RMSE for {mod}: {rmse(ros_3wind(preds), ros_3wind(y_test))}\")\n",
    "\n",
    "    # # Iterate test period by 2 so no overlap\n",
    "    i+= 1 # iteration counter\n",
    "    t = t + timedelta(days=tdelta)"
   ]
  },
  {
   "cell_type": "code",
   "execution_count": null,
   "id": "05db1b24-5b95-4322-95d3-3b1b677b9840",
   "metadata": {},
   "outputs": [],
   "source": [
    "results_fm = []\n",
    "results_ros = []\n",
    "for l in loss_dict:\n",
    "    for mod in loss_dict[l][\"errs\"]:\n",
    "        errs = loss_dict[l][\"errs\"][mod]['rmse_test']\n",
    "        temp = {\n",
    "            'RMSE': loss_dict[l][\"errs\"][mod]['rmse_test'],\n",
    "            'Loss': [l] * len(errs),\n",
    "            'Model': [mod] * len(errs),\n",
    "            't': loss_dict[l][\"errs\"][mod]['t']\n",
    "        }\n",
    "        results_fm.append(pd.DataFrame(temp))\n",
    "        errs = loss_dict[l][\"errs\"][mod]['rmse_test_ROS']\n",
    "        temp = {\n",
    "            'RMSE': loss_dict[l][\"errs\"][mod]['rmse_test_ROS'],\n",
    "            'Loss': [l] * len(errs),\n",
    "            'Model': [mod] * len(errs),\n",
    "            't': loss_dict[l][\"errs\"][mod]['t']\n",
    "        }\n",
    "        results_ros.append(pd.DataFrame(temp))"
   ]
  },
  {
   "cell_type": "code",
   "execution_count": null,
   "id": "b5e2dea5-5de1-455f-9979-b0cbf7195f92",
   "metadata": {},
   "outputs": [],
   "source": [
    "results_fm = pd.concat(results_fm)\n",
    "results_fm"
   ]
  },
  {
   "cell_type": "code",
   "execution_count": null,
   "id": "57f775a5-66c9-46dc-b08a-6c3e7da5d917",
   "metadata": {},
   "outputs": [],
   "source": [
    "results_ros = pd.concat(results_ros)\n",
    "results_ros"
   ]
  },
  {
   "cell_type": "code",
   "execution_count": null,
   "id": "a3ea2f3a-ac3b-48b2-9aaa-2fd7da3a192c",
   "metadata": {},
   "outputs": [],
   "source": [
    "# Write Dataframe\n",
    "with open(osp.join(\"outputs\", \"results_fm.pkl\"), 'wb') as handle:\n",
    "    pickle.dump(results_fm, handle, protocol=pickle.HIGHEST_PROTOCOL)\n",
    "\n",
    "with open(osp.join(\"outputs\", \"results_ros.pkl\"), 'wb') as handle:\n",
    "    pickle.dump(results_ros, handle, protocol=pickle.HIGHEST_PROTOCOL)"
   ]
  },
  {
   "cell_type": "code",
   "execution_count": null,
   "id": "8ffc0226-4903-45e8-8ef3-06f28602b62a",
   "metadata": {},
   "outputs": [],
   "source": []
  }
 ],
 "metadata": {
  "kernelspec": {
   "display_name": "Python 3 (ipykernel)",
   "language": "python",
   "name": "python3"
  },
  "language_info": {
   "codemirror_mode": {
    "name": "ipython",
    "version": 3
   },
   "file_extension": ".py",
   "mimetype": "text/x-python",
   "name": "python",
   "nbconvert_exporter": "python",
   "pygments_lexer": "ipython3",
   "version": "3.10.13"
  }
 },
 "nbformat": 4,
 "nbformat_minor": 5
}
