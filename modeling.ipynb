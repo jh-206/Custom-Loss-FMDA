{
 "cells": [
  {
   "cell_type": "code",
   "execution_count": 1,
   "id": "1a3dca1e-6c26-43d1-809f-2bc737745213",
   "metadata": {},
   "outputs": [],
   "source": [
    "import pandas as pd\n",
    "import numpy as np\n",
    "import matplotlib.pyplot as plt\n",
    "import os\n",
    "import os.path as osp\n",
    "import sys\n",
    "from sklearn.linear_model import LinearRegression\n",
    "\n",
    "sys.path.insert(0,'src')"
   ]
  },
  {
   "cell_type": "code",
   "execution_count": 2,
   "id": "1d2aa434-1c11-4587-8e57-da172c87a149",
   "metadata": {},
   "outputs": [],
   "source": [
    "from data_funcs import plot_data"
   ]
  },
  {
   "cell_type": "code",
   "execution_count": 3,
   "id": "e493d38a-d2a4-42b5-9105-7e01ba68470c",
   "metadata": {},
   "outputs": [],
   "source": [
    "# Read data at one location\n",
    "dat = pd.read_pickle('data/raws_dat.pickle') # all RAWS observations\n",
    "\n",
    "dat = dat['CPTC2'] # restrict to one station for visualization"
   ]
  },
  {
   "cell_type": "markdown",
   "id": "bfe428b7-4546-42fd-9424-36ab9ed0a6d4",
   "metadata": {},
   "source": [
    "## AR Model\n",
    "\n",
    "For a model with $K$ time lags and $P$ other covariates\n",
    "\n",
    "$$\n",
    "y_t = \\beta_0 + \\beta_1 t + \\sum_{k=1}^K \\beta_k y_{t-k} + \\sum_{i=1}^P\\alpha_j x_{j, t} +\\epsilon_t\n",
    "$$"
   ]
  },
  {
   "cell_type": "code",
   "execution_count": 12,
   "id": "576a29ba-0e89-41a5-88f0-9c0b6d3548fc",
   "metadata": {},
   "outputs": [],
   "source": [
    "# Helper Functions\n",
    "def build_lags(v, lags):\n",
    "    \"v: data vector to lag\"\n",
    "    \"lags: list of integers\"\n",
    "    \n",
    "    X = pd.DataFrame({'x': v})\n",
    "    for l in lags:\n",
    "        X[f\"lag{l}\"] = X['x'].shift(l)\n",
    "    X = X.drop(['x'], axis=1)\n",
    "    X = X.dropna().to_numpy()\n",
    "    return X\n",
    "\n",
    "def predict_ar(m, K, f, XX, ts):\n",
    "    \"m: model object\"\n",
    "    \"K: time lag terms in m\"\n",
    "    \"f: observed\"\n",
    "    \"XX: covariate matrix\"\n",
    "    \"ts: number of time steps to forecast\"\n",
    "    \n",
    "    preds = np.zeros(ts) # initialize array of forecasts for return value\n",
    "    \n",
    "    Xtemp = np.column_stack((np.flip(f[-K:]).reshape(1, K), XX.loc[0:0])) # model matrix with last fitted value\n",
    "\n",
    "    preds[0]=m.predict(Xtemp)\n",
    "\n",
    "    # Loop through remaining time steps and predict using last value\n",
    "    for i in range(1, ts):\n",
    "        if i < K: # build lags using training data if necessary\n",
    "            x = np.concatenate((f[-(K-i):], preds[0:i]))\n",
    "        else: \n",
    "            x = preds[(i-K):i]\n",
    "        x = np.flip(x)\n",
    "        Xtemp = np.column_stack((x.reshape(1, K), XX.loc[i:i]))\n",
    "        # Xtemp = preds[i-1].reshape(1, 1) # join with time index\n",
    "        preds[i]=m.predict(Xtemp)\n",
    "    \n",
    "    return preds\n",
    "\n",
    "def build_ar(dat, lags, hours = 720, h2 = 480):\n",
    "    # Input:\n",
    "    # dat: dictionary of fmda data\n",
    "    # lags: (int) time lags to model\n",
    "    \n",
    "    # Return dictionary\n",
    "    mod={'h2': h2, 'hours':hours}\n",
    "\n",
    "    # Time params\n",
    "    h = np.arange(0, hours)\n",
    "    hour = np.resize(range(0, 23), hours) # repeat 0-23 starting at time 0, not necessarily lined up with actual time of day\n",
    "    \n",
    "    # Build training matrix\n",
    "    X = build_lags(dat['fm'][0:h2], lags = np.arange(1, lags+1))\n",
    "    X = pd.DataFrame(X)\n",
    "    X['t'] = h[lags:h2].tolist()\n",
    "    X['hour'] = hour[lags:h2].tolist()\n",
    "    X['rain'] = dat['rain'][lags:h2].tolist()\n",
    "    X['Ed'] = dat['Ed'][lags:h2].tolist()\n",
    "    X['wind_speed'] = dat['wind_speed'][lags:h2].tolist()\n",
    "    X = X.to_numpy()\n",
    "    \n",
    "    mod['train']=X\n",
    "    \n",
    "    # Fit model\n",
    "    mod[\"m\"] = LinearRegression().fit(X, dat['fm'][lags:h2])\n",
    "    mod['fits'] = mod[\"m\"].predict(X)\n",
    "\n",
    "    # # Set up prediction matrix\n",
    "    X2 = pd.DataFrame({'t': h[h2:hours].tolist(), 'hour': hour[h2:hours].tolist(), 'rain': dat['rain'][h2:hours].tolist(), \n",
    "                       'Ed': dat['Ed'][h2:hours].tolist(), 'wind_speed': dat['wind_speed'][h2:hours].tolist()})\n",
    "    mod['test']=X2\n",
    "    \n",
    "    # mod['preds']=predict_ar(mod['m'], lags, dat['fm'], X2, len(dat['fm'])-mod1['h2'])\n",
    "    \n",
    "    return mod"
   ]
  },
  {
   "cell_type": "code",
   "execution_count": 9,
   "id": "f3900b0b-df2a-468c-9ee8-bbf5343b3d9d",
   "metadata": {},
   "outputs": [],
   "source": [
    "mod1 = build_ar(dat, 1)"
   ]
  },
  {
   "cell_type": "code",
   "execution_count": null,
   "id": "1e5ccf87-3b9b-4cbc-a4dd-47a6fc281b55",
   "metadata": {},
   "outputs": [],
   "source": []
  }
 ],
 "metadata": {
  "kernelspec": {
   "display_name": "Python 3 (ipykernel)",
   "language": "python",
   "name": "python3"
  },
  "language_info": {
   "codemirror_mode": {
    "name": "ipython",
    "version": 3
   },
   "file_extension": ".py",
   "mimetype": "text/x-python",
   "name": "python",
   "nbconvert_exporter": "python",
   "pygments_lexer": "ipython3",
   "version": "3.9.12"
  }
 },
 "nbformat": 4,
 "nbformat_minor": 5
}
