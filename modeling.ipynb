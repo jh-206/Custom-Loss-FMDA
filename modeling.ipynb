{
 "cells": [
  {
   "cell_type": "code",
   "execution_count": null,
   "id": "1a3dca1e-6c26-43d1-809f-2bc737745213",
   "metadata": {},
   "outputs": [],
   "source": [
    "import pandas as pd\n",
    "import numpy as np\n",
    "import matplotlib.pyplot as plt\n",
    "import os\n",
    "import os.path as osp\n",
    "import sys\n",
    "from sklearn.linear_model import LinearRegression\n",
    "from statsmodels.tsa.ar_model import AutoReg\n",
    "\n",
    "sys.path.insert(0,'src')"
   ]
  },
  {
   "cell_type": "code",
   "execution_count": null,
   "id": "1d2aa434-1c11-4587-8e57-da172c87a149",
   "metadata": {},
   "outputs": [],
   "source": [
    "from data_funcs import plot_data, load_and_fix_data, rmse"
   ]
  },
  {
   "cell_type": "code",
   "execution_count": null,
   "id": "e493d38a-d2a4-42b5-9105-7e01ba68470c",
   "metadata": {},
   "outputs": [],
   "source": [
    "# Read data at one location\n",
    "# all RAWS observations\n",
    "dat={}\n",
    "dat.update(load_and_fix_data('data/raws_dat.pickle'))\n",
    "dat1 = dat['CPTC2_2023-05-01'] # restrict to one station for visualization"
   ]
  },
  {
   "cell_type": "code",
   "execution_count": null,
   "id": "01c07303-beb9-4241-818a-016919c0a506",
   "metadata": {},
   "outputs": [],
   "source": [
    "h2=int(20*24) # length of training period"
   ]
  },
  {
   "cell_type": "markdown",
   "id": "bfe428b7-4546-42fd-9424-36ab9ed0a6d4",
   "metadata": {},
   "source": [
    "## AR Model\n",
    "\n",
    "For a model with $K$ time lags and $P$ other covariates, the mathematical form is:\n",
    "\n",
    "$$\n",
    "y_t = \\beta_0 + \\sum_{k=1}^K \\beta_k y_{t-k} + \\sum_{i=1}^P\\alpha_j x_{j, t} +\\epsilon_t\n",
    "$$\n",
    "\n",
    "We will conduct a variable selection procedure with normal AR packages and an unweighted loss function. Then, this model will be recreated with `sklearn.Linear_Regression` in order to weight it. The variable selection procedure will compare the out-of-sample RMSE for several different time lags  and a standard set of FMDA covariates.\n",
    "\n",
    "Many models include a time trend, or adding a term $\\beta t$, which would model a constant upward or downward trend. Moving average components are often used in time series modeling, extending the AR concept to ARIMA. For theoretical reasons, we are only considering autoregressive terms and not moving averages. We are using several other covariates, and the variable selection procedure could get cumbersome and lead to overfitting. Additionally, autoregressive covariate terms theoretically resemble finite-difference methods for differential equations, which are traditionally used in the Earth sciences. We don't see a corresponding scientific justification for moving average terms. For FMDA data, we will choose not to consider such time trend terms, as this is likely to chase noice in the training set. Additionally, we will include the hour of the day (1-24) to account for the daily cyclical patterns in fuel moisture. In the AR literature, this would be a \"seasonal\" affect, and would correspond to SARIMA modeling.\n",
    "\n",
    "We will initially consider time lags of 1, 2, 5, and 24. "
   ]
  },
  {
   "cell_type": "code",
   "execution_count": null,
   "id": "11598088-2a83-4b9a-9b58-40b52400e3cc",
   "metadata": {},
   "outputs": [],
   "source": [
    "# Helper Functions for AR Model\n",
    "\n",
    "def build_design(d, covariates=['Ed', 'rain', 'wind_speed']):\n",
    "    # Build design matrix \n",
    "    # Inputs:\n",
    "    # d: FMDA dictionary\n",
    "    # Returns: (numpy.ndarray) design matrix\n",
    "    hours = len(d['fm'])\n",
    "    hour = np.resize(range(1, 24), hours) # repeat 1-24 for each response value (times here aren't real)\n",
    "    \n",
    "    X = np.column_stack(([d[x] for x in covariates]))\n",
    "    X = np.column_stack((X, hour))\n",
    "    return X\n",
    "    \n",
    "def train_AR(fm, X, lag, h2 = int(20*24)):\n",
    "    fmtr = fm[0:h2]\n",
    "    ar = AutoReg(fmtr, lags=lag, trend=\"c\", exog = X[0:h2]).fit()\n",
    "    return ar\n",
    "def predict_AR(ar, X, hours, h2 = int(20*24)):\n",
    "    return ar.model.predict(ar.params, start=h2, end=hours-1, exog_oos=X[h2:hours], dynamic=False)\n",
    "    \n",
    "# fmtr = dat['fm'][0:h2] # response var over training period\n",
    "# fmte = dat['fm'][h2:hours] # response var over forecast period"
   ]
  },
  {
   "cell_type": "code",
   "execution_count": null,
   "id": "c8f0fe0a-459d-4322-9304-d5f1b6683cf8",
   "metadata": {},
   "outputs": [],
   "source": [
    "XX = build_design(dat1)\n",
    "fm = dat1['fm']\n",
    "hours = len(fm)\n",
    "fmte = fmte = dat1['fm'][h2:hours] # response var over forecast period\n",
    "ar1 = train_AR(fm, XX, lag=1)\n",
    "ar2 = train_AR(fm, XX, lag=2)\n",
    "ar5 = train_AR(fm, XX, lag=5)\n",
    "ar24 = train_AR(fm, XX, lag=24)"
   ]
  },
  {
   "cell_type": "code",
   "execution_count": null,
   "id": "38984ca6-04fe-450f-a83b-724bdd3edfd9",
   "metadata": {},
   "outputs": [],
   "source": [
    "# Print AIC values for quick comparison\n",
    "print(f'AR Lag 1 AIC: {np.round(ar1.aic, 5)}')\n",
    "print(f'AR Lag 2 AIC: {np.round(ar2.aic, 5)}')\n",
    "print(f'AR Lag 5 AIC: {np.round(ar5.aic, 5)}')\n",
    "print(f'AR Lag 24 AIC: {np.round(ar24.aic, 5)}')"
   ]
  },
  {
   "cell_type": "code",
   "execution_count": null,
   "id": "fb0ec249-ef3a-4d9b-818b-a0cf27214e23",
   "metadata": {},
   "outputs": [],
   "source": [
    "# Compare Forecast Accuracy\n",
    "preds1 = predict_AR(ar1, XX, hours)\n",
    "preds2 = predict_AR(ar2, XX, hours)\n",
    "preds5 = predict_AR(ar5, XX, hours)\n",
    "preds24 = predict_AR(ar24, XX, hours)"
   ]
  },
  {
   "cell_type": "code",
   "execution_count": null,
   "id": "3838325e-95f1-4864-8076-6caa6b51f23f",
   "metadata": {},
   "outputs": [],
   "source": [
    "# Print forecast RMSE values \n",
    "print(f'AR Lag 1 RMSE: {np.round(rmse(preds1, fmte), 5)}')\n",
    "print(f'AR Lag 2 RMSE: {np.round(rmse(preds2, fmte), 5)}')\n",
    "print(f'AR Lag 5 RMSE: {np.round(rmse(preds5, fmte), 5)}')\n",
    "print(f'AR Lag 24 RMSE: {np.round(rmse(preds24, fmte), 5)}')"
   ]
  },
  {
   "cell_type": "markdown",
   "id": "9ec0becf-0501-4797-8acf-80ecdc999b99",
   "metadata": {},
   "source": [
    "For the one dataset considered, the Lag 2 model has the lowest forecast error. We will now deploy this procedure on additional locations to arrive at a final model specification. Hastie and Tibshirani propose a 1-standard-error rule, where you opt for the simplest model that is within 1 standard error of a given accuracy metric for the most accurate model. This is a very conservative approach by design.\n",
    "\n",
    "We will run the above procedure for the first 50 FMDA dictionaries. We perform this form of variable selection on a subset of the dictionaries to avoid overfitting. The dictionaries contain a mix of spatial locations and time periods."
   ]
  },
  {
   "cell_type": "code",
   "execution_count": null,
   "id": "4139ef76-29e2-44f0-933d-e289ad9a4a17",
   "metadata": {},
   "outputs": [],
   "source": [
    "n = 50\n",
    "rmse_df = pd.DataFrame({\n",
    "    'Lag 1': np.zeros(n),\n",
    "    'Lag 2': np.zeros(n),\n",
    "    'Lag 5': np.zeros(n),\n",
    "    'Lag 24': np.zeros(n)\n",
    "})\n",
    "i=0\n",
    "for key in list(dat.keys())[0:n]:\n",
    "    # print('~'*25)\n",
    "    # print('Running '+key)\n",
    "    dat1 = dat[key]\n",
    "    # print(f'n observations {len(dat1[\"fm\"])}')\n",
    "    XX = build_design(dat1)\n",
    "    fm = dat1['fm']\n",
    "    hours = len(fm)\n",
    "    fmte = fmte = dat1['fm'][h2:hours] # response var over forecast period\n",
    "    ar1 = train_AR(fm, XX, lag=1)\n",
    "    ar2 = train_AR(fm, XX, lag=2)\n",
    "    ar5 = train_AR(fm, XX, lag=5)\n",
    "    ar24 = train_AR(fm, XX, lag=24)\n",
    "    preds1 = predict_AR(ar1, XX, hours)\n",
    "    preds2 = predict_AR(ar2, XX, hours)\n",
    "    preds5 = predict_AR(ar5, XX, hours)\n",
    "    preds24 = predict_AR(ar24, XX, hours)\n",
    "\n",
    "    rmse_df.at[i,'Lag 1'] = rmse(preds1, fmte)\n",
    "    rmse_df.at[i,'Lag 2'] = rmse(preds2, fmte)\n",
    "    rmse_df.at[i,'Lag 5'] = rmse(preds5, fmte)\n",
    "    rmse_df.at[i,'Lag 24'] = rmse(preds24, fmte)\n",
    "    \n",
    "    i+= 1\n"
   ]
  },
  {
   "cell_type": "code",
   "execution_count": null,
   "id": "2c60c4aa-99af-48c9-a2d6-51218d40064c",
   "metadata": {},
   "outputs": [],
   "source": [
    "rmse_df.mean()"
   ]
  },
  {
   "cell_type": "code",
   "execution_count": null,
   "id": "7e83bed6-205e-44b6-92e3-d1ecf17970e5",
   "metadata": {},
   "outputs": [],
   "source": [
    "rmse_df.std()"
   ]
  },
  {
   "cell_type": "markdown",
   "id": "5566047d-d069-4d9d-805d-a42a60921f21",
   "metadata": {},
   "source": [
    "The Lag 1 model is the simplest and is within 1 standard error of RMSE for the most accurate model, so we will choose that one."
   ]
  },
  {
   "cell_type": "markdown",
   "id": "061cae70-0578-4521-b85b-1d0ea4134b85",
   "metadata": {},
   "source": [
    "We now deploy the Lag 1 model on all datasets (44 stations at 5 different time periods)."
   ]
  },
  {
   "cell_type": "code",
   "execution_count": null,
   "id": "04e6a818-87c1-4575-bb83-245404fbf484",
   "metadata": {},
   "outputs": [],
   "source": [
    "n = len(dat)\n",
    "rmse_v = np.zeros(n)\n",
    "i=0\n",
    "for key in list(dat.keys())[0:n]:\n",
    "    # print('~'*25)\n",
    "    # print('Running '+key)\n",
    "    dat1 = dat[key]\n",
    "    XX = build_design(dat1)\n",
    "    fm = dat1['fm']\n",
    "    hours = len(fm)\n",
    "    fmte = dat1['fm'][h2:hours] # response var over forecast period\n",
    "    try:\n",
    "        ar1 = train_AR(fm, XX, lag=1)\n",
    "        preds1 = predict_AR(ar1, XX, hours)\n",
    "        rmse_v[i] = rmse(preds1, fmte)\n",
    "        print(f\"Ran case {key}, RMSE={np.round(rmse_v[i], 5)}\")\n",
    "    except:\n",
    "        print(\"An exception was raised\")\n",
    "    i+= 1"
   ]
  },
  {
   "cell_type": "code",
   "execution_count": null,
   "id": "45f052e6-4f5e-4675-8cd9-6fc1513ae44c",
   "metadata": {},
   "outputs": [],
   "source": [
    "print(f\"Mean RMSE: {np.round(np.mean(rmse_v), 5)}\")\n",
    "print(f\"SD RMSE: {np.round(np.std(rmse_v), 5)}\")\n",
    "print(f\"Median RMSE: {np.round(np.median(rmse_v), 5)}\")"
   ]
  },
  {
   "cell_type": "code",
   "execution_count": null,
   "id": "b93a09f7-8165-4445-a6ec-b5f6001cbb0d",
   "metadata": {},
   "outputs": [],
   "source": [
    "plt.hist(rmse_v)"
   ]
  },
  {
   "cell_type": "markdown",
   "id": "a158bf38-2000-42bf-9ed8-a73b0793b4b0",
   "metadata": {},
   "source": [
    "A histogram of the RMSE shows there are a couple large outliers, we will investigate these data inputs for errors."
   ]
  },
  {
   "cell_type": "code",
   "execution_count": null,
   "id": "f563a0a5-3d74-4b69-a368-382b966dcfb3",
   "metadata": {},
   "outputs": [],
   "source": [
    "# STID of largest error\n",
    "key = list(dat.keys())[np.argmax(rmse_v)]\n",
    "print(key)"
   ]
  },
  {
   "cell_type": "code",
   "execution_count": null,
   "id": "27c6db7b-c7e3-4f84-a65a-df54792b94e5",
   "metadata": {},
   "outputs": [],
   "source": [
    "dat1 = dat[key]\n",
    "XX = build_design(dat1)\n",
    "fm = dat1['fm']\n",
    "hours = len(fm)\n",
    "fmte = dat1['fm'][h2:hours] # response var over forecast period\n",
    "ar1 = train_AR(fm, XX, lag=1)\n",
    "preds1 = predict_AR(ar1, XX, hours)\n",
    "rmse(preds1, fmte)"
   ]
  },
  {
   "cell_type": "code",
   "execution_count": null,
   "id": "4d627f97-c199-4b65-bb63-ae3a9c4841c5",
   "metadata": {},
   "outputs": [],
   "source": [
    "plt.plot(ar1.fittedvalues, label=\"Fitted\")\n",
    "plt.title(key)\n",
    "plt.plot(np.arange(h2, hours), preds1, label=\"Predictions\")\n",
    "plt.plot(dat1['rain'], label = \"Rainfall (mm/hr)\")\n",
    "plt.plot(dat1['fm'], label=\"FM Observed\")\n",
    "plt.legend()"
   ]
  },
  {
   "cell_type": "markdown",
   "id": "8fc35690-aae2-4c70-9d78-4cfba09a3a39",
   "metadata": {},
   "source": [
    "This case shows clear signs of faulty data, perhaps a broken sensor. We will manually remove this case from the data."
   ]
  },
  {
   "cell_type": "code",
   "execution_count": null,
   "id": "fda32814-5a99-4134-bbfe-c1a12f04e85e",
   "metadata": {},
   "outputs": [],
   "source": [
    "key=\"ESPC2_2023-05-01\"\n",
    "dat1 = dat[key]\n",
    "XX = build_design(dat1)\n",
    "fm = dat1['fm']\n",
    "hours = len(fm)\n",
    "fmte = dat1['fm'][h2:hours] # response var over forecast period\n",
    "ar1 = train_AR(fm, XX, lag=1)\n",
    "preds1 = predict_AR(ar1, XX, hours)\n",
    "rmse(preds1, fmte)"
   ]
  },
  {
   "cell_type": "code",
   "execution_count": null,
   "id": "b051539c-6572-40db-8fd7-7d300b48427b",
   "metadata": {},
   "outputs": [],
   "source": [
    "plt.plot(ar1.fittedvalues, label=\"Fitted\")\n",
    "plt.title(key)\n",
    "plt.plot(np.arange(h2, hours), preds1, label=\"Predictions\")\n",
    "plt.plot(dat1['rain'], label = \"Rainfall (mm/hr)\")\n",
    "plt.plot(dat1['fm'], label=\"FM Observed\")\n",
    "plt.legend()"
   ]
  },
  {
   "cell_type": "markdown",
   "id": "ca0dabe5-e3cc-40bf-ad31-00be15d32322",
   "metadata": {},
   "source": [
    "This case similarly shows odd observations in the prediction phase, but there is no clear basis to remove this from the dataset."
   ]
  },
  {
   "cell_type": "code",
   "execution_count": null,
   "id": "5852b55e-70a4-47cb-98ba-56d9e8be02b6",
   "metadata": {},
   "outputs": [],
   "source": [
    "# Manually remove case with broken sensor.\n",
    "del dat['TT695_2023-05-01']"
   ]
  },
  {
   "cell_type": "code",
   "execution_count": null,
   "id": "eed9d8a7-ed22-4f9b-8900-8d6b966df57c",
   "metadata": {},
   "outputs": [],
   "source": []
  },
  {
   "cell_type": "code",
   "execution_count": null,
   "id": "11cfca7c-d4ab-4c01-a7db-9497c878a7f9",
   "metadata": {},
   "outputs": [],
   "source": []
  },
  {
   "cell_type": "code",
   "execution_count": null,
   "id": "2ce5ff1f-97e5-45a4-934c-f2acc8147780",
   "metadata": {},
   "outputs": [],
   "source": []
  },
  {
   "cell_type": "code",
   "execution_count": null,
   "id": "9f53e570-9535-434d-83ca-c8168f6d0eeb",
   "metadata": {},
   "outputs": [],
   "source": []
  },
  {
   "cell_type": "code",
   "execution_count": null,
   "id": "bf4be0ea-98f5-4425-8f49-606b6fc86bc7",
   "metadata": {},
   "outputs": [],
   "source": []
  },
  {
   "cell_type": "code",
   "execution_count": null,
   "id": "b87aa5c4-5fe1-43e4-9b82-42a8c7c1f78e",
   "metadata": {},
   "outputs": [],
   "source": []
  },
  {
   "cell_type": "code",
   "execution_count": null,
   "id": "152ec578-4110-4404-b312-d7b5dbbe24bf",
   "metadata": {},
   "outputs": [],
   "source": []
  },
  {
   "cell_type": "code",
   "execution_count": null,
   "id": "d0e014d1-8bb9-4f12-add5-2e25415b846d",
   "metadata": {},
   "outputs": [],
   "source": []
  },
  {
   "cell_type": "markdown",
   "id": "9b2cd878-a4a9-4f2b-8cec-33d8ac526705",
   "metadata": {},
   "source": [
    "## Weighted AR Model"
   ]
  },
  {
   "cell_type": "code",
   "execution_count": null,
   "id": "576a29ba-0e89-41a5-88f0-9c0b6d3548fc",
   "metadata": {},
   "outputs": [],
   "source": [
    "# Helper Functions\n",
    "def build_lags(v, lags):\n",
    "    \"v: data vector to lag\"\n",
    "    \"lags: list of integers\"\n",
    "    \n",
    "    X = pd.DataFrame({'x': v})\n",
    "    for l in lags:\n",
    "        X[f\"lag{l}\"] = X['x'].shift(l)\n",
    "    X = X.drop(['x'], axis=1)\n",
    "    X = X.dropna().to_numpy()\n",
    "    return X\n",
    "\n",
    "def predict_ar(m, K, f, XX, ts):\n",
    "    \"m: model object\"\n",
    "    \"K: time lag terms in m\"\n",
    "    \"f: observed\"\n",
    "    \"XX: covariate matrix\"\n",
    "    \"ts: number of time steps to forecast\"\n",
    "    \n",
    "    preds = np.zeros(ts) # initialize array of forecasts for return value\n",
    "    \n",
    "    Xtemp = np.column_stack((np.flip(f[-K:]).reshape(1, K), XX.loc[0:0])) # model matrix with last fitted value\n",
    "\n",
    "    preds[0]=m.predict(Xtemp)\n",
    "\n",
    "    # Loop through remaining time steps and predict using last value\n",
    "    for i in range(1, ts):\n",
    "        if i < K: # build lags using training data if necessary\n",
    "            x = np.concatenate((f[-(K-i):], preds[0:i]))\n",
    "        else: \n",
    "            x = preds[(i-K):i]\n",
    "        x = np.flip(x)\n",
    "        Xtemp = np.column_stack((x.reshape(1, K), XX.loc[i:i]))\n",
    "        # Xtemp = preds[i-1].reshape(1, 1) # join with time index\n",
    "        preds[i]=m.predict(Xtemp)\n",
    "    \n",
    "    return preds\n",
    "\n",
    "def build_ar(dat, lags, hours = 720, h2 = 480):\n",
    "    # Input:\n",
    "    # dat: dictionary of fmda data\n",
    "    # lags: (int) time lags to model\n",
    "    \n",
    "    # Return dictionary\n",
    "    mod={'h2': h2, 'hours':hours}\n",
    "\n",
    "    # Time params\n",
    "    h = np.arange(0, hours)\n",
    "    hour = np.resize(range(0, 23), hours) # repeat 0-23 starting at time 0, not necessarily lined up with actual time of day\n",
    "    \n",
    "    # Build training matrix\n",
    "    X = build_lags(dat['fm'][0:h2], lags = np.arange(1, lags+1))\n",
    "    X = pd.DataFrame(X)\n",
    "    X['t'] = h[lags:h2].tolist()\n",
    "    X['hour'] = hour[lags:h2].tolist()\n",
    "    X['rain'] = dat['rain'][lags:h2].tolist()\n",
    "    X['Ed'] = dat['Ed'][lags:h2].tolist()\n",
    "    X['wind_speed'] = dat['wind_speed'][lags:h2].tolist()\n",
    "    X = X.to_numpy()\n",
    "    \n",
    "    mod['train']=X\n",
    "    \n",
    "    # Fit model\n",
    "    mod[\"m\"] = LinearRegression().fit(X, dat['fm'][lags:h2])\n",
    "    mod['fits'] = mod[\"m\"].predict(X)\n",
    "\n",
    "    # # Set up prediction matrix\n",
    "    X2 = pd.DataFrame({'t': h[h2:hours].tolist(), 'hour': hour[h2:hours].tolist(), 'rain': dat['rain'][h2:hours].tolist(), \n",
    "                       'Ed': dat['Ed'][h2:hours].tolist(), 'wind_speed': dat['wind_speed'][h2:hours].tolist()})\n",
    "    mod['test']=X2\n",
    "    \n",
    "    # mod['preds']=predict_ar(mod['m'], lags, dat['fm'], X2, len(dat['fm'])-mod1['h2'])\n",
    "    \n",
    "    return mod"
   ]
  },
  {
   "cell_type": "code",
   "execution_count": null,
   "id": "f3900b0b-df2a-468c-9ee8-bbf5343b3d9d",
   "metadata": {},
   "outputs": [],
   "source": [
    "mod1 = build_ar(dat, 1)"
   ]
  },
  {
   "cell_type": "code",
   "execution_count": null,
   "id": "1e5ccf87-3b9b-4cbc-a4dd-47a6fc281b55",
   "metadata": {},
   "outputs": [],
   "source": []
  }
 ],
 "metadata": {
  "kernelspec": {
   "display_name": "Python 3 (ipykernel)",
   "language": "python",
   "name": "python3"
  },
  "language_info": {
   "codemirror_mode": {
    "name": "ipython",
    "version": 3
   },
   "file_extension": ".py",
   "mimetype": "text/x-python",
   "name": "python",
   "nbconvert_exporter": "python",
   "pygments_lexer": "ipython3",
   "version": "3.9.12"
  }
 },
 "nbformat": 4,
 "nbformat_minor": 5
}
