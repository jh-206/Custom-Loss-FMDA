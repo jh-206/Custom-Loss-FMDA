{
 "cells": [
  {
   "cell_type": "markdown",
   "id": "903c08a3-5caa-4175-af18-5ce44fbdc9aa",
   "metadata": {},
   "source": [
    "# Data Exploration"
   ]
  },
  {
   "cell_type": "code",
   "execution_count": null,
   "id": "ac0eae76-7863-427a-afa4-e95e1e2c9834",
   "metadata": {},
   "outputs": [],
   "source": [
    "import sys\n",
    "sys.path.append('src')\n",
    "import pandas as pd\n",
    "import numpy as np\n",
    "from datetime import datetime, timedelta\n",
    "import inspect\n",
    "import matplotlib.pyplot as plt\n",
    "import os.path as osp\n",
    "import pickle\n",
    "from sklearn.model_selection import train_test_split\n",
    "# Local Modules\n",
    "from utils import make_st_map_interactive\n",
    "from data_funcs import train_test_split_spacetime\n",
    "import reproducibility"
   ]
  },
  {
   "cell_type": "markdown",
   "id": "b861122b-783c-43d6-8f26-01cb3e6a24df",
   "metadata": {},
   "source": [
    "## Cross-Validation Setup \n",
    "\n",
    "To get reliable estimates of forecast error of a spatiotemporal model, care must be taken to avoid data leakage. See: https://github.com/jh-206/FRAMSC-2024---FMDA-Data-and-CV-Methods/blob/main/Spatiotemporal%20Cross%20Validation.ipynb"
   ]
  },
  {
   "cell_type": "code",
   "execution_count": null,
   "id": "884d31cb-a064-4c22-94bd-3a2e052987ed",
   "metadata": {},
   "outputs": [],
   "source": [
    "df = pd.read_pickle(\"data/raws_df0.pkl\")"
   ]
  },
  {
   "cell_type": "code",
   "execution_count": null,
   "id": "b6e7072b-e49c-4980-b735-50b2d421db6a",
   "metadata": {},
   "outputs": [],
   "source": [
    "# make_st_map_interactive(df)"
   ]
  },
  {
   "cell_type": "code",
   "execution_count": null,
   "id": "f2b04e98-1f56-4d5a-949e-d3a16d1be90a",
   "metadata": {},
   "outputs": [],
   "source": [
    "print(f\"Total Locations: {len(df.STID.unique())}\")\n",
    "print(f\"Earliest Time: {df.index.min()}\")\n",
    "print(f\"Latest Time: {df.index.max()}\")\n",
    "df.head()"
   ]
  },
  {
   "cell_type": "markdown",
   "id": "4847bd65-a4e9-4852-b559-1937ba4d27a0",
   "metadata": {},
   "source": [
    "## Broken Sensor Data Filters"
   ]
  },
  {
   "cell_type": "markdown",
   "id": "32655e7e-b54e-4f88-9003-0b154eb9cc88",
   "metadata": {},
   "source": [
    "Some RAWS fuel moisture sensors are obviously faulty. Such as below,"
   ]
  },
  {
   "cell_type": "code",
   "execution_count": null,
   "id": "0ec7daba-085a-4f8b-84a6-9085951c75af",
   "metadata": {},
   "outputs": [],
   "source": [
    "st = \"SAWC2\"\n",
    "month = 2\n",
    "year = 2024\n",
    "df_temp = df[(df.index.month == month) & (df.index.year == year)]\n",
    "plt.plot(df_temp[df_temp.STID == st]['fm'])\n",
    "plt.xticks(rotation=90, fontsize=8)\n",
    "plt.show()"
   ]
  },
  {
   "cell_type": "markdown",
   "id": "6f101ec3-4d1b-456b-b0d5-fa98958cbc59",
   "metadata": {},
   "source": [
    "In order to flag periods of data such as above, we will remove all observations for a station if the number of hours where the fuel moisture content is identical to the previous hour is greater than 24. So this would mean there is at least 1 full day of data that is suspect. "
   ]
  },
  {
   "cell_type": "code",
   "execution_count": null,
   "id": "32d55d22-e019-4065-8df9-357cfb34c759",
   "metadata": {},
   "outputs": [],
   "source": [
    "# Function given station and time period, return if first difference of FM is zero for greater than 24 hours of observations\n",
    "def detect_bad_data(df0):\n",
    "    lags = np.diff(df_temp[df_temp.STID == \"SAWC2\"]['fm'], n=1)\n",
    "    zero_lags = np.count_nonzero(lags == 0)\n",
    "    return zero_lags > 24"
   ]
  },
  {
   "cell_type": "code",
   "execution_count": null,
   "id": "dad07f5e-5e50-49fd-9a0e-7f1b00966e29",
   "metadata": {
    "scrolled": true
   },
   "outputs": [],
   "source": [
    "month_year = df.index.to_period('M').unique()\n",
    "flags = []\n",
    "for my in month_year:\n",
    "    print(\"~\"*50)\n",
    "    month = my.month\n",
    "    year = my.year\n",
    "    for st in df.STID.unique():\n",
    "        print(f\"Detecting bad data for month: {my}, and Station: {st}\")\n",
    "        df_temp = df[(df.index.month == month) & (df.index.year == year) & (df.STID == st)]\n",
    "        bad = detect_bad_data(df_temp)\n",
    "        if bad:\n",
    "            print(bad)\n",
    "            flags.append({'STID': st,'my': my})"
   ]
  },
  {
   "cell_type": "code",
   "execution_count": null,
   "id": "289b0d54-9270-4f0b-a82d-a857dd5674a0",
   "metadata": {},
   "outputs": [],
   "source": [
    "flags"
   ]
  },
  {
   "cell_type": "markdown",
   "id": "41330fcf-a15a-4f01-938a-1dff8d6136ef",
   "metadata": {},
   "source": [
    "All of the flagged periods were from the same station, so we will just drop this one entirely."
   ]
  },
  {
   "cell_type": "code",
   "execution_count": null,
   "id": "9e4288e6-d32f-49ca-9df7-d56cebdbba5e",
   "metadata": {},
   "outputs": [],
   "source": [
    "# remove bad station from data\n",
    "df = df[df['STID'] != 'SAWC2']\n",
    "\n",
    "# Write Dataframe\n",
    "with open(osp.join(\"data\", \"raws_df.pkl\"), 'wb') as handle:\n",
    "    pickle.dump(df, handle, protocol=pickle.HIGHEST_PROTOCOL)"
   ]
  },
  {
   "cell_type": "markdown",
   "id": "7a25c51d-f02a-486e-b745-ac1c017bf4fd",
   "metadata": {},
   "source": [
    "## Summary Stats"
   ]
  },
  {
   "cell_type": "code",
   "execution_count": null,
   "id": "93b53c31-7a20-4d77-b339-571e2f662144",
   "metadata": {},
   "outputs": [],
   "source": [
    "print(f\"Min Date: {df.date.min()}\")\n",
    "print(f\"Max Date: {df.date.max()}\")"
   ]
  },
  {
   "cell_type": "code",
   "execution_count": null,
   "id": "cd545921-20f7-41d3-8f7e-de1efcad805b",
   "metadata": {},
   "outputs": [],
   "source": [
    "df.shape"
   ]
  },
  {
   "cell_type": "code",
   "execution_count": null,
   "id": "b6812c91-ee6d-4055-8847-287d45407c48",
   "metadata": {},
   "outputs": [],
   "source": [
    "cols_list = [\"Ed\", \"rain\", \"wind\", \"solar\", \"hour\", \"doy\", \"lat\", \"lon\", \"elev\"]\n",
    "summary_df = df[cols_list].agg(['min', 'max', 'mean']).transpose()\n",
    "summary_df = summary_df.round(2)\n",
    "summary_df = summary_df.map(lambda x: '{:.0f}'.format(x) if x.is_integer() else '{:.2f}'.format(x))\n",
    "summary_df"
   ]
  },
  {
   "cell_type": "code",
   "execution_count": null,
   "id": "a6131535-e9cf-4966-bd58-dffd94a1e884",
   "metadata": {},
   "outputs": [],
   "source": [
    "df = df.dropna()"
   ]
  },
  {
   "cell_type": "code",
   "execution_count": null,
   "id": "0611f8e6-fc6f-4183-8dd5-1ba9b7b38ddf",
   "metadata": {},
   "outputs": [],
   "source": [
    "print(f\"Data Shape: {df.shape}\")"
   ]
  },
  {
   "cell_type": "code",
   "execution_count": null,
   "id": "a7b64194-97a6-466f-a64d-2bc862f3d099",
   "metadata": {},
   "outputs": [],
   "source": [
    "print(f\"Unique Locations: {len(df.STID.unique())}\")"
   ]
  },
  {
   "cell_type": "code",
   "execution_count": null,
   "id": "fdfd5b6a-594a-48d6-8b36-e17dd0c60b1f",
   "metadata": {},
   "outputs": [],
   "source": [
    "print(summary_df.to_latex())"
   ]
  },
  {
   "cell_type": "markdown",
   "id": "0ed19fc1-782e-4d69-9fab-1a2ee1dd2be4",
   "metadata": {},
   "source": [
    "## Spatiotemporal CV\n",
    "\n",
    "For a meaningful analysis of forecast error for a spatiotemporal model, the test set must consist of locations that were not included in the training and at times in the future of training. To conduct this split, we use a custom function `train_test_split_spacetime`, that mimics the return format of the typicaly `sklearn` function `train_test_split`, while accounting for relationships in space and time."
   ]
  },
  {
   "cell_type": "code",
   "execution_count": null,
   "id": "907244fc-290a-4601-bae5-9fe91863737d",
   "metadata": {},
   "outputs": [],
   "source": [
    "# Print function\n",
    "print(inspect.getsource(train_test_split_spacetime))"
   ]
  },
  {
   "cell_type": "code",
   "execution_count": null,
   "id": "f8306404-1f9b-4c1b-935a-1a8f8d57a5b4",
   "metadata": {},
   "outputs": [],
   "source": [
    "reproducibility.set_seed(42)\n",
    "X_train, X_test, y_train, y_test = train_test_split_spacetime(\n",
    "    df, \n",
    "    test_days = 2,\n",
    "    spatial_test_frac = 0.2,\n",
    "    verbose = True\n",
    ")"
   ]
  },
  {
   "cell_type": "markdown",
   "id": "22db4c84-7f90-4473-861d-c2258b2a26d7",
   "metadata": {},
   "source": [
    "## Visualize Method\n",
    "\n",
    "Rolling window of 30 days, 28 train 2 test. Should match output of loop in notebook `2_loss.ipynb`.\n",
    "\n",
    "Plot based on this source: https://medium.com/@soumyachess1496/cross-validation-in-time-series-566ae4981ce4"
   ]
  },
  {
   "cell_type": "markdown",
   "id": "05bf8257-5a48-4822-b453-a75d00052a93",
   "metadata": {},
   "source": [
    "## Exploratory Plots"
   ]
  },
  {
   "cell_type": "markdown",
   "id": "633bce30-929a-41de-9776-08e622d5ba1d",
   "metadata": {},
   "source": [
    "### FMC Plots"
   ]
  },
  {
   "cell_type": "code",
   "execution_count": null,
   "id": "a9cde07c-7040-4a18-84ee-5c84c9f1b1f0",
   "metadata": {},
   "outputs": [],
   "source": [
    "dat = df[df.STID == \"CHAC2\"]\n",
    "times = np.arange(1600, 1750)\n",
    "fig, ax1 = plt.subplots()\n",
    "line1, = ax1.plot(dat.index[times], dat.fm.iloc[times], linestyle='-',c='#8BC084',label='FM Observed')\n",
    "ax1.set_xlabel(\"Time\")\n",
    "ax1.grid()\n",
    "ax1.set_ylim(0, 12)\n",
    "ax1.set_ylabel(\"FM (%)\")\n",
    "ax1twin = ax1.twinx()\n",
    "ax1.tick_params(axis='x', rotation=90)\n",
    "line2, = ax1twin.plot(dat.rain.iloc[times], c='b',label='Rain', alpha=.8)\n",
    "ax1twin.set_ylabel('Rain (mm/hr)')\n",
    "ax1twin.set_ylim(0, 8)\n",
    "ax1.set_title(f\"RAWS Station CHAC2 - No Rain\")\n",
    "\n",
    "lines = [line1, line2]\n",
    "labels = [line.get_label() for line in lines]\n",
    "ax1.legend(lines, labels, loc='upper left', bbox_to_anchor=(1.05, .95), fontsize='small')\n",
    "plt.tight_layout()\n",
    "plt.savefig('outputs/no_rain_plot.png')\n",
    "plt.show()"
   ]
  },
  {
   "cell_type": "code",
   "execution_count": null,
   "id": "92d0f764-91ca-40cd-908d-6c63c5f7b291",
   "metadata": {},
   "outputs": [],
   "source": [
    "dat = df[df.STID == \"CHAC2\"]\n",
    "times = np.arange(1600, 1820)\n",
    "fig, ax1 = plt.subplots(figsize=(8, 4))\n",
    "line1, = ax1.plot(dat.index[times], dat.fm.iloc[times], linestyle='-',c='#8BC084',label='FM Observed')\n",
    "ax1.set_xlabel(\"Time\")\n",
    "ax1.grid()\n",
    "ax1.set_ylim(0, 27)\n",
    "ax1.set_ylabel(\"FM (%)\")\n",
    "ax1twin = ax1.twinx()\n",
    "ax1.tick_params(axis='x', rotation=90)\n",
    "line2, = ax1twin.plot(dat.rain.iloc[times], c='b',label='Rain', alpha=.8)\n",
    "ax1twin.set_ylabel('Rain (mm/hr)')\n",
    "ax1twin.set_ylim(0, 8)\n",
    "ax1.set_title(f\"RAWS Station CHAC2 - No Rain\")\n",
    "\n",
    "lines = [line1, line2]\n",
    "labels = [line.get_label() for line in lines]\n",
    "ax1.legend(lines, labels, loc='upper left', bbox_to_anchor=(1.05, .95), fontsize='small')\n",
    "plt.tight_layout()\n",
    "plt.savefig('outputs/rain_plot.png')\n",
    "plt.show()"
   ]
  },
  {
   "cell_type": "code",
   "execution_count": null,
   "id": "acbd3749-5790-4b31-8764-cff3d2ee8133",
   "metadata": {},
   "outputs": [],
   "source": [
    "# dat = df[df.STID == \"CHAC2\"]\n",
    "plt.figure(figsize=(6, 4))\n",
    "times = np.arange(1600, 1750)\n",
    "plt.plot(dat.fm.iloc[times], linestyle='-',c='#8BC084',label='FM Observed')\n",
    "plt.plot(dat.rain.iloc[times], c='b',label='Rain', alpha=.8)\n",
    "plt.plot(dat.Ew.iloc[times],label='Wetting Equilibrium', linestyle='--',c='#7CCCEF', alpha=.8)\n",
    "plt.plot(dat.Ed.iloc[times],label='Drying Equilibrium', linestyle='--',c='#EF847C', alpha=.8)\n",
    "plt.ylabel(\"FM (%)\")\n",
    "plt.xlabel(\"Time\")\n",
    "plt.ylim(0, 14)\n",
    "plt.xticks(rotation=90, fontsize=8)\n",
    "plt.legend(loc='upper left', bbox_to_anchor=(1, 1), fontsize='small')\n",
    "plt.title(\"RAWS Station CHAC2 - No Rain\")\n",
    "plt.grid()\n",
    "plt.tight_layout()\n",
    "plt.savefig('outputs/eq_plot.png')\n",
    "plt.show()"
   ]
  },
  {
   "cell_type": "code",
   "execution_count": null,
   "id": "e256138b-b3d9-4d01-8892-a56f3ac49541",
   "metadata": {},
   "outputs": [],
   "source": [
    "fig, (ax1, ax2) = plt.subplots(1, 2)\n",
    "hours = 1000\n",
    "ax1.scatter(dat['rh'][0:hours], dat['fm'][0:hours], alpha=.8)\n",
    "ax1.set_ylabel(\"Fuel Moisture (%)\")\n",
    "ax1.set_xlabel(\"Relative Humidity (%)\")\n",
    "ax2.scatter(dat['temp'][0:hours], dat['fm'][0:hours], alpha=.8)\n",
    "ax2.set_xlabel(\"Temp (deg K)\")\n",
    "# plt.savefig('outputs/rh_temp_plot.png')"
   ]
  },
  {
   "cell_type": "code",
   "execution_count": null,
   "id": "7a850871-74af-4379-b277-a4772c5f5e73",
   "metadata": {},
   "outputs": [],
   "source": [
    "plt.scatter(dat['rh'][0:hours], dat['temp'][0:hours])"
   ]
  },
  {
   "cell_type": "code",
   "execution_count": null,
   "id": "eba429ca-ce39-4a8f-af13-0c2cfd7ab7ed",
   "metadata": {},
   "outputs": [],
   "source": [
    "plt.scatter(dat['temp'][0:hours], dat['rh'][0:hours])"
   ]
  },
  {
   "cell_type": "markdown",
   "id": "c903febd-ec23-471d-8acc-c615d780da98",
   "metadata": {},
   "source": [
    "## Map Stations"
   ]
  },
  {
   "cell_type": "code",
   "execution_count": null,
   "id": "c064422d-1967-4f43-9fbd-2ba161f6dbd3",
   "metadata": {},
   "outputs": [],
   "source": [
    "import plotly.express as px\n",
    "import plotly.graph_objects as go\n",
    "import random"
   ]
  },
  {
   "cell_type": "code",
   "execution_count": null,
   "id": "5572dac6-edfd-4875-a1dc-b3f2e4179734",
   "metadata": {},
   "outputs": [],
   "source": [
    "df['color'] = np.random.choice(['red', 'blue'], size=len(df))"
   ]
  },
  {
   "cell_type": "code",
   "execution_count": null,
   "id": "407205ff-d040-430d-ba3d-ea29d9084abc",
   "metadata": {},
   "outputs": [],
   "source": [
    "\n",
    "def make_map(df, box, save=None):\n",
    "    fig = px.scatter_mapbox(df, \n",
    "                        lat=\"lat\", \n",
    "                        lon=\"lon\", \n",
    "                        color=\"color\",\n",
    "                        zoom=6.5, \n",
    "                        height=1800,\n",
    "                        width=2400)\n",
    "\n",
    "    fig.add_trace(go.Scattermapbox(\n",
    "        mode=\"lines\",\n",
    "        lon=[box[0], box[2], box[2], box[0], box[0]],\n",
    "        lat=[box[1], box[1], box[3], box[3], box[1]],\n",
    "        marker=dict(size=8, color=\"black\"),\n",
    "        line=dict(width=1, color=\"black\"),\n",
    "        showlegend=False\n",
    "    ))\n",
    "    \n",
    "    center_lon=df['lon'].median()*.972\n",
    "    center_lat=df['lat'].median()*1.02\n",
    "    fig.update_layout(\n",
    "        mapbox_style=\"open-street-map\",\n",
    "        mapbox_center=dict(lat=center_lat, lon=center_lon)\n",
    "    )\n",
    "    fig.update_traces(marker=dict(size=22), showlegend=False)\n",
    "    fig.update_layout(margin={\"r\":0,\"t\":0,\"l\":0,\"b\":0})\n",
    "\n",
    "    if save is not None:      \n",
    "        fig.write_image(save)\n",
    "        \n",
    "    config = {\n",
    "            \"toImageButtonOptions\": {\n",
    "                \"format\": \"png\",  # Can also use \"jpeg\", \"svg\", etc.\n",
    "                \"height\": 1800,   # Image height in pixels\n",
    "                \"width\": 2400,    # Image width in pixels\n",
    "                \"scale\": 4.17     # Increase resolution to approximate 300 DPI\n",
    "            }\n",
    "        } \n",
    "    fig.show(config=config)\n",
    "    # return fig\n",
    "\n"
   ]
  },
  {
   "cell_type": "code",
   "execution_count": null,
   "id": "62d4168f-e4c4-4dd7-9e9d-3b620f057925",
   "metadata": {},
   "outputs": [],
   "source": [
    "df2 = df.drop_duplicates(subset = 'STID')\n",
    "df2.shape"
   ]
  },
  {
   "cell_type": "code",
   "execution_count": null,
   "id": "10a7b00a-c765-4440-86ef-c24902eb0179",
   "metadata": {},
   "outputs": [],
   "source": [
    "bbox = [-111, 37, -95, 46]"
   ]
  },
  {
   "cell_type": "code",
   "execution_count": null,
   "id": "282a23fb-e067-4b37-9757-2c4958ab2457",
   "metadata": {},
   "outputs": [],
   "source": [
    "make_map(df2, bbox, save=\"outputs/cv_plot.png\")"
   ]
  },
  {
   "cell_type": "code",
   "execution_count": null,
   "id": "dd9092fa-1d8a-443a-924e-864b1c7b2e84",
   "metadata": {},
   "outputs": [],
   "source": []
  }
 ],
 "metadata": {
  "kernelspec": {
   "display_name": "Python 3 (ipykernel)",
   "language": "python",
   "name": "python3"
  },
  "language_info": {
   "codemirror_mode": {
    "name": "ipython",
    "version": 3
   },
   "file_extension": ".py",
   "mimetype": "text/x-python",
   "name": "python",
   "nbconvert_exporter": "python",
   "pygments_lexer": "ipython3",
   "version": "3.9.12"
  }
 },
 "nbformat": 4,
 "nbformat_minor": 5
}
