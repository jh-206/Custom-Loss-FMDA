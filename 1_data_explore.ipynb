{
 "cells": [
  {
   "cell_type": "markdown",
   "id": "903c08a3-5caa-4175-af18-5ce44fbdc9aa",
   "metadata": {},
   "source": [
    "# Data Exploration"
   ]
  },
  {
   "cell_type": "code",
   "execution_count": null,
   "id": "ac0eae76-7863-427a-afa4-e95e1e2c9834",
   "metadata": {},
   "outputs": [],
   "source": [
    "import sys\n",
    "sys.path.append('src')\n",
    "import pandas as pd\n",
    "import numpy as np\n",
    "from datetime import datetime, timedelta\n",
    "import inspect\n",
    "import matplotlib.pyplot as plt\n",
    "from sklearn.model_selection import train_test_split\n",
    "# Local Modules\n",
    "from utils import make_st_map_interactive\n",
    "from data_funcs import train_test_split_spacetime\n",
    "from metrics import ros\n",
    "import reproducibility"
   ]
  },
  {
   "cell_type": "markdown",
   "id": "b861122b-783c-43d6-8f26-01cb3e6a24df",
   "metadata": {},
   "source": [
    "## Cross-Validation Setup \n",
    "\n",
    "To get reliable estimates of forecast error of a spatiotemporal model, care must be taken to avoid data leakage. See: https://github.com/jh-206/FRAMSC-2024---FMDA-Data-and-CV-Methods/blob/main/Spatiotemporal%20Cross%20Validation.ipynb"
   ]
  },
  {
   "cell_type": "code",
   "execution_count": null,
   "id": "884d31cb-a064-4c22-94bd-3a2e052987ed",
   "metadata": {},
   "outputs": [],
   "source": [
    "df = pd.read_pickle(\"data/raws_df.pkl\")"
   ]
  },
  {
   "cell_type": "code",
   "execution_count": null,
   "id": "b6e7072b-e49c-4980-b735-50b2d421db6a",
   "metadata": {},
   "outputs": [],
   "source": [
    "# make_st_map_interactive(df)"
   ]
  },
  {
   "cell_type": "code",
   "execution_count": null,
   "id": "f2b04e98-1f56-4d5a-949e-d3a16d1be90a",
   "metadata": {},
   "outputs": [],
   "source": [
    "print(f\"Total Locations: {len(df.STID.unique())}\")\n",
    "print(f\"Earliest Time: {df.index.min()}\")\n",
    "print(f\"Lates Time: {df.index.max()}\")\n",
    "df.head()"
   ]
  },
  {
   "cell_type": "markdown",
   "id": "7a25c51d-f02a-486e-b745-ac1c017bf4fd",
   "metadata": {},
   "source": [
    "## Summary Stats"
   ]
  },
  {
   "cell_type": "code",
   "execution_count": null,
   "id": "93b53c31-7a20-4d77-b339-571e2f662144",
   "metadata": {},
   "outputs": [],
   "source": [
    "print(f\"Min Date: {df.date.min()}\")\n",
    "print(f\"Max Date: {df.date.max()}\")"
   ]
  },
  {
   "cell_type": "code",
   "execution_count": null,
   "id": "cd545921-20f7-41d3-8f7e-de1efcad805b",
   "metadata": {},
   "outputs": [],
   "source": [
    "df.shape"
   ]
  },
  {
   "cell_type": "code",
   "execution_count": null,
   "id": "b6812c91-ee6d-4055-8847-287d45407c48",
   "metadata": {},
   "outputs": [],
   "source": [
    "cols_list = [\"Ed\", \"rain\", \"wind\", \"solar\", \"hour\", \"doy\", \"lat\", \"lon\", \"elev\"]\n",
    "summary_df = df[cols_list].agg(['min', 'max', 'mean']).transpose()\n",
    "summary_df = summary_df.round(2)\n",
    "summary_df = summary_df.map(lambda x: '{:.0f}'.format(x) if x.is_integer() else '{:.2f}'.format(x))\n",
    "summary_df"
   ]
  },
  {
   "cell_type": "code",
   "execution_count": null,
   "id": "0611f8e6-fc6f-4183-8dd5-1ba9b7b38ddf",
   "metadata": {},
   "outputs": [],
   "source": [
    "print(f\"Data Shape: {df.shape}\")"
   ]
  },
  {
   "cell_type": "code",
   "execution_count": null,
   "id": "fdfd5b6a-594a-48d6-8b36-e17dd0c60b1f",
   "metadata": {},
   "outputs": [],
   "source": [
    "print(summary_df.to_latex())"
   ]
  },
  {
   "cell_type": "markdown",
   "id": "0ed19fc1-782e-4d69-9fab-1a2ee1dd2be4",
   "metadata": {},
   "source": [
    "## Spatiotemporal CV\n",
    "\n",
    "For a meaningful analysis of forecast error for a spatiotemporal model, the test set must consist of locations that were not included in the training and at times in the future of training. To conduct this split, we use a custom function `train_test_split_spacetime`, that mimics the return format of the typicaly `sklearn` function `train_test_split`, while accounting for relationships in space and time."
   ]
  },
  {
   "cell_type": "code",
   "execution_count": null,
   "id": "907244fc-290a-4601-bae5-9fe91863737d",
   "metadata": {},
   "outputs": [],
   "source": [
    "# Print function\n",
    "print(inspect.getsource(train_test_split_spacetime))"
   ]
  },
  {
   "cell_type": "code",
   "execution_count": null,
   "id": "f8306404-1f9b-4c1b-935a-1a8f8d57a5b4",
   "metadata": {},
   "outputs": [],
   "source": [
    "reproducibility.set_seed(42)\n",
    "X_train, X_test, y_train, y_test = train_test_split_spacetime(\n",
    "    df, \n",
    "    test_days = 2,\n",
    "    spatial_test_frac = 0.2,\n",
    "    verbose = True\n",
    ")"
   ]
  },
  {
   "cell_type": "markdown",
   "id": "22db4c84-7f90-4473-861d-c2258b2a26d7",
   "metadata": {},
   "source": [
    "## Split Into Periods\n",
    "\n",
    "The dataset will be divided into various train/test splits. The dataset will be split up by month, and in each month a train/test split will be made. The test period will be 2 days in each case. "
   ]
  },
  {
   "cell_type": "code",
   "execution_count": null,
   "id": "5e48ec6a-ca36-4275-9ace-b646e07b05a5",
   "metadata": {},
   "outputs": [],
   "source": [
    "# Get unique month and year combos in the data\n",
    "month_year = df.index.to_period('M').unique()\n",
    "print(month_year)"
   ]
  },
  {
   "cell_type": "code",
   "execution_count": null,
   "id": "64bd6834-a4e5-476e-b4ed-25617c81d2d7",
   "metadata": {},
   "outputs": [],
   "source": [
    "for my in month_year:\n",
    "    print(\"~\"*50)\n",
    "    month = my.month\n",
    "    year = my.year\n",
    "    print(f\"Splitting data for month: {my}\")\n",
    "    df_temp = df[(df.index.month == month) & (df.index.year == year)]\n",
    "    print(f\"Total observations: {df_temp.shape}\")\n",
    "    X_train, X_test, y_train, y_test = train_test_split_spacetime(\n",
    "        df_temp, \n",
    "        test_days = 2,\n",
    "        spatial_test_frac = 0.2,\n",
    "        verbose = True\n",
    "    )"
   ]
  },
  {
   "cell_type": "markdown",
   "id": "05bf8257-5a48-4822-b453-a75d00052a93",
   "metadata": {},
   "source": [
    "## Exploratory Plots"
   ]
  },
  {
   "cell_type": "code",
   "execution_count": null,
   "id": "4a5b821a-c561-414d-a400-44bbcb96c690",
   "metadata": {},
   "outputs": [],
   "source": [
    "dat = df[df.STID == \"CHAC2\"]\n",
    "times = np.arange(1600, 1750)\n",
    "plt.figure(figsize=(6, 4))\n",
    "plt.plot(dat.fm.iloc[times], linestyle='-',c='#8BC084',label='FM Observed')\n",
    "plt.plot(dat.rain.iloc[times], c='b',label='Rain', alpha=.8)\n",
    "plt.ylabel(\"FM (%)\")\n",
    "plt.xlabel(\"Time\")\n",
    "plt.ylim(0, 14)\n",
    "plt.xticks(rotation=90, fontsize=8)\n",
    "plt.legend(loc='upper left', bbox_to_anchor=(1, 1), fontsize='small')\n",
    "plt.title(\"RAWS Station CHAC2 - No Rain\")\n",
    "plt.grid()\n",
    "plt.tight_layout()\n",
    "plt.savefig('outputs/no_rain_plot.png')\n",
    "plt.show()"
   ]
  },
  {
   "cell_type": "code",
   "execution_count": null,
   "id": "e5f9a859-6762-4d32-8fdb-f28f81b6b606",
   "metadata": {},
   "outputs": [],
   "source": [
    "# dat = df[df.STID == \"CHAC2\"]\n",
    "times = np.arange(1600, 1820)\n",
    "plt.figure(figsize=(8, 4))\n",
    "plt.plot(dat.fm.iloc[times], linestyle='-',c='#8BC084',label='FM Observed')\n",
    "plt.plot(dat.rain.iloc[times], c='b',label='Rain', alpha=.8)\n",
    "plt.ylabel(\"FM (%)\")\n",
    "plt.xlabel(\"Time\")\n",
    "plt.ylim(0, 27)\n",
    "plt.xticks(rotation=90, fontsize=8)\n",
    "plt.legend(loc='upper left', bbox_to_anchor=(1, 1), fontsize='small')\n",
    "plt.title(\"RAWS Station CHAC2 - With Rain\")\n",
    "plt.grid()\n",
    "plt.tight_layout()\n",
    "plt.savefig('outputs/rain_plot.png')\n",
    "plt.show()"
   ]
  },
  {
   "cell_type": "code",
   "execution_count": null,
   "id": "acbd3749-5790-4b31-8764-cff3d2ee8133",
   "metadata": {},
   "outputs": [],
   "source": [
    "# dat = df[df.STID == \"CHAC2\"]\n",
    "plt.figure(figsize=(6, 4))\n",
    "times = np.arange(1600, 1750)\n",
    "plt.plot(dat.fm.iloc[times], linestyle='-',c='#8BC084',label='FM Observed')\n",
    "plt.plot(dat.rain.iloc[times], c='b',label='Rain', alpha=.8)\n",
    "plt.plot(dat.Ew.iloc[times],label='Wetting Equilibrium', linestyle='--',c='#7CCCEF', alpha=.8)\n",
    "plt.plot(dat.Ed.iloc[times],label='Drying Equilibrium', linestyle='--',c='#EF847C', alpha=.8)\n",
    "plt.ylabel(\"FM (%)\")\n",
    "plt.xlabel(\"Time\")\n",
    "plt.ylim(0, 14)\n",
    "plt.xticks(rotation=90, fontsize=8)\n",
    "plt.legend(loc='upper left', bbox_to_anchor=(1, 1), fontsize='small')\n",
    "plt.title(\"RAWS Station CHAC2 - No Rain\")\n",
    "plt.grid()\n",
    "plt.tight_layout()\n",
    "plt.savefig('outputs/eq_plot.png')\n",
    "plt.show()"
   ]
  },
  {
   "cell_type": "code",
   "execution_count": null,
   "id": "e256138b-b3d9-4d01-8892-a56f3ac49541",
   "metadata": {},
   "outputs": [],
   "source": [
    "fig, (ax1, ax2) = plt.subplots(1, 2)\n",
    "hours = 1000\n",
    "ax1.scatter(dat['rh'][0:hours], dat['fm'][0:hours], alpha=.8)\n",
    "ax1.set_ylabel(\"Fuel Moisture (%)\")\n",
    "ax1.set_xlabel(\"Relative Humidity (%)\")\n",
    "ax2.scatter(dat['temp'][0:hours], dat['fm'][0:hours], alpha=.8)\n",
    "ax2.set_xlabel(\"Temp (deg K)\")\n",
    "plt.savefig('outputs/rh_temp_plot.png')"
   ]
  },
  {
   "cell_type": "code",
   "execution_count": null,
   "id": "7af2e198-ce68-4bc0-8a94-3bcf95d9ddc4",
   "metadata": {},
   "outputs": [],
   "source": [
    "dat = dat.dropna()\n",
    "print(f\"RH correlation with FMC: {np.corrcoef(dat['rh'][0:hours], dat['fm'][0:hours])[0,1]}\")\n",
    "print(f\"Temp correlation with FMC: {np.corrcoef(dat['temp'][0:hours], dat['fm'][0:hours])[0,1]}\")"
   ]
  },
  {
   "cell_type": "code",
   "execution_count": null,
   "id": "35c53f3b-2047-4470-95f3-9c71f3bee458",
   "metadata": {},
   "outputs": [],
   "source": [
    "fig, (ax1, ax2) = plt.subplots(1, 2)\n",
    "ax1.scatter(dat['rh'][0:hours], dat['Ew'][0:hours], alpha=.8)\n",
    "ax1.set_ylabel(\"Equilibrium FM (%)\")\n",
    "ax1.set_xlabel(\"Relative Humidity (%)\")\n",
    "ax2.scatter(dat['temp'][0:hours], dat['Ew'][0:hours], alpha=.8)\n",
    "ax2.set_xlabel(\"Temp (deg K)\")\n",
    "plt.savefig('outputs/eq_rh_temp_plot.png')"
   ]
  },
  {
   "cell_type": "code",
   "execution_count": null,
   "id": "8679e6fd-7b24-4aeb-b98a-2d2b881d675c",
   "metadata": {},
   "outputs": [],
   "source": [
    "print(f\"RH correlation with EQ: {np.corrcoef(dat['rh'][0:hours], dat['Ew'][0:hours])[0,1]}\")\n",
    "print(f\"Temp correlation with EQ: {np.corrcoef(dat['temp'][0:hours], dat['Ew'][0:hours])[0,1]}\")"
   ]
  },
  {
   "cell_type": "code",
   "execution_count": null,
   "id": "a723a554-019a-4dd0-9765-83041f709fd7",
   "metadata": {},
   "outputs": [],
   "source": []
  },
  {
   "cell_type": "code",
   "execution_count": null,
   "id": "c20874b7-59e4-4bba-9b9f-116af987516f",
   "metadata": {},
   "outputs": [],
   "source": []
  },
  {
   "cell_type": "code",
   "execution_count": null,
   "id": "8be74e57-318e-437a-bb4f-2111e686f2f8",
   "metadata": {},
   "outputs": [],
   "source": []
  }
 ],
 "metadata": {
  "kernelspec": {
   "display_name": "Python 3 (ipykernel)",
   "language": "python",
   "name": "python3"
  },
  "language_info": {
   "codemirror_mode": {
    "name": "ipython",
    "version": 3
   },
   "file_extension": ".py",
   "mimetype": "text/x-python",
   "name": "python",
   "nbconvert_exporter": "python",
   "pygments_lexer": "ipython3",
   "version": "3.10.13"
  }
 },
 "nbformat": 4,
 "nbformat_minor": 5
}
