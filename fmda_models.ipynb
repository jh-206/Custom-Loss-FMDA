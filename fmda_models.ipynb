{
 "cells": [
  {
   "cell_type": "markdown",
   "id": "9131b151-f29c-47da-8ef8-880f0017d559",
   "metadata": {},
   "source": [
    "## Setup"
   ]
  },
  {
   "cell_type": "code",
   "execution_count": null,
   "id": "3f20fc2f-ff77-4cbb-98ec-27ecbb88a306",
   "metadata": {},
   "outputs": [],
   "source": [
    "import sys\n",
    "sys.path.insert(0,'src')"
   ]
  },
  {
   "cell_type": "code",
   "execution_count": null,
   "id": "c7291842-a72d-4c4e-9312-6c0c31df18e0",
   "metadata": {},
   "outputs": [],
   "source": [
    "# both can change\n",
    "# Environment\n",
    "import numpy as np\n",
    "import pandas as pd\n",
    "import tensorflow as tf\n",
    "from keras.models import Sequential\n",
    "from keras.layers import Dense, SimpleRNN\n",
    "from keras.utils import plot_model\n",
    "\n",
    "from sklearn.preprocessing import MinMaxScaler\n",
    "from sklearn.metrics import mean_squared_error\n",
    "import math\n",
    "import json\n",
    "import matplotlib.pyplot as plt\n",
    "import tensorflow as tf\n",
    "import keras.backend as K\n",
    "from scipy.interpolate import LinearNDInterpolator, interpn\n",
    "from scipy.optimize import root\n",
    "import pickle, os\n",
    "from utils import hash2\n",
    "%matplotlib inline\n",
    "\n",
    "# Local modules for handling data and running moisture models\n",
    "import data_funcs as datf\n",
    "from data_funcs import format_raws, retrieve_raws, format_precip, fixnan, load_and_fix_data\n",
    "from data_funcs import raws_data, synthetic_data, plot_data, check_data, rmse_data, to_json, from_json\n",
    "import moisture_models as mod\n",
    "from moisture_rnn import run_case, run_rnn, create_RNN_2, staircase, create_rnn_data, train_rnn, rnn_predict\n"
   ]
  },
  {
   "cell_type": "code",
   "execution_count": null,
   "id": "4df6e1ee-ff6e-4f10-8f90-937e11afc975",
   "metadata": {},
   "outputs": [],
   "source": [
    "import reproducibility"
   ]
  },
  {
   "cell_type": "markdown",
   "id": "eebb5f2a-d5d9-47db-bc01-87a6560c19e5",
   "metadata": {},
   "source": [
    "## User options"
   ]
  },
  {
   "cell_type": "code",
   "execution_count": null,
   "id": "1de795c3-3cad-454c-9f0b-94a9e937b21a",
   "metadata": {},
   "outputs": [],
   "source": [
    "# Change directory for data read/write\n",
    "\n",
    "dict_file='data/raws_dat.pickle' # input path of FMDA dictionaries\n",
    "output_path='outputs/output.json' # RNN output file"
   ]
  },
  {
   "cell_type": "code",
   "execution_count": null,
   "id": "09e679c0-b489-4e85-b20b-2240bc55dbc9",
   "metadata": {},
   "outputs": [],
   "source": [
    "param_sets={}\n",
    "param_sets.update({2:{'id':2,\n",
    "        'purpose':'test 2',\n",
    "        'cases':'all',\n",
    "        'scale':0.8,        # every feature in [0, scale]\n",
    "        'rain_do':True,\n",
    "        'verbose':False,\n",
    "        'timesteps':5,\n",
    "        'activation':['tanh','tanh'],\n",
    "        'hidden_units':20,  \n",
    "        'dense_units':1,    # do not change\n",
    "        'dense_layers':1,   # do not change\n",
    "        'DeltaE':[0,-1],    # bias correction\n",
    "        'centering':[0.0,0.0],  # should be activation at 0\n",
    "        'synthetic':False,  # run also synthetic cases\n",
    "        'T1': 0.1,          # 1/fuel class (10)\n",
    "        'fm_raise_vs_rain': 2.0,         # fm increase per mm rain \n",
    "        'train_frac':0.5,  # time fraction to spend on training\n",
    "        'epochs':10000,\n",
    "        'verbose_fit':False,\n",
    "        'verbose_weights':False,\n",
    "}})"
   ]
  },
  {
   "cell_type": "code",
   "execution_count": null,
   "id": "a12aaf59-9276-484d-be48-c704a7c452da",
   "metadata": {},
   "outputs": [],
   "source": [
    "# read test datasets\n",
    "test_dict={}\n",
    "test_dict.update(load_and_fix_data(dict_file))\n",
    "print(test_dict.keys())"
   ]
  },
  {
   "cell_type": "code",
   "execution_count": null,
   "id": "7ff87917-536b-4451-a472-90940d96a6cf",
   "metadata": {},
   "outputs": [],
   "source": [
    "output={}\n",
    "print('params_sets.keys()=',param_sets.keys())\n",
    "print(json.dumps(param_sets,indent=4,sort_keys=True))\n",
    "\n",
    "for i in param_sets:\n",
    "#for params in param_sets:\n",
    "    print('i=',i)\n",
    "    params=param_sets[i]\n",
    "    #print('params=',params)\n",
    "    if params['cases'] == 'all':\n",
    "        params['cases'] = list(test_dict.keys())\n",
    "        print(\"expanding 'all' to\",params['cases'])\n",
    "    output[i]={'params':params,'cases':{}}\n",
    "    cases = params['cases']\n",
    "    print('cases=',cases)\n",
    "    for case in cases:\n",
    "        print('case=',case)\n",
    "        case_data=test_dict[case]\n",
    "        if not 'title' in case_data.keys():\n",
    "            case_data['title']=case\n",
    "        if params['synthetic'] or 'Synth' not in case_data['title']: \n",
    "            output[i]['cases'][case]=run_case(case_data,params)  # add to results\n",
    "            print('*** params',i,'case',case,'summary ***')\n",
    "            print('params=',params)\n",
    "            print('outputs=',json.dumps(output[i]['cases'][case],indent=4,sort_keys=True))\n",
    "            print('writing the results to file',output_path)\n",
    "            json.dump(output,open(output_path,'w'),indent=4,sort_keys=True)\n",
    "    print('cases=',cases)\n",
    "    \n",
    "print(json.dumps(output,indent=4,sort_keys=True))\n",
    "   "
   ]
  },
  {
   "cell_type": "code",
   "execution_count": null,
   "id": "d64157c2-24e6-4e42-9c8d-0be45ce0c529",
   "metadata": {},
   "outputs": [],
   "source": []
  },
  {
   "cell_type": "code",
   "execution_count": null,
   "id": "ef362ca4-02b2-45a7-8a69-ea43b4061bbf",
   "metadata": {},
   "outputs": [],
   "source": []
  }
 ],
 "metadata": {
  "kernelspec": {
   "display_name": "Python 3 (ipykernel)",
   "language": "python",
   "name": "python3"
  },
  "language_info": {
   "codemirror_mode": {
    "name": "ipython",
    "version": 3
   },
   "file_extension": ".py",
   "mimetype": "text/x-python",
   "name": "python",
   "nbconvert_exporter": "python",
   "pygments_lexer": "ipython3",
   "version": "3.9.12"
  }
 },
 "nbformat": 4,
 "nbformat_minor": 5
}
