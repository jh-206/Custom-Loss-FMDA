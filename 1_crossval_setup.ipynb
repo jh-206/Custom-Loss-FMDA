{
 "cells": [
  {
   "cell_type": "markdown",
   "id": "b861122b-783c-43d6-8f26-01cb3e6a24df",
   "metadata": {},
   "source": [
    "# Cross-Validation Setup \n",
    "\n",
    "The purpose of this notebook is to split the collected data into training and test splits.\n",
    "\n",
    "To get reliable estimates of forecast error of a spatiotemporal model, care must be taken to avoid data leakage. See: https://github.com/jh-206/FRAMSC-2024---FMDA-Data-and-CV-Methods/blob/main/Spatiotemporal%20Cross%20Validation.ipynb"
   ]
  },
  {
   "cell_type": "code",
   "execution_count": null,
   "id": "ac0eae76-7863-427a-afa4-e95e1e2c9834",
   "metadata": {},
   "outputs": [],
   "source": [
    "import sys\n",
    "sys.path.append('src')\n",
    "import pandas as pd\n",
    "import numpy as np\n",
    "from datetime import datetime, timedelta\n",
    "import inspect\n",
    "from sklearn.model_selection import train_test_split\n",
    "# Local Modules\n",
    "from utils import make_st_map_interactive\n",
    "from data_funcs import train_test_split_spacetime\n",
    "import reproducibility"
   ]
  },
  {
   "cell_type": "code",
   "execution_count": null,
   "id": "884d31cb-a064-4c22-94bd-3a2e052987ed",
   "metadata": {},
   "outputs": [],
   "source": [
    "df = pd.read_pickle(\"data/rocky_2023_05-09.pkl\")"
   ]
  },
  {
   "cell_type": "code",
   "execution_count": null,
   "id": "b6e7072b-e49c-4980-b735-50b2d421db6a",
   "metadata": {},
   "outputs": [],
   "source": [
    "# make_st_map_interactive(df)"
   ]
  },
  {
   "cell_type": "code",
   "execution_count": null,
   "id": "f2b04e98-1f56-4d5a-949e-d3a16d1be90a",
   "metadata": {},
   "outputs": [],
   "source": [
    "df"
   ]
  },
  {
   "cell_type": "markdown",
   "id": "0ed19fc1-782e-4d69-9fab-1a2ee1dd2be4",
   "metadata": {},
   "source": [
    "## Spatiotemporal CV\n",
    "\n",
    "For a meaningful analysis of forecast error for a spatiotemporal model, the test set must consist of locations that were not included in the training and at times in the future of training. To conduct this split, we use a custom function `train_test_split_spacetime`, that mimics the return format of the typicaly `sklearn` function `train_test_split`, while accounting for relationships in space and time."
   ]
  },
  {
   "cell_type": "code",
   "execution_count": null,
   "id": "907244fc-290a-4601-bae5-9fe91863737d",
   "metadata": {},
   "outputs": [],
   "source": [
    "# Print function\n",
    "print(inspect.getsource(train_test_split_spacetime))"
   ]
  },
  {
   "cell_type": "code",
   "execution_count": null,
   "id": "d28b991a-6bb1-4e81-8a37-e11b57f17e79",
   "metadata": {},
   "outputs": [],
   "source": [
    "reproducibility.set_seed(4)\n",
    "X_train, X_test, y_train, y_test = train_test_split_spacetime(df)"
   ]
  },
  {
   "cell_type": "code",
   "execution_count": null,
   "id": "220457ea-dde7-45c5-a15e-cb8a96892865",
   "metadata": {},
   "outputs": [],
   "source": [
    "print(f\"Number of Training Observations: {X_train.shape[0]}\")\n",
    "print(f\"Number of Training Locations: {len(X_train.stid.unique())}\")\n",
    "print(f\"Time range Train: {X_train.date.min().strftime('%Y-%m-%d %H:%M:%S'), X_train.date.max().strftime('%Y-%m-%d %H:%M:%S')}\")\n",
    "print(\"~\"*50)\n",
    "print(f\"Number of Test Observations: {X_test.shape[0]}\")\n",
    "print(f\"Number of Test Locations: {len(X_test.stid.unique())}\")\n",
    "print(f\"Time range Train: {X_test.date.min().strftime('%Y-%m-%d %H:%M:%S'), X_test.date.max().strftime('%Y-%m-%d %H:%M:%S')}\")"
   ]
  },
  {
   "cell_type": "code",
   "execution_count": null,
   "id": "8ad8a2ec-19d4-423d-a91b-1cad7bc494be",
   "metadata": {},
   "outputs": [],
   "source": []
  }
 ],
 "metadata": {
  "kernelspec": {
   "display_name": "Python 3 (ipykernel)",
   "language": "python",
   "name": "python3"
  },
  "language_info": {
   "codemirror_mode": {
    "name": "ipython",
    "version": 3
   },
   "file_extension": ".py",
   "mimetype": "text/x-python",
   "name": "python",
   "nbconvert_exporter": "python",
   "pygments_lexer": "ipython3",
   "version": "3.10.13"
  }
 },
 "nbformat": 4,
 "nbformat_minor": 5
}
