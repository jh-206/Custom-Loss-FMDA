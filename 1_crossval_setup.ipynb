{
 "cells": [
  {
   "cell_type": "code",
   "execution_count": null,
   "id": "ac0eae76-7863-427a-afa4-e95e1e2c9834",
   "metadata": {},
   "outputs": [],
   "source": [
    "import pandas as pd\n",
    "import numpy as np\n",
    "from sklearn.model_selection import train_test_split"
   ]
  },
  {
   "cell_type": "markdown",
   "id": "b861122b-783c-43d6-8f26-01cb3e6a24df",
   "metadata": {},
   "source": [
    "# Cross-Validation Setup \n",
    "\n",
    "The purpose of this notebook is to split the collected data into training and test splits.\n",
    "\n",
    "To get reliable estimates of forecast error of a spatiotemporal model, care must be taken to avoid data leakage. See: https://github.com/jh-206/FRAMSC-2024---FMDA-Data-and-CV-Methods/blob/main/Spatiotemporal%20Cross%20Validation.ipynb"
   ]
  },
  {
   "cell_type": "code",
   "execution_count": null,
   "id": "884d31cb-a064-4c22-94bd-3a2e052987ed",
   "metadata": {},
   "outputs": [],
   "source": [
    "df = pd.read_pickle(\"data/rocky_2023_06-08.pkl\")"
   ]
  },
  {
   "cell_type": "code",
   "execution_count": null,
   "id": "3bb7e017-9c79-497e-bfc6-e98ee932e6be",
   "metadata": {},
   "outputs": [],
   "source": [
    "from src.utils import make_st_map"
   ]
  },
  {
   "cell_type": "code",
   "execution_count": null,
   "id": "b6e7072b-e49c-4980-b735-50b2d421db6a",
   "metadata": {},
   "outputs": [],
   "source": [
    "x = make_st_map(df)"
   ]
  },
  {
   "cell_type": "code",
   "execution_count": null,
   "id": "7d1684cf-2b55-4690-addf-b54736019203",
   "metadata": {},
   "outputs": [],
   "source": [
    "import numpy as np\n",
    "import matplotlib.pyplot as plt\n",
    "from mpl_toolkits.basemap import Basemap\n",
    "from matplotlib.patches import Polygon\n",
    "\n",
    "def make_st_map(df):\n",
    "    fig = plt.figure()\n",
    "    ax = fig.add_subplot(111)\n",
    "    \n",
    "    buf = 2.5\n",
    "    lons = (np.amin(df.lon), np.amax(df.lon))\n",
    "    lats = (np.amin(df.lat), np.amax(df.lat))\n",
    "    map = Basemap(projection='cyl', llcrnrlat=lats[0]-buf, urcrnrlat=lats[1]+buf,\n",
    "                    llcrnrlon=lons[0]-buf,urcrnrlon=lons[1]+buf, resolution=\"i\")\n",
    "    map.drawcoastlines()\n",
    "    map.drawcountries()\n",
    "    map.drawstates()\n",
    "\n",
    "    map.arcgisimage(service=\"World_Street_Map\", xpixels=1000, verbose=False)\n",
    "    \n",
    "    x, y = map(df['lon'].values, df['lat'].values)\n",
    "    map.scatter(x, y, marker='o', edgecolor='black', alpha=.3, linewidth=.7)\n",
    "    \n",
    "    # Add a rectangle representing the bounding box\n",
    "    vertices = [map(lons[0], lats[1]), map(lons[1], lats[1]), \n",
    "                map(lons[1], lats[0]), map(lons[0], lats[0])]\n",
    "    bounding_box = Polygon(vertices, edgecolor='r', alpha=.5, linewidth=1.5, facecolor='none', zorder=5)\n",
    "\n",
    "    ax.add_patch(bounding_box)\n",
    "    \n",
    "    return "
   ]
  },
  {
   "cell_type": "code",
   "execution_count": null,
   "id": "21e81c35-e1c3-4cfb-b72d-f580cb4aac0d",
   "metadata": {},
   "outputs": [],
   "source": [
    "make_st_map(df)"
   ]
  },
  {
   "cell_type": "markdown",
   "id": "cc6a64b7-b577-41a2-885e-9179057742c1",
   "metadata": {},
   "source": [
    "## Split Stations\n",
    "\n",
    "One set of stations to be used to train models, one to predict."
   ]
  },
  {
   "cell_type": "code",
   "execution_count": null,
   "id": "68a04bc8-358d-4a49-bd65-473286d3be73",
   "metadata": {},
   "outputs": [],
   "source": [
    "sts = df.stid.unique()\n",
    "train_stid, test_stid = train_test_split(sts, test_size=0.2, random_state=42)\n",
    "print(f\"Number of Unique RAWS Stations: {len(sts)}\")\n",
    "print(f\"Number of Training Sites: {len(train_stid)}\")\n",
    "print(f\"Number of Test Sites: {len(test_stid)}\")"
   ]
  },
  {
   "cell_type": "markdown",
   "id": "60fce9b8-f738-4853-b542-2f29be5e01ce",
   "metadata": {},
   "source": [
    "## Split Times"
   ]
  },
  {
   "cell_type": "code",
   "execution_count": null,
   "id": "8ad8a2ec-19d4-423d-a91b-1cad7bc494be",
   "metadata": {},
   "outputs": [],
   "source": []
  }
 ],
 "metadata": {
  "kernelspec": {
   "display_name": "Python 3 (ipykernel)",
   "language": "python",
   "name": "python3"
  },
  "language_info": {
   "codemirror_mode": {
    "name": "ipython",
    "version": 3
   },
   "file_extension": ".py",
   "mimetype": "text/x-python",
   "name": "python",
   "nbconvert_exporter": "python",
   "pygments_lexer": "ipython3",
   "version": "3.9.12"
  }
 },
 "nbformat": 4,
 "nbformat_minor": 5
}
